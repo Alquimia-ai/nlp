{
 "cells": [
  {
   "attachments": {
    "344589e4-0ff3-4ec2-a148-5cb3174508f0.png": {
     "image/png": "[encoded data removed]"
    }
   },
   "cell_type": "markdown",
   "id": "46728896-7513-499e-820b-fc0020390e70",
   "metadata": {},
   "source": [
    "![alquimiaWhite.png](attachment:344589e4-0ff3-4ec2-a148-5cb3174508f0.png)"
   ]
  },
  {
   "cell_type": "markdown",
   "id": "d4096a22-e395-48dc-a865-e0e0d619b1bc",
   "metadata": {},
   "source": [
    "# Train token-classification model\n",
    "\n",
    "Token classification assigns a label to individual tokens in a sentence. One of the most common token classification tasks is `Named Entity Recognition (NER)`. NER attempts to find a label for each entity in a sentence, such as a person, location, or organization.\n",
    "\n",
    "\n",
    "This notebook is intended to train `token-classification` models based on `distilbert base uncased` model. To do so we are using [Transformers 🤗🤗](https://huggingface.co/docs/transformers/index).\n"
   ]
  },
  {
   "cell_type": "markdown",
   "id": "e7f41e97-43ca-417c-92ef-d797c53acdc4",
   "metadata": {
    "tags": []
   },
   "source": [
    "### Install Required libs && set env variables 📥📥"
   ]
  },
  {
   "cell_type": "code",
   "execution_count": null,
   "id": "4d0cb2bf-7c7f-4e7a-a2ad-cbc5bd2141ad",
   "metadata": {
    "tags": []
   },
   "outputs": [],
   "source": [
    "# Step 1: Install necessary libraries\n",
    "!pip install datasets evaluate transformers[sentencepiece] -q\n",
    "!pip install accelerate seqeval mlflow optimum[openvino,nncf] -q"
   ]
  },
  {
   "cell_type": "code",
   "execution_count": null,
   "id": "9ac45d34-f9fb-4a22-b25f-b8e3bde74f54",
   "metadata": {},
   "outputs": [],
   "source": [
    "import mlflow\n",
    "\n",
    "## Set mlflow tracking URI\n",
    "mlflow.set_tracking_uri(os.environ.get(\"MLFLOW_TRACKING_URI\"))\n",
    "\n",
    "## Load the bucket and file path\n",
    "bucket_name =  os.environ['bucket']\n",
    "\n",
    "## AWS_ACCESS_KEY_ID & AWS_SECRET_ACCESS_KEY should be set as Env variables\n",
    "key_id = os.environ.get('S3_ACCESS_KEY_ID')\n",
    "secret_key = os.environ.get('S3_SECRET_ACCESS_KEY')"
   ]
  },
  {
   "cell_type": "markdown",
   "id": "14bb6314-c42c-4335-aaef-40be21f2e3e1",
   "metadata": {
    "tags": []
   },
   "source": [
    "### Assign a name & version to your deployment 🧙‍♂️🧙‍♂️\n",
    "\n",
    "This process is crucial mainly because a `token-classification` model can be intended for a huge amount of approaches"
   ]
  },
  {
   "cell_type": "code",
   "execution_count": null,
   "id": "f6fdb744-0fed-43da-8639-50f832f412ef",
   "metadata": {
    "tags": []
   },
   "outputs": [],
   "source": [
    "import ipywidgets as widgets\n",
    "from IPython.display import display\n",
    "\n",
    "# Creating a box layout for better widget organization\n",
    "box_layout = widgets.Layout(display='flex',\n",
    "                            flex_flow='row',\n",
    "                            justify_content='space-between',\n",
    "                            width='50%')\n",
    "\n",
    "# Text input widget\n",
    "model_name_text = widgets.Text(\n",
    "    description='Model Name:',\n",
    "    style={'description_width': 'initial'},\n",
    "    layout=widgets.Layout(flex='2 1 auto', width='auto')\n",
    ")\n",
    "\n",
    "version_model_text = widgets.Text(\n",
    "    description='Version:',\n",
    "    style={'description_width': 'initial'},\n",
    "    layout=widgets.Layout(flex='2 1 auto', width='auto')\n",
    ")\n",
    "\n",
    "# Button widget\n",
    "button_model = widgets.Button(description=\"Save\",\n",
    "                        button_style='primary',  # Apply a Bootstrap theme\n",
    "                        layout=widgets.Layout(flex='1 1 auto', width='auto'))\n",
    "\n",
    "button_version = widgets.Button(description=\"Save\",\n",
    "                        button_style='primary',  # Apply a Bootstrap theme\n",
    "                        layout=widgets.Layout(flex='1 1 auto', width='auto'))\n",
    "\n",
    "# Function to handle button click\n",
    "def on_button_clicked(b):\n",
    "    print(\"Saved text: \", text.value)\n",
    "\n",
    "# Linking the button click event to the function\n",
    "button_model.on_click(on_button_clicked)\n",
    "button_version.on_click(on_button_clicked)\n",
    "\n",
    "# Using a VBox for vertical stacking of widgets\n",
    "widget_box_model = widgets.VBox([model_name_text, button_model], layout=box_layout)\n",
    "widget_version = widgets.VBox([version_model_text, button_version], layout=box_layout)\n",
    "\n",
    "# Displaying the widgets\n",
    "display(widget_box_model)\n",
    "display(widget_version)\n"
   ]
  },
  {
   "cell_type": "code",
   "execution_count": null,
   "id": "22c826eb-6a25-4b89-89ab-2ea78c1d80b4",
   "metadata": {
    "tags": []
   },
   "outputs": [],
   "source": [
    "model_name=model_name_text.value\n",
    "version_model= version_model_text.value\n",
    "print(f\"Your model is going to be saved with name `{model_name}` & version `{version_model}`\")\n",
    "print(f\"\\n Under directory models/openvino/token-classification/{model_name}/{version_model}\")\n",
    "model_path_s3=f\"models/openvino/token-classification/{model_name}/{version_model}\""
   ]
  },
  {
   "cell_type": "markdown",
   "id": "3e8fb2aa-ddbf-4697-83e6-cd5a49ec150f",
   "metadata": {
    "tags": []
   },
   "source": [
    "## Working with our dataset 📜📜📜\n",
    "\n",
    "\n",
    "1) Assign a float to the `train`,`valid` & `test` size of datasets\n",
    "2) Load dataframe in memory\n",
    "3) Make sure all columns are correctly set\n"
   ]
  },
  {
   "cell_type": "code",
   "execution_count": null,
   "id": "7e0a4c61-d173-462b-a990-15d46e1b7b3f",
   "metadata": {
    "tags": []
   },
   "outputs": [],
   "source": [
    "train_size=0.7\n",
    "valid_size= 0.1\n",
    "test_size = 0.2\n",
    "print(f\"Dataframe is going to be splitted into {train_size*100:.0f}%, {valid_size*100:.0f}% valid size and {test_size*100:.0f}% data to test\")"
   ]
  },
  {
   "cell_type": "code",
   "execution_count": null,
   "id": "e8e4783f-8ae2-48b4-ab8c-dfc257375d9a",
   "metadata": {
    "tags": []
   },
   "outputs": [],
   "source": [
    "## Loads datasets from previous notebook\n",
    "import pandas as pd\n",
    "import os\n",
    "import json\n",
    "import ast\n",
    "from datasets import Dataset, Features, Sequence, ClassLabel, Value\n",
    "\n",
    "labeled_dataset = \"dataset.csv\"\n",
    "\n",
    "# Read json files label2id &  id2label\n",
    "# Opening JSON file\n",
    "file_label2id = open('tags.json')\n",
    "file_id2label = open('tags2id.json')\n",
    "\n",
    "tags = json.load(file_label2id)\n",
    "tags2id=json.load(file_id2label)\n",
    "\n",
    "\n",
    "print(f\"\\n{tags.get('tags')}\")\n",
    "print(f\"{tags2id}\")\n",
    "os.remove(\"tags.json\")\n",
    "os.remove(\"tags2id.json\")\n",
    "\n",
    "\n",
    "# Assuming the file is in the current working directory\n",
    "df = pd.read_csv(labeled_dataset)\n",
    "\n",
    "\n",
    "# Assuming 'ner_tags' and 'tokens' are stored as strings representing lists\n",
    "# Convert 'ner_tags' and 'tokens' from string representations of lists back to actual lists\n",
    "df['ner_tags'] = df['ner_tags'].apply(ast.literal_eval)\n",
    "df['tokens'] = df['tokens'].apply(ast.literal_eval)\n",
    "\n",
    "\n",
    "\n",
    "# Define your dataset's features, particularly the ner_tags as a sequence of ClassLabel\n",
    "features = Features({\n",
    "    '_id': Value('int64'),  # or whatever your ID's type is\n",
    "    'tokens': Sequence(Value('string')),\n",
    "    'ner_tags': Sequence(ClassLabel(names=tags.get(\"tags\")))\n",
    "})\n",
    "\n",
    "\n",
    "df.head()"
   ]
  },
  {
   "cell_type": "code",
   "execution_count": null,
   "id": "bb4f2716-eb70-4ca7-baae-69df5f2be067",
   "metadata": {
    "tags": []
   },
   "outputs": [],
   "source": [
    "# Function to convert ner_tags from strings to their corresponding IDs\n",
    "def tags_to_ids(tags):\n",
    "    # Ensure tag is a string, matching the format of keys in tags2id\n",
    "    return [tags2id[str(tag)] for tag in tags]\n",
    "\n",
    "df['ner_tags'] = df['ner_tags'].apply(tags_to_ids)"
   ]
  },
  {
   "cell_type": "code",
   "execution_count": null,
   "id": "4f6833a7-acd8-4467-b31b-d0c2c8343042",
   "metadata": {
    "tags": []
   },
   "outputs": [],
   "source": [
    "from datasets import DatasetDict\n",
    "df_dataset = Dataset.from_pandas(df,features=features)\n",
    "\n",
    "# Calculate the split sizes for validation and test sets as a proportion of the remainder\n",
    "remainder_size = 1.0 - train_size\n",
    "proportion_valid = valid_size / remainder_size\n",
    "proportion_test = test_size / remainder_size\n",
    "\n",
    "# Split the dataset into training and the remainder (test + validation)\n",
    "train_dataset, test_valid_dataset = df_dataset.train_test_split(test_size=remainder_size).values()\n",
    "\n",
    "# Now split the remainder into validation and test datasets\n",
    "valid_dataset, test_dataset = test_valid_dataset.train_test_split(test_size=proportion_test).values()\n",
    "\n",
    "\n",
    "# Creating the DatasetDict with the splits\n",
    "dataset = DatasetDict({\n",
    "    \"train\": train_dataset,\n",
    "    \"validation\": valid_dataset,\n",
    "    \"test\": test_dataset\n",
    "})"
   ]
  },
  {
   "cell_type": "code",
   "execution_count": null,
   "id": "491b6ee6-96b5-40ab-a118-a013a61ac795",
   "metadata": {
    "tags": []
   },
   "outputs": [],
   "source": [
    "dataset"
   ]
  },
  {
   "cell_type": "code",
   "execution_count": null,
   "id": "ffa954fe-96e5-4421-a6b7-2798ffd963d2",
   "metadata": {
    "tags": []
   },
   "outputs": [],
   "source": [
    "words = dataset[\"train\"][1][\"tokens\"]\n",
    "labels = dataset[\"train\"][1][\"ner_tags\"]\n",
    "line1 = \"\"\n",
    "line2 = \"\"\n",
    "tags=tags.get(\"tags\")\n",
    "for word, label in zip(words, labels):\n",
    "    full_label = tags[label]\n",
    "    max_length = max(len(word), len(full_label))\n",
    "    line1 += word + \" \" * (max_length - len(word) + 1)\n",
    "    line2 += full_label + \" \" * (max_length - len(full_label) + 1)\n",
    "\n",
    "print(line1)\n",
    "print(line2)"
   ]
  },
  {
   "cell_type": "markdown",
   "id": "f3376c37-2d07-4083-9bb9-d00f032b5df4",
   "metadata": {
    "tags": []
   },
   "source": [
    "#### Working with foundational model tokenizer 🎩🎩\n",
    "\n",
    "Here we make sure to truncate sequences to be no longer than foundational model maximum input length"
   ]
  },
  {
   "cell_type": "code",
   "execution_count": null,
   "id": "cf751d1f-d359-44d3-a3ae-9ac2f0394e15",
   "metadata": {},
   "outputs": [],
   "source": [
    "from transformers import AutoTokenizer\n",
    "\n",
    "model_checkpoint = \"distilbert-base-uncased\"\n",
    "tokenizer = AutoTokenizer.from_pretrained(model_checkpoint)"
   ]
  },
  {
   "cell_type": "code",
   "execution_count": null,
   "id": "c391cb59-3e1d-4781-9008-f428d883c1ce",
   "metadata": {},
   "outputs": [],
   "source": [
    "tokenizer.is_fast"
   ]
  },
  {
   "cell_type": "code",
   "execution_count": null,
   "id": "37eb95e6-837f-4b87-a59a-59c510666a5a",
   "metadata": {},
   "outputs": [],
   "source": [
    "inputs = tokenizer(dataset[\"train\"][0][\"tokens\"], is_split_into_words=True)"
   ]
  },
  {
   "cell_type": "code",
   "execution_count": null,
   "id": "53f1df0d-8c84-4a2a-b794-06eaee8773f6",
   "metadata": {},
   "outputs": [],
   "source": [
    "def align_labels_with_tokens(labels, word_ids):\n",
    "    new_labels = []\n",
    "    current_word = None\n",
    "    for word_id in word_ids:\n",
    "        if word_id != current_word:\n",
    "            # Start of a new word!\n",
    "            current_word = word_id\n",
    "            label = -100 if word_id is None else labels[word_id]\n",
    "            new_labels.append(label)\n",
    "        elif word_id is None:\n",
    "            # Special token\n",
    "            new_labels.append(-100)\n",
    "        else:\n",
    "            # Same word as previous token\n",
    "            label = labels[word_id]\n",
    "            # If the label is B-XXX we change it to I-XXX\n",
    "            if label % 2 == 1:\n",
    "                label += 1\n",
    "            new_labels.append(label)\n",
    "\n",
    "    return new_labels"
   ]
  },
  {
   "cell_type": "code",
   "execution_count": null,
   "id": "987665b4-025b-45ef-b135-a314cfa7389e",
   "metadata": {},
   "outputs": [],
   "source": [
    "labels = dataset[\"train\"][0][\"ner_tags\"]\n",
    "word_ids = inputs.word_ids()\n",
    "print(labels)\n",
    "print(align_labels_with_tokens(labels, word_ids))"
   ]
  },
  {
   "cell_type": "code",
   "execution_count": null,
   "id": "60b3bfd6-e46b-444d-a825-c4b1f0b9ca02",
   "metadata": {},
   "outputs": [],
   "source": [
    "def tokenize_and_align_labels(examples):\n",
    "    tokenized_inputs = tokenizer(examples[\"tokens\"], truncation=True, is_split_into_words=True)\n",
    "\n",
    "    labels = []\n",
    "    for i, label in enumerate(examples[f\"ner_tags\"]):\n",
    "        word_ids = tokenized_inputs.word_ids(batch_index=i)  # Map tokens to their respective word.\n",
    "        previous_word_idx = None\n",
    "        label_ids = []\n",
    "        for word_idx in word_ids:  # Set the special tokens to -100.\n",
    "            if word_idx is None:\n",
    "                label_ids.append(-100)\n",
    "            elif word_idx != previous_word_idx:  # Only label the first token of a given word.\n",
    "                label_ids.append(label[word_idx])\n",
    "            else:\n",
    "                label_ids.append(-100)\n",
    "            previous_word_idx = word_idx\n",
    "        labels.append(label_ids)\n",
    "\n",
    "    tokenized_inputs[\"labels\"] = labels\n",
    "    return tokenized_inputs"
   ]
  },
  {
   "cell_type": "code",
   "execution_count": null,
   "id": "31ca5dcc-f768-4aa1-ada8-6a444d5fb9aa",
   "metadata": {},
   "outputs": [],
   "source": [
    "# apply the preprocessing function over the entire dataset\n",
    "tokenized_datasets = dataset.map(\n",
    "    tokenize_and_align_labels,\n",
    "    batched=True,\n",
    ")"
   ]
  },
  {
   "cell_type": "markdown",
   "id": "fdcd5a73-d57d-4eb1-b5aa-56ab260559b3",
   "metadata": {
    "tags": []
   },
   "source": [
    "## Computing metrics for `MlFlow`  📈📈"
   ]
  },
  {
   "cell_type": "code",
   "execution_count": null,
   "id": "f162307b-379e-41c4-906c-da970647b393",
   "metadata": {},
   "outputs": [],
   "source": [
    "from transformers import DataCollatorForTokenClassification\n",
    "\n",
    "data_collator = DataCollatorForTokenClassification(tokenizer=tokenizer)"
   ]
  },
  {
   "cell_type": "code",
   "execution_count": null,
   "id": "d9966138-04bd-492d-b145-8712fae445f8",
   "metadata": {},
   "outputs": [],
   "source": [
    "## Metrics\n",
    "import evaluate\n",
    "\n",
    "metric = evaluate.load(\"seqeval\")"
   ]
  },
  {
   "cell_type": "code",
   "execution_count": null,
   "id": "e2b279c1-a3fa-4113-b918-4dde4175ca94",
   "metadata": {},
   "outputs": [],
   "source": [
    "import numpy as np\n",
    "example = dataset[\"train\"][0]\n",
    "labels = [tags[i] for i in example[f\"ner_tags\"]]\n",
    "\n",
    "\n",
    "def compute_metrics(p):\n",
    "    predictions, labels = p\n",
    "    predictions = np.argmax(predictions, axis=2)\n",
    "\n",
    "    true_predictions = [\n",
    "        [tags[p] for (p, l) in zip(prediction, label) if l != -100]\n",
    "        for prediction, label in zip(predictions, labels)\n",
    "    ]\n",
    "    true_labels = [\n",
    "        [tags[l] for (p, l) in zip(prediction, label) if l != -100]\n",
    "        for prediction, label in zip(predictions, labels)\n",
    "    ]\n",
    "\n",
    "    results = metric.compute(predictions=true_predictions, references=true_labels)\n",
    "    return {\n",
    "        \"precision\": results[\"overall_precision\"],\n",
    "        \"recall\": results[\"overall_recall\"],\n",
    "        \"f1\": results[\"overall_f1\"],\n",
    "        \"accuracy\": results[\"overall_accuracy\"],\n",
    "    }"
   ]
  },
  {
   "cell_type": "code",
   "execution_count": null,
   "id": "1d4b042a-a3c4-4f4b-a6cc-acf12bc45e7d",
   "metadata": {},
   "outputs": [],
   "source": [
    "id2label = {i: label for i, label in enumerate(tags)}\n",
    "label2id = {v: k for k, v in id2label.items()}"
   ]
  },
  {
   "cell_type": "code",
   "execution_count": null,
   "id": "40748fd6-6b03-40e5-b2b0-6677b093d832",
   "metadata": {},
   "outputs": [],
   "source": [
    "## Mapping ids -> labels\n",
    "id2label\n",
    "label2id"
   ]
  },
  {
   "cell_type": "code",
   "execution_count": null,
   "id": "e18b5549-b98d-49f1-9fa6-47a0297b96fd",
   "metadata": {
    "tags": []
   },
   "outputs": [],
   "source": [
    "# Creating a box layout for better widget organization\n",
    "box_layout = widgets.Layout(display='flex',\n",
    "                            flex_flow='row',\n",
    "                            justify_content='space-between',\n",
    "                            width='50%')\n",
    "\n",
    "# Text input widget\n",
    "run_name_text = widgets.Text(\n",
    "    description='Run Name:',\n",
    "    style={'description_width': 'initial'},\n",
    "    layout=widgets.Layout(flex='2 1 auto', width='auto')\n",
    ")\n",
    "\n",
    "# Button widget\n",
    "button = widgets.Button(description=\"Save\",\n",
    "                        button_style='primary',  # Apply a Bootstrap theme\n",
    "                        layout=widgets.Layout(flex='1 1 auto', width='auto'))\n",
    "\n",
    "# Function to handle button click\n",
    "def on_button_clicked(b):\n",
    "    print(\"Saved text: \", text.value)\n",
    "\n",
    "# Linking the button click event to the function\n",
    "button.on_click(on_button_clicked)\n",
    "\n",
    "# Using a VBox for vertical stacking of widgets\n",
    "widget_box = widgets.VBox([run_name_text, button], layout=box_layout)\n",
    "\n",
    "# Displaying the widgets\n",
    "display(widget_box)"
   ]
  },
  {
   "cell_type": "code",
   "execution_count": null,
   "id": "6be49b22-b9e8-456d-a548-1eb7542567e0",
   "metadata": {
    "tags": []
   },
   "outputs": [],
   "source": [
    "mlflow.set_experiment(model_name)"
   ]
  },
  {
   "cell_type": "markdown",
   "id": "3a5ee450-e348-43e3-a5eb-1948606827f2",
   "metadata": {
    "tags": []
   },
   "source": [
    "## Training with `Transformers` & `PyTorch`\n",
    "\n",
    "1) Retrieve model from hub\n",
    "2) Assign the configuration specifically amount of labels and ids"
   ]
  },
  {
   "cell_type": "code",
   "execution_count": null,
   "id": "30d7d45f-fc76-459d-9597-cb4edab47c24",
   "metadata": {},
   "outputs": [],
   "source": [
    "from transformers import AutoModelForTokenClassification\n",
    "\n",
    "model = AutoModelForTokenClassification.from_pretrained(\n",
    "    model_checkpoint,\n",
    "    num_labels=len(tags),\n",
    "    id2label=id2label,\n",
    "    label2id=label2id,\n",
    ")"
   ]
  },
  {
   "cell_type": "code",
   "execution_count": null,
   "id": "625c1acc-f4a7-46e7-98ac-a98059042c5e",
   "metadata": {
    "tags": []
   },
   "outputs": [],
   "source": [
    "os.environ[\"MFLOW_EXPERIMENT_NAME\"]=model_name\n",
    "os.environ[\"MLFLOW_FLATTEN_PARAMS\"]=\"1\""
   ]
  },
  {
   "cell_type": "code",
   "execution_count": null,
   "id": "6d8332df-3170-451c-b278-96446be39f7e",
   "metadata": {},
   "outputs": [],
   "source": [
    "from transformers import TrainingArguments\n",
    "\n",
    "args = TrainingArguments(\n",
    "    hub_model_id=model_name,\n",
    "    output_dir=run_name_text.value,\n",
    "    learning_rate=2e-5,\n",
    "    per_device_train_batch_size=16,\n",
    "    per_device_eval_batch_size=16,\n",
    "    num_train_epochs=8,\n",
    "    weight_decay=0.01,\n",
    "    evaluation_strategy=\"epoch\",\n",
    "    logging_strategy=\"epoch\",\n",
    ")"
   ]
  },
  {
   "cell_type": "code",
   "execution_count": null,
   "id": "08fef277-8ce8-4841-a5d4-f59416d1f820",
   "metadata": {},
   "outputs": [],
   "source": [
    "from transformers import Trainer\n",
    "\n",
    "trainer = Trainer(\n",
    "    model=model,\n",
    "    args=args,\n",
    "    train_dataset=tokenized_datasets[\"train\"],\n",
    "    eval_dataset=tokenized_datasets[\"test\"],\n",
    "    tokenizer=tokenizer,\n",
    "    data_collator=data_collator,\n",
    "    compute_metrics=compute_metrics,\n",
    ")\n",
    "trainer.train()"
   ]
  },
  {
   "cell_type": "code",
   "execution_count": null,
   "id": "cc960451-38e7-4210-8ed5-0389840595ac",
   "metadata": {
    "tags": []
   },
   "outputs": [],
   "source": [
    "mlflow.end_run()"
   ]
  },
  {
   "cell_type": "markdown",
   "id": "d646afd7-5aed-4557-82da-075c5dffc651",
   "metadata": {
    "tags": []
   },
   "source": [
    "### OpenVino 🍷🍷\n",
    "\n",
    "After successfull model training we are going to save the model as a `OpenVino` format so Openshift AI can serve it into a inference endpoint"
   ]
  },
  {
   "cell_type": "code",
   "execution_count": null,
   "id": "85e59645-c147-452d-81c1-e9703123ed01",
   "metadata": {
    "tags": []
   },
   "outputs": [],
   "source": [
    "## Save pytorch \n",
    "trainer.save_model(model_name)"
   ]
  },
  {
   "cell_type": "code",
   "execution_count": null,
   "id": "2a4b3383-2596-4131-82f1-ec863f45f8bd",
   "metadata": {
    "tags": []
   },
   "outputs": [],
   "source": [
    "from optimum.intel import OVModelForTokenClassification\n",
    "\n",
    "ov_model= OVModelForTokenClassification.from_pretrained(model_name,export=True)\n",
    "ov_model.save_pretrained(f\"{model_name}_openvino\")"
   ]
  },
  {
   "cell_type": "markdown",
   "id": "21a2dddd-fc0b-4866-8f59-ff416b9595c4",
   "metadata": {
    "tags": []
   },
   "source": [
    "## Model upload\n",
    "\n",
    "1) We have correctly trained our model\n",
    "2) Model was correctly parsed to `OpenVino` format\n",
    "\n",
    "In this part we upload our model to S3 Provider so OpenshiftAI takes the binary and serves it\n"
   ]
  },
  {
   "cell_type": "code",
   "execution_count": null,
   "id": "2bf62ff8-c69d-43b7-b4da-a1dce59791ab",
   "metadata": {
    "tags": []
   },
   "outputs": [],
   "source": [
    "import boto3\n",
    "from datetime import datetime\n",
    "\n",
    "\n",
    "session = boto3.session.Session()\n",
    "s3_client = session.client('s3',\n",
    "                        region_name='nyc3',\n",
    "                        endpoint_url='https://nyc3.digitaloceanspaces.com',\n",
    "                        aws_access_key_id=key_id,\n",
    "                        aws_secret_access_key=secret_key)\n",
    "\n",
    "def uploadModel(path):\n",
    "     for root,dirs,files in os.walk(path):\n",
    "            for file in files:\n",
    "                s3_client.upload_file(os.path.join(root,file),bucket_name,f\"models/openvino/token-classification/{model_name}/{version_model}/{file}\")"
   ]
  },
  {
   "cell_type": "code",
   "execution_count": null,
   "id": "3102914b-e37e-482b-941b-291818862e1d",
   "metadata": {
    "tags": []
   },
   "outputs": [],
   "source": [
    "#Upload ov binary to S3 & mlflow run\n",
    "uploadModel(f\"{model_name}_openvino\")"
   ]
  },
  {
   "cell_type": "code",
   "execution_count": null,
   "id": "1a70c1aa-db9c-46e8-acec-8d7c1df113f1",
   "metadata": {
    "tags": []
   },
   "outputs": [],
   "source": [
    "## Delete directories in Jupyter Notebook\n",
    "import shutil\n",
    "\n",
    "# Remove the local model directory\n",
    "shutil.rmtree(model_name)\n",
    "os.remove(labeled_dataset)\n",
    "shutil.rmtree(run_name_text.value)\n",
    "shutil.rmtree(f\"{model_name}_openvino\")"
   ]
  },
  {
   "cell_type": "code",
   "execution_count": null,
   "id": "3cf5d9e6-26f4-40cc-8b45-028849bdb1e5",
   "metadata": {},
   "outputs": [],
   "source": []
  }
 ],
 "metadata": {
  "kernelspec": {
   "display_name": "Python 3.9",
   "language": "python",
   "name": "python3"
  },
  "language_info": {
   "codemirror_mode": {
    "name": "ipython",
    "version": 3
   },
   "file_extension": ".py",
   "mimetype": "text/x-python",
   "name": "python",
   "nbconvert_exporter": "python",
   "pygments_lexer": "ipython3",
   "version": "3.9.18"
  }
 },
 "nbformat": 4,
 "nbformat_minor": 5
}
