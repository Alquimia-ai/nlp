{
 "cells": [
  {
   "cell_type": "code",
   "execution_count": null,
   "id": "418157d1-491c-442a-b017-2c85b0cfcdba",
   "metadata": {},
   "outputs": [],
   "source": [
    "# Step 1: Install necessary libraries\n",
    "!pip install pandas matplotlib boto3 datasets evaluate transformers[sentencepiece] accelerate seqeval seaborn mlflow optimum[openvino,nncf] psutil pynvml -q"
   ]
  },
  {
   "cell_type": "markdown",
   "id": "301dccc0-2a6c-451a-9bf5-a8f526c72f7d",
   "metadata": {},
   "source": [
    "## Dataset manipulation & env preparation"
   ]
  },
  {
   "cell_type": "code",
   "execution_count": null,
   "id": "628fde9b-d76e-4b0b-a920-efb02cd3f40b",
   "metadata": {},
   "outputs": [],
   "source": [
    "### Load all pipeline parameters\n",
    "import os\n",
    "key_id = os.environ.get('S3_ACCESS_KEY_ID')\n",
    "secret_key = os.environ.get('S3_SECRET_ACCESS_KEY')\n",
    "model_name= os.environ.get(\"model_name\")\n",
    "bucket_name= os.environ.get(\"bucket\")\n",
    "run_name=os.environ.get(\"mlflow_run_name\")"
   ]
  },
  {
   "cell_type": "code",
   "execution_count": null,
   "id": "533b8187-1916-4958-add5-cc29d5c65dd4",
   "metadata": {},
   "outputs": [],
   "source": [
    "#Define your input column and your output column\n",
    "input_column_name=\"text\"\n",
    "output_column_name=\"sentiment\""
   ]
  },
  {
   "cell_type": "code",
   "execution_count": null,
   "id": "bc1ae299-3031-4bb1-9522-8cb38c14d54f",
   "metadata": {},
   "outputs": [],
   "source": [
    "import pandas as pd\n",
    "\n",
    "labeled_dataset = \"dataset.csv\"\n",
    "\n",
    "# Assuming the file is in the current working directory\n",
    "df = pd.read_csv(labeled_dataset)\n",
    "\n",
    "# Display the first few rows of the dataframe\n",
    "df.head()"
   ]
  },
  {
   "cell_type": "markdown",
   "id": "23f3eed8-5b09-476b-b4d9-bbd9d0740503",
   "metadata": {},
   "source": [
    "## Give a name to your model and version  🧙‍♂️🧙‍♂️\n",
    "\n",
    "This process is crucial mainly because a `text-classification` model can be intended for a huge amount of approaches"
   ]
  },
  {
   "cell_type": "code",
   "execution_count": null,
   "id": "e84bd3ed-dcd8-4ecf-8cd8-b529caf64cf7",
   "metadata": {
    "tags": []
   },
   "outputs": [],
   "source": [
    "import os\n",
    "experiment = os.environ.get(\"mlflow_experiment\")\n",
    "base_model_name = os.environ.get(\"base_model\")\n",
    "run_name = os.environ.get(\"mlflow_run_name\")\n",
    "test_size = os.environ.get(\"test_size\")"
   ]
  },
  {
   "cell_type": "markdown",
   "id": "2fa5cedd-7483-4f31-b98d-3d3da944889b",
   "metadata": {},
   "source": [
    "### Model manipulation "
   ]
  },
  {
   "cell_type": "code",
   "execution_count": null,
   "id": "9107af9a-815e-4d66-92d6-f8d026c06164",
   "metadata": {
    "tags": []
   },
   "outputs": [],
   "source": [
    "import json\n",
    "\n",
    "# Opening JSON file\n",
    "file_label2id = open('label2id.json')\n",
    "file_id2label = open('id2label.json')\n",
    "label2id = json.load(file_label2id)\n",
    "id2label=json.load(file_id2label)\n",
    "print(f\"The label2id json loaded correctly: {label2id}\")\n",
    "print(f\"The id2label json loaded correctly: {id2label}\")\n",
    "os.remove(\"label2id.json\")\n",
    "os.remove(\"id2label.json\")"
   ]
  },
  {
   "cell_type": "code",
   "execution_count": null,
   "id": "6d47d57c-7c7b-4588-affd-98cb0efc2f76",
   "metadata": {},
   "outputs": [],
   "source": [
    "# Add the new 'label' column to the dataframe by mapping values from the 'category' column\n",
    "df['label'] = df[output_column_name].replace(label2id)\n",
    "df.head(3)"
   ]
  },
  {
   "cell_type": "code",
   "execution_count": null,
   "id": "5af2aca3-8163-4b03-93ba-f43a2bddedf4",
   "metadata": {},
   "outputs": [],
   "source": [
    "from sklearn.model_selection import train_test_split\n",
    "\n",
    "df_train, df_test = train_test_split(df, test_size=test_size)"
   ]
  },
  {
   "cell_type": "code",
   "execution_count": null,
   "id": "418e2318-460b-466b-a334-dbd4282a76cd",
   "metadata": {},
   "outputs": [],
   "source": [
    "from datasets import Dataset\n",
    "\n",
    "train_dataset = Dataset.from_pandas(df_train)\n",
    "test_dataset = Dataset.from_pandas(df_test)"
   ]
  },
  {
   "cell_type": "code",
   "execution_count": null,
   "id": "00185932-819c-4dc1-a810-8367d3c29c4f",
   "metadata": {},
   "outputs": [],
   "source": [
    "from transformers import AutoTokenizer\n",
    "\n",
    "tokenizer = AutoTokenizer.from_pretrained(base_model_name)"
   ]
  },
  {
   "cell_type": "code",
   "execution_count": null,
   "id": "b82bea0c-da4f-4c20-b743-4a5474d874e3",
   "metadata": {},
   "outputs": [],
   "source": [
    "def preprocess_function(examples):\n",
    "    return tokenizer(examples[input_column_name], truncation=True)"
   ]
  },
  {
   "cell_type": "code",
   "execution_count": null,
   "id": "f8c3bf78-b3a6-4525-af83-b6c7ad0d6442",
   "metadata": {},
   "outputs": [],
   "source": [
    "tokenized_train = train_dataset.map(preprocess_function, batched=True)\n",
    "tokenized_test = test_dataset.map(preprocess_function, batched=True)"
   ]
  },
  {
   "cell_type": "code",
   "execution_count": null,
   "id": "e7493fd3-c44d-4fd5-8329-683aa5cc089b",
   "metadata": {},
   "outputs": [],
   "source": [
    "from transformers import AutoModelForSequenceClassification\n",
    "\n",
    "model = AutoModelForSequenceClassification.from_pretrained(base_model_name, num_labels=len(label2id),id2label=id2label, label2id=label2id)"
   ]
  },
  {
   "cell_type": "code",
   "execution_count": null,
   "id": "14f64a4d-9dca-4b79-b875-d335a7b8f1fc",
   "metadata": {},
   "outputs": [],
   "source": [
    "from transformers import TrainingArguments, Trainer\n",
    "import evaluate\n",
    "import numpy as np\n",
    "from transformers import DataCollatorWithPadding\n",
    "from sklearn.metrics import confusion_matrix, ConfusionMatrixDisplay\n",
    "import seaborn as sns\n",
    "import matplotlib.pyplot as plt\n",
    "data_collator = DataCollatorWithPadding(tokenizer=tokenizer)"
   ]
  },
  {
   "cell_type": "code",
   "execution_count": null,
   "id": "89e4a980-768b-4e43-99d9-0a77838439f7",
   "metadata": {},
   "outputs": [],
   "source": [
    "metric = evaluate.load(\"accuracy\")\n",
    "\n",
    "def compute_metrics(eval_pred):\n",
    "    logits, labels = eval_pred\n",
    "    predictions = np.argmax(logits, axis=-1)\n",
    "    conf_matrix = confusion_matrix(labels, predictions)\n",
    "    \n",
    "    plt.figure(figsize=(10, 8))\n",
    "    sns.heatmap(conf_matrix, annot=True, fmt='d', cmap='Blues')\n",
    "    plt.ylabel('True Labels')\n",
    "    plt.xlabel('Predicted Labels')\n",
    "    \n",
    "    # Save the confusion matrix plot\n",
    "    conf_matrix_filepath = \"confusion_matrix.png\"\n",
    "    plt.savefig(conf_matrix_filepath)\n",
    "    plt.close()\n",
    "    return metric.compute(predictions=predictions, references=labels)"
   ]
  },
  {
   "cell_type": "code",
   "execution_count": null,
   "id": "1a79f40f-3f9c-405c-8e4f-f799c6d44258",
   "metadata": {},
   "outputs": [],
   "source": [
    "#Mlflow\n",
    "import mlflow\n",
    "\n",
    "os.environ[\"MFLOW_EXPERIMENT_NAME\"]=experiment"
   ]
  },
  {
   "cell_type": "code",
   "execution_count": null,
   "id": "c9e5da2a-7ad3-41a0-974e-24b20365f4c6",
   "metadata": {},
   "outputs": [],
   "source": [
    "## hyperparameters \n",
    "lr=os.environ.get(\"learning_rate\")\n",
    "train_batch_size=os.environ.get(\"batch_size\")\n",
    "eval_batch_size=os.environ.get(\"batch_size\")\n",
    "epochs=os.environ.get(\"epochs\")\n",
    "decay=os.environ.get(\"decay\")\n",
    "eval_strategy=\"epoch\"\n",
    "log_strategy=\"epoch\""
   ]
  },
  {
   "cell_type": "code",
   "execution_count": null,
   "id": "ee8c0cda-f21c-4345-a6e0-13a1196fa712",
   "metadata": {},
   "outputs": [],
   "source": [
    "training_args = TrainingArguments(\n",
    "    hub_model_id=model_name,\n",
    "    output_dir=run_name,\n",
    "    learning_rate=lr,\n",
    "    per_device_train_batch_size=train_batch_size,\n",
    "    per_device_eval_batch_size=eval_batch_size,\n",
    "    num_train_epochs=epochs,\n",
    "    weight_decay=decay,\n",
    "    evaluation_strategy=eval_strategy,\n",
    "    logging_strategy=log_strategy,\n",
    ")\n",
    "\n",
    "trainer = Trainer(\n",
    "    model=model,\n",
    "    args=training_args,\n",
    "    train_dataset=tokenized_train,\n",
    "    tokenizer=tokenizer,\n",
    "    data_collator=data_collator,\n",
    "    compute_metrics=compute_metrics,\n",
    "    eval_dataset=tokenized_test\n",
    ")"
   ]
  },
  {
   "cell_type": "code",
   "execution_count": null,
   "id": "a9bd91f1-df34-4e65-8042-4a5c911a343d",
   "metadata": {},
   "outputs": [],
   "source": [
    "import mlflow\n",
    "\n",
    "mlflow.set_tracking_uri(os.environ.get(\"MLFLOW_TRACKING_URI\"))\n",
    "mlflow.set_experiment(experiment)\n",
    "mlflow.enable_system_metrics_logging()"
   ]
  },
  {
   "cell_type": "code",
   "execution_count": null,
   "id": "bae93055-68d5-4c64-8402-298580c3d460",
   "metadata": {},
   "outputs": [],
   "source": [
    "### Fine tune model\n",
    "trainer.train()"
   ]
  },
  {
   "cell_type": "code",
   "execution_count": null,
   "id": "6957220f-1653-4675-b301-6a42b8912b7f",
   "metadata": {},
   "outputs": [],
   "source": [
    "## Save pytorch \n",
    "trainer.save_model(model_name)"
   ]
  },
  {
   "cell_type": "code",
   "execution_count": null,
   "id": "ea7c43f7-56c4-4413-9a4d-e58608f25070",
   "metadata": {},
   "outputs": [],
   "source": [
    "experiment = mlflow.get_experiment_by_name(experiment)\n",
    "filter_string = f\"tags.mlflow.runName = '{run_name}'\"\n",
    "runs = mlflow.search_runs(\n",
    "    experiment_ids=[experiment.experiment_id],\n",
    "    filter_string=filter_string\n",
    ")\n",
    "\n",
    "# Extract the run_id from the DataFrame\n",
    "if not runs.empty:\n",
    "    previous_run_id = runs.iloc[0]['run_id']\n",
    "    print(f\"Run ID: {previous_run_id}\")\n",
    "else:\n",
    "    print(\"No run found with the specified name.\")"
   ]
  },
  {
   "cell_type": "code",
   "execution_count": null,
   "id": "7eb4d6ee-d83c-482b-9ed0-a633bb570f29",
   "metadata": {},
   "outputs": [],
   "source": [
    "import mlflow.data\n",
    "from mlflow.data.pandas_dataset import PandasDataset\n",
    "from optimum.onnxruntime import ORTModelForSequenceClassification\n",
    "from pathlib import Path\n",
    "import onnx"
   ]
  },
  {
   "cell_type": "code",
   "execution_count": null,
   "id": "3ed1a159-8e21-473c-a604-77f9d0d86aaa",
   "metadata": {},
   "outputs": [],
   "source": [
    "def uploadModel(run_id:str):\n",
    "    train_dataset: PandasDataset = mlflow.data.from_pandas(df_train, source=\"Label Studio\")\n",
    "    test_dataset: PandasDataset = mlflow.data.from_pandas(df_test, source=\"Label Studio\")\n",
    "    with mlflow.start_run(run_id=previous_run_id) as run:\n",
    "        ORTModelForSequenceClassification.from_pretrained(model_name,export=True).save_pretrained(f\"{model_name}_onnx\")\n",
    "        tmp_dir = Path(f\"{model_name}_onnx\")\n",
    "        mlflow.log_artifacts(tmp_dir, artifact_path=model_name)\n",
    "        mlflow.log_artifact(\"confusion_matrix.png\",artifact_path=model_name)\n",
    "        tokenizer.save_pretrained(f\"{model_name}_onnx\")\n",
    "        onnx_model = onnx.load_model(f\"{model_name}_onnx/model.onnx\")\n",
    "        model_info = mlflow.onnx.log_model(onnx_model,model_name,registered_model_name=model_name)\n",
    "        mlflow.log_input(train_dataset, context=\"training\")\n",
    "        mlflow.log_input(test_dataset,context=\"validation\")\n",
    "        mlflow.end_run()"
   ]
  },
  {
   "cell_type": "code",
   "execution_count": null,
   "id": "92f114cd-8e71-46d5-82ad-af95dbbcc622",
   "metadata": {},
   "outputs": [],
   "source": [
    "uploadModel(previous_run_id)"
   ]
  },
  {
   "cell_type": "code",
   "execution_count": null,
   "id": "10aef6aa-0a0b-480e-b5e2-c46867f06419",
   "metadata": {},
   "outputs": [],
   "source": [
    "mlflow.end_run()"
   ]
  }
 ],
 "metadata": {
  "kernelspec": {
   "display_name": "Python 3.9",
   "language": "python",
   "name": "python3"
  },
  "language_info": {
   "codemirror_mode": {
    "name": "ipython",
    "version": 3
   },
   "file_extension": ".py",
   "mimetype": "text/x-python",
   "name": "python",
   "nbconvert_exporter": "python",
   "pygments_lexer": "ipython3",
   "version": "3.9.18"
  }
 },
 "nbformat": 4,
 "nbformat_minor": 5
}
