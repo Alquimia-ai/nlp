{
 "cells": [
  {
   "cell_type": "code",
   "execution_count": null,
   "id": "418157d1-491c-442a-b017-2c85b0cfcdba",
   "metadata": {},
   "outputs": [],
   "source": [
    "# Step 1: Install necessary libraries\n",
    "!pip install pandas boto3 datasets evaluate transformers[sentencepiece] accelerate seqeval mlflow optimum[openvino,nncf] -q"
   ]
  },
  {
   "cell_type": "markdown",
   "id": "301dccc0-2a6c-451a-9bf5-a8f526c72f7d",
   "metadata": {},
   "source": [
    "## Dataset manipulation & env preparation"
   ]
  },
  {
   "cell_type": "code",
   "execution_count": null,
   "id": "628fde9b-d76e-4b0b-a920-efb02cd3f40b",
   "metadata": {},
   "outputs": [],
   "source": [
    "### Load all pipeline parameters\n",
    "import os\n",
    "key_id = os.environ.get('S3_ACCESS_KEY_ID')\n",
    "secret_key = os.environ.get('S3_SECRET_ACCESS_KEY')\n",
    "model_name= os.environ.get(\"model_name\")\n",
    "bucket_name= os.environ.get(\"bucket\")\n",
    "version_model=os.environ.get(\"version\")\n",
    "run_name=os.environ.get(\"run_name\")"
   ]
  },
  {
   "cell_type": "code",
   "execution_count": null,
   "id": "533b8187-1916-4958-add5-cc29d5c65dd4",
   "metadata": {},
   "outputs": [],
   "source": [
    "#Define your input column and your output column\n",
    "\n",
    "input_column_name=\"text\"\n",
    "output_column_name=\"sentiment\""
   ]
  },
  {
   "cell_type": "code",
   "execution_count": null,
   "id": "bc1ae299-3031-4bb1-9522-8cb38c14d54f",
   "metadata": {},
   "outputs": [],
   "source": [
    "import pandas as pd\n",
    "\n",
    "labeled_dataset = \"dataset.csv\"\n",
    "\n",
    "# Assuming the file is in the current working directory\n",
    "df = pd.read_csv(labeled_dataset)\n",
    "\n",
    "# Display the first few rows of the dataframe\n",
    "df.head()"
   ]
  },
  {
   "cell_type": "markdown",
   "id": "23f3eed8-5b09-476b-b4d9-bbd9d0740503",
   "metadata": {},
   "source": [
    "## Give a name to your model and version  🧙‍♂️🧙‍♂️\n",
    "\n",
    "This process is crucial mainly because a `text-classification` model can be intended for a huge amount of approaches"
   ]
  },
  {
   "cell_type": "code",
   "execution_count": null,
   "id": "3699b63f-f195-4a7a-a80f-2a8e7570ce54",
   "metadata": {},
   "outputs": [],
   "source": [
    "print(f\"Your model is going to be saved with name `{model_name}` & version `{version_model}`\")\n",
    "print(f\"\\n Under directory models/openvino/text-classification/{model_name}/{version_model}\")\n",
    "model_path_s3=f\"models/openvino/text-classification/{model_name}/{version_model}\""
   ]
  },
  {
   "cell_type": "markdown",
   "id": "2fa5cedd-7483-4f31-b98d-3d3da944889b",
   "metadata": {},
   "source": [
    "### Model manipulation "
   ]
  },
  {
   "cell_type": "code",
   "execution_count": null,
   "id": "9107af9a-815e-4d66-92d6-f8d026c06164",
   "metadata": {},
   "outputs": [],
   "source": [
    "import json\n",
    "\n",
    "# Opening JSON file\n",
    "file_label2id = open('label2id.json')\n",
    "file_id2label = open('id2label.json')\n",
    "label2id = json.load(file_label2id)\n",
    "id2label=json.load(file_id2label)\n",
    "print(f\"The label2id json loaded correctly: {label2id}\")\n",
    "print(f\"The id2label json loaded correctly: {id2label}\")\n",
    "os.remove(\"label2id.json\")\n",
    "os.remove(\"id2label.json\")"
   ]
  },
  {
   "cell_type": "code",
   "execution_count": null,
   "id": "6d47d57c-7c7b-4588-affd-98cb0efc2f76",
   "metadata": {},
   "outputs": [],
   "source": [
    "# Add the new 'label' column to the dataframe by mapping values from the 'category' column\n",
    "df['label'] = df[output_column_name].replace(label2id)\n",
    "df.head(3)"
   ]
  },
  {
   "cell_type": "code",
   "execution_count": null,
   "id": "67e40c6b-6758-4084-a868-be7b20ea9b43",
   "metadata": {},
   "outputs": [],
   "source": [
    "test_size = 0.2 ## Define the testing size for metrics"
   ]
  },
  {
   "cell_type": "code",
   "execution_count": null,
   "id": "5af2aca3-8163-4b03-93ba-f43a2bddedf4",
   "metadata": {},
   "outputs": [],
   "source": [
    "from sklearn.model_selection import train_test_split\n",
    "\n",
    "df_train, df_test = train_test_split(df, test_size=test_size)"
   ]
  },
  {
   "cell_type": "code",
   "execution_count": null,
   "id": "418e2318-460b-466b-a334-dbd4282a76cd",
   "metadata": {},
   "outputs": [],
   "source": [
    "from datasets import Dataset\n",
    "\n",
    "train_dataset = Dataset.from_pandas(df_train)\n",
    "test_dataset = Dataset.from_pandas(df_test)"
   ]
  },
  {
   "cell_type": "code",
   "execution_count": null,
   "id": "00185932-819c-4dc1-a810-8367d3c29c4f",
   "metadata": {},
   "outputs": [],
   "source": [
    "from transformers import AutoTokenizer\n",
    "\n",
    "base_model_name = 'distilbert-base-uncased'\n",
    "tokenizer = AutoTokenizer.from_pretrained(base_model_name)"
   ]
  },
  {
   "cell_type": "code",
   "execution_count": null,
   "id": "b82bea0c-da4f-4c20-b743-4a5474d874e3",
   "metadata": {},
   "outputs": [],
   "source": [
    "def preprocess_function(examples):\n",
    "    return tokenizer(examples[input_column_name], truncation=True)"
   ]
  },
  {
   "cell_type": "code",
   "execution_count": null,
   "id": "f8c3bf78-b3a6-4525-af83-b6c7ad0d6442",
   "metadata": {},
   "outputs": [],
   "source": [
    "tokenized_train = train_dataset.map(preprocess_function, batched=True)\n",
    "tokenized_test = test_dataset.map(preprocess_function, batched=True)"
   ]
  },
  {
   "cell_type": "code",
   "execution_count": null,
   "id": "e7493fd3-c44d-4fd5-8329-683aa5cc089b",
   "metadata": {},
   "outputs": [],
   "source": [
    "from transformers import AutoModelForSequenceClassification\n",
    "\n",
    "model = AutoModelForSequenceClassification.from_pretrained(base_model_name, num_labels=len(label2id),id2label=id2label, label2id=label2id)"
   ]
  },
  {
   "cell_type": "code",
   "execution_count": null,
   "id": "14f64a4d-9dca-4b79-b875-d335a7b8f1fc",
   "metadata": {},
   "outputs": [],
   "source": [
    "from transformers import TrainingArguments, Trainer\n",
    "import evaluate\n",
    "import numpy as np\n",
    "from transformers import DataCollatorWithPadding\n",
    "\n",
    "data_collator = DataCollatorWithPadding(tokenizer=tokenizer)"
   ]
  },
  {
   "cell_type": "code",
   "execution_count": null,
   "id": "89e4a980-768b-4e43-99d9-0a77838439f7",
   "metadata": {},
   "outputs": [],
   "source": [
    "metric = evaluate.load(\"accuracy\")\n",
    "\n",
    "def compute_metrics(eval_pred):\n",
    "  logits, labels = eval_pred\n",
    "  predictions = np.argmax(logits, axis=-1)\n",
    "  return metric.compute(predictions=predictions, references=labels)"
   ]
  },
  {
   "cell_type": "code",
   "execution_count": null,
   "id": "1a79f40f-3f9c-405c-8e4f-f799c6d44258",
   "metadata": {},
   "outputs": [],
   "source": [
    "#Mlflow\n",
    "import mlflow\n",
    "\n",
    "os.environ[\"MFLOW_EXPERIMENT_NAME\"]=model_name"
   ]
  },
  {
   "cell_type": "code",
   "execution_count": null,
   "id": "ee8c0cda-f21c-4345-a6e0-13a1196fa712",
   "metadata": {},
   "outputs": [],
   "source": [
    "training_args = TrainingArguments(\n",
    "    hub_model_id=model_name,\n",
    "    output_dir=run_name,\n",
    "    learning_rate=2e-5,\n",
    "    per_device_train_batch_size=16,\n",
    "    per_device_eval_batch_size=16,\n",
    "    num_train_epochs=5,\n",
    "    weight_decay=0.01,\n",
    "    evaluation_strategy=\"epoch\",\n",
    "    logging_strategy=\"epoch\",\n",
    ")"
   ]
  },
  {
   "cell_type": "code",
   "execution_count": null,
   "id": "e15be845-0c17-4620-8bc8-eaa7aa42b59a",
   "metadata": {},
   "outputs": [],
   "source": [
    "trainer = Trainer(\n",
    "    model=model,\n",
    "    args=training_args,\n",
    "    train_dataset=tokenized_train,\n",
    "    tokenizer=tokenizer,\n",
    "    data_collator=data_collator,\n",
    "    compute_metrics=compute_metrics,\n",
    "    eval_dataset=tokenized_test\n",
    ")"
   ]
  },
  {
   "cell_type": "code",
   "execution_count": null,
   "id": "a9bd91f1-df34-4e65-8042-4a5c911a343d",
   "metadata": {},
   "outputs": [],
   "source": [
    "import mlflow\n",
    "\n",
    "mlflow.set_tracking_uri(os.environ.get(\"MLFLOW_TRACKING_URI\"))\n",
    "mlflow.set_experiment(model_name)"
   ]
  },
  {
   "cell_type": "code",
   "execution_count": null,
   "id": "bae93055-68d5-4c64-8402-298580c3d460",
   "metadata": {},
   "outputs": [],
   "source": [
    "### Fine tune model\n",
    "trainer.train()"
   ]
  },
  {
   "cell_type": "code",
   "execution_count": null,
   "id": "10aef6aa-0a0b-480e-b5e2-c46867f06419",
   "metadata": {},
   "outputs": [],
   "source": [
    "mlflow.end_run()"
   ]
  },
  {
   "cell_type": "code",
   "execution_count": null,
   "id": "6957220f-1653-4675-b301-6a42b8912b7f",
   "metadata": {},
   "outputs": [],
   "source": [
    "## Save pytorch \n",
    "trainer.save_model(model_name)"
   ]
  },
  {
   "cell_type": "code",
   "execution_count": null,
   "id": "b09f2dcc-7382-4c33-a9df-f4e05be4a42d",
   "metadata": {},
   "outputs": [],
   "source": [
    "!pip install optimum[openvino,nncf] -q"
   ]
  },
  {
   "cell_type": "code",
   "execution_count": null,
   "id": "30620d95-d35b-4a82-b9c7-434d52806a0e",
   "metadata": {},
   "outputs": [],
   "source": [
    "from optimum.intel import OVModelForSequenceClassification\n",
    "\n",
    "ov_model= OVModelForSequenceClassification.from_pretrained(model_name,export=True)\n",
    "ov_model.save_pretrained(f\"{model_name}_openvino\")"
   ]
  },
  {
   "cell_type": "code",
   "execution_count": null,
   "id": "ba39b3d9-4128-4494-8326-b1dcfee1205f",
   "metadata": {},
   "outputs": [],
   "source": [
    "import boto3\n",
    "from datetime import datetime\n",
    "\n",
    "\n",
    "session = boto3.session.Session()\n",
    "s3_client = session.client('s3',\n",
    "                        region_name='nyc3',\n",
    "                        endpoint_url='https://nyc3.digitaloceanspaces.com',\n",
    "                        aws_access_key_id=key_id,\n",
    "                        aws_secret_access_key=secret_key)\n",
    "\n",
    "def uploadModel(path):\n",
    "     for root,dirs,files in os.walk(path):\n",
    "            for file in files:\n",
    "                print(f\"Uploading file: {file}\")\n",
    "                s3_client.upload_file(os.path.join(root,file),bucket_name,f\"models/openvino/text-classification/{model_name}/{version_model}/{file}\")"
   ]
  },
  {
   "cell_type": "code",
   "execution_count": null,
   "id": "1925e7b0-8812-44ed-8fb1-2d7912c393df",
   "metadata": {},
   "outputs": [],
   "source": [
    "#Upload ov binary to S3 & mlflow run\n",
    "uploadModel(f\"{model_name}_openvino\")"
   ]
  }
 ],
 "metadata": {
  "kernelspec": {
   "display_name": "Python 3.9",
   "language": "python",
   "name": "python3"
  },
  "language_info": {
   "codemirror_mode": {
    "name": "ipython",
    "version": 3
   },
   "file_extension": ".py",
   "mimetype": "text/x-python",
   "name": "python",
   "nbconvert_exporter": "python",
   "pygments_lexer": "ipython3",
   "version": "3.9.18"
  }
 },
 "nbformat": 4,
 "nbformat_minor": 5
}
