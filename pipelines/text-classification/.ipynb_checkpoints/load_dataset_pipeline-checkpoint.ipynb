{
 "cells": [
  {
   "cell_type": "code",
   "execution_count": null,
   "id": "219d1356-a9ef-4fba-a9df-8bef627f5333",
   "metadata": {
    "tags": []
   },
   "outputs": [],
   "source": [
    "!pip install boto3 pandas tqdm ipywidgets"
   ]
  },
  {
   "cell_type": "code",
   "execution_count": null,
   "id": "d0b8fa71-cb07-4ece-88ae-146f524dcba6",
   "metadata": {},
   "outputs": [],
   "source": [
    "## Imports to load from S3 bucket\n",
    "import os\n",
    "import boto3"
   ]
  },
  {
   "cell_type": "code",
   "execution_count": null,
   "id": "a65af446-3b75-44e9-98d8-06da6a77a94e",
   "metadata": {},
   "outputs": [],
   "source": [
    "## Load all pipeline parameters\n",
    "\n",
    "key_id = os.environ.get('S3_ACCESS_KEY_ID')\n",
    "secret_key = os.environ.get('S3_SECRET_ACCESS_KEY')\n",
    "bucket_name= os.environ.get('bucket')\n",
    "endpoint_s3 = os.environ.get(\"S3_ENDPOINT\")\n",
    "dataset_name = os.environ.get(\"dataset_name\")"
   ]
  },
  {
   "cell_type": "code",
   "execution_count": null,
   "id": "a7bced94-c866-41a6-b83a-9e0a7f0faf44",
   "metadata": {},
   "outputs": [],
   "source": [
    "if(key_id is None or secret_key is None or bucket_name is None):\n",
    "    raise TypeError(\"An env variables is not set\")"
   ]
  },
  {
   "cell_type": "code",
   "execution_count": null,
   "id": "8dba2b31-a583-46a4-a859-fd183b785bfd",
   "metadata": {},
   "outputs": [],
   "source": [
    "full_path = f\"{bucket_name}/datasets/labeled/text-classification/{dataset_name}\"\n",
    "print(f\"\\n Getting from S3 bucket: {bucket_name}\")\n",
    "print(f\"\\nIn path: {full_path}\")"
   ]
  },
  {
   "cell_type": "code",
   "execution_count": null,
   "id": "c06e80b3-63e9-414f-ae35-dafebe42c095",
   "metadata": {},
   "outputs": [],
   "source": [
    "session = boto3.session.Session()\n",
    "s3_client = session.client('s3',\n",
    "                        region_name='nyc3',\n",
    "                        endpoint_url=endpoint_s3,\n",
    "                        aws_access_key_id=key_id,\n",
    "                        aws_secret_access_key=secret_key)"
   ]
  },
  {
   "cell_type": "code",
   "execution_count": null,
   "id": "209ae95f-63a0-4c8d-856a-11c1589e5cc5",
   "metadata": {},
   "outputs": [],
   "source": [
    "paginator=s3_client.get_paginator('list_objects_v2')\n",
    "pages=paginator.paginate(Bucket=bucket_name,Prefix=f\"datasets/labeled/text-classification/{dataset_name}\")"
   ]
  },
  {
   "cell_type": "code",
   "execution_count": null,
   "id": "cbb9140f-2266-484a-a942-a8451e7a007b",
   "metadata": {},
   "outputs": [],
   "source": [
    "import json\n",
    "\n",
    "rows=[]\n",
    "id2label={}\n",
    "label2id={}\n",
    "\n",
    "i = 0\n",
    "j = 0\n",
    "for page in pages:\n",
    "    # Since we also don't know the total number of objects, wrap this loop with tqdm as well\n",
    "    # Set leave=False to clear each object's progress bar upon completion, reducing clutter\n",
    "    for obj in page['Contents']:\n",
    "        data = s3_client.get_object(Bucket=bucket_name, Key=obj.get('Key'))\n",
    "        content = (data['Body'].read()).decode(\"utf-8\")\n",
    "        if(i > 0 and isinstance(content, str)):\n",
    "            annotation = json.loads(content)\n",
    "            result = annotation.get(\"result\")\n",
    "            if(len(result) <= 0):\n",
    "                continue\n",
    "            label = ((result[0]).get(\"value\")).get(\"choices\")[0]\n",
    "\n",
    "            if(label not in label2id):\n",
    "                label2id[label] = j\n",
    "                id2label[j] = label\n",
    "                j += 1\n",
    "            row = {\n",
    "                (annotation.get(\"result\")[0]).get(\"from_name\"): label,\n",
    "                **(annotation.get(\"task\")).get(\"data\"),\n",
    "            }\n",
    "            rows.append(row)\n",
    "        i += 1"
   ]
  },
  {
   "cell_type": "code",
   "execution_count": null,
   "id": "887f70ac-4d91-4ee9-a3ea-8428ac162ca2",
   "metadata": {},
   "outputs": [],
   "source": [
    "import pandas\n",
    "df= pandas.DataFrame(rows)\n",
    "df.to_csv(path_or_buf='./dataset.csv',index=False)\n",
    "print(f\"\\nDataframe creation completed\")\n",
    "print(f\"A total amount of {i} rows were processed\")\n",
    "print(f\"Resulting label2id:\\n{label2id}\")\n",
    "\n",
    "with open('label2id.json', 'w') as fp:\n",
    "    json.dump(label2id, fp)\n",
    "with open('id2label.json', 'w') as fp:\n",
    "    json.dump(id2label, fp)"
   ]
  }
 ],
 "metadata": {
  "kernelspec": {
   "display_name": "Python 3.9",
   "language": "python",
   "name": "python3"
  },
  "language_info": {
   "codemirror_mode": {
    "name": "ipython",
    "version": 3
   },
   "file_extension": ".py",
   "mimetype": "text/x-python",
   "name": "python",
   "nbconvert_exporter": "python",
   "pygments_lexer": "ipython3",
   "version": "3.9.18"
  }
 },
 "nbformat": 4,
 "nbformat_minor": 5
}
