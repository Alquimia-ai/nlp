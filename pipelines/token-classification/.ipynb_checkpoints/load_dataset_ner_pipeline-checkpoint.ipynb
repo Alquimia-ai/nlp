{
 "cells": [
  {
   "cell_type": "code",
   "execution_count": null,
   "id": "4e182df7-fb59-4b71-90de-e3a5e3808105",
   "metadata": {},
   "outputs": [],
   "source": [
    "!pip install boto3 pandas"
   ]
  },
  {
   "cell_type": "code",
   "execution_count": null,
   "id": "f9a7b6fb-9639-43c0-8e86-19cd6d25a0f6",
   "metadata": {},
   "outputs": [],
   "source": [
    "## Imports to load from S3 bucket\n",
    "import os\n",
    "import boto3"
   ]
  },
  {
   "cell_type": "code",
   "execution_count": null,
   "id": "b413224e-0c22-4c7b-b7f5-4851937679aa",
   "metadata": {},
   "outputs": [],
   "source": [
    "## Load all pipeline parameters\n",
    "key_id = os.environ.get('S3_ACCESS_KEY_ID')\n",
    "secret_key = os.environ.get('S3_SECRET_ACCESS_KEY')\n",
    "model_name= os.environ.get(\"model_name\")\n",
    "bucket_name= os.environ.get(\"bucket\")"
   ]
  },
  {
   "cell_type": "code",
   "execution_count": null,
   "id": "66add076-cdfe-421d-a32a-c2a5dd5b15d7",
   "metadata": {},
   "outputs": [],
   "source": [
    "if(key_id is None or secret_key is None or bucket_name is None):\n",
    "    raise TypeError(\"An env variables is not set\")"
   ]
  },
  {
   "cell_type": "code",
   "execution_count": null,
   "id": "4aabcf60-db15-487a-8fa7-c2a1227ac1ca",
   "metadata": {},
   "outputs": [],
   "source": [
    "full_path= f\"{bucket_name}/datasets/labeled/token-classification/{model_name}\"\n",
    "print(f\"\\n Getting from S3 bucket: {bucket_name}\")\n",
    "print(f\"\\nIn path: {full_path}\")"
   ]
  },
  {
   "cell_type": "code",
   "execution_count": null,
   "id": "b6ee2fb5-a30d-4021-a4da-669c22209d6c",
   "metadata": {},
   "outputs": [],
   "source": [
    "## Load s3 session\n",
    "session = boto3.session.Session()\n",
    "s3_client = session.client('s3',\n",
    "                        region_name='nyc3',\n",
    "                        endpoint_url='https://nyc3.digitaloceanspaces.com',\n",
    "                        aws_access_key_id=key_id,\n",
    "                        aws_secret_access_key=secret_key)"
   ]
  },
  {
   "cell_type": "code",
   "execution_count": null,
   "id": "fff1d9e2-9c08-492a-b9fd-cf7ff59f8552",
   "metadata": {},
   "outputs": [],
   "source": [
    "paginator=s3_client.get_paginator('list_objects_v2')\n",
    "pages=paginator.paginate(Bucket=bucket_name,Prefix=f\"datasets/labeled/text-classification/{model_name}\")"
   ]
  },
  {
   "cell_type": "code",
   "execution_count": null,
   "id": "3b28512b-b085-4e6e-97db-36bbd0e97370",
   "metadata": {},
   "outputs": [],
   "source": [
    "import pandas as pd\n",
    "def assignSeq2Df(seq):\n",
    "    task=seq.get(\"task\")\n",
    "    key=list(task.get(\"data\").keys())[0]\n",
    "    input_sentence=task.get(\"data\")[key]\n",
    "    sentenceByToken=input_sentence.split(\" \")\n",
    "    idFromToken=[]\n",
    "    for token in sentenceByToken:\n",
    "        idFromToken.append(0)\n",
    "    labels=seq.get(\"result\")\n",
    "    if(len(results) > 0):\n",
    "        for label in labels:\n",
    "            i=0\n",
    "            for token in sentenceByToken:\n",
    "                if(label.get(\"value\").get(\"text\") == token):\n",
    "                    idFromToken[i]=(label.get(\"value\").get(\"labels\")[0])\n",
    "                i+=1\n",
    "    return {\n",
    "    \"sentenceByToken\":sentenceByToken,\n",
    "    \"idFromToken\":idFromToken\n",
    "    }"
   ]
  },
  {
   "cell_type": "code",
   "execution_count": null,
   "id": "be138e9f-e314-4db3-a3ed-b5d9fa191af0",
   "metadata": {},
   "outputs": [],
   "source": [
    "import json\n",
    "import pandas as pd\n",
    "from tqdm.notebook import tqdm\n",
    "paginator=s3_client.get_paginator('list_objects_v2')\n",
    "pages=paginator.paginate(Bucket=bucket_name,Prefix=f\"datasets/labeled/token-classification/{model_name}\")\n",
    "tags=[\n",
    " \"O\"\n",
    "]\n",
    "tags2id = {\n",
    "\"0\":0}\n",
    "df=[]\n",
    "for page in pages:\n",
    "    page_objects = page.get('Contents', [])\n",
    "    i=0\n",
    "    j=1\n",
    "    for obj in page_objects:\n",
    "        data = s3_client.get_object(Bucket=bucket_name, Key=obj.get('Key'))\n",
    "        content =(data['Body'].read()).decode(\"utf-8\")\n",
    "        if(i>0 and type(content) is str):\n",
    "            annotation=json.loads(content)\n",
    "            results=annotation.get(\"result\")\n",
    "            if(len(results) <= 0):\n",
    "                continue\n",
    "            for result in results:\n",
    "                label=(result.get(\"value\")).get(\"labels\")[0]\n",
    "                if(label not in tags2id and label not  in tags):\n",
    "                    tags2id={**tags2id,label:j}\n",
    "                    tags.append(label)\n",
    "                    j+=1\n",
    "            seq = assignSeq2Df(annotation)\n",
    "            df.append(\n",
    "                {\n",
    "                    \"_id\" : i,\n",
    "                \"tokens\":seq.get(\"sentenceByToken\"),\n",
    "                \"ner_tags\":seq.get(\"idFromToken\")\n",
    "                }\n",
    "            )\n",
    "        i+=1\n",
    "df=pd.DataFrame(df)\n",
    "print(f\"Finished processing a total amount of {len(df.index)} annotations\")"
   ]
  },
  {
   "cell_type": "code",
   "execution_count": null,
   "id": "9d6863df-1d31-46e0-a6dd-a94f64219bd1",
   "metadata": {},
   "outputs": [],
   "source": [
    "### Save tags & tags2id for training metadata\n",
    "with open('tags2id.json', 'w') as fp:\n",
    "    json.dump(tags2id, fp)\n",
    "    print(\"Saved tags2id.json\")\n",
    "\n",
    "with open('tags.json', 'w') as fp:\n",
    "    json.dump({\n",
    "    \"tags\":tags}, fp)\n",
    "    print(\"Saved tags.json\")"
   ]
  },
  {
   "cell_type": "code",
   "execution_count": null,
   "id": "cd557595-4402-4402-b3bc-6785ae2c4304",
   "metadata": {},
   "outputs": [],
   "source": [
    "### Save the dataframe to be loaded inside tran notebook\n",
    "\n",
    "df.to_csv(path_or_buf='./dataset.csv',index=False)\n",
    "print(f\"\\nDataframe creation completed\")"
   ]
  }
 ],
 "metadata": {
  "kernelspec": {
   "display_name": "Python 3.9",
   "language": "python",
   "name": "python3"
  },
  "language_info": {
   "codemirror_mode": {
    "name": "ipython",
    "version": 3
   },
   "file_extension": ".py",
   "mimetype": "text/x-python",
   "name": "python",
   "nbconvert_exporter": "python",
   "pygments_lexer": "ipython3",
   "version": "3.9.18"
  }
 },
 "nbformat": 4,
 "nbformat_minor": 5
}
