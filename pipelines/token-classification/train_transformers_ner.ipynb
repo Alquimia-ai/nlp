{
 "cells": [
  {
   "cell_type": "code",
   "execution_count": null,
   "id": "c7568221-fc98-40c4-aaca-1a7cd8895afe",
   "metadata": {},
   "outputs": [],
   "source": [
    "# Step 1: Install necessary libraries\n",
    "!pip install datasets evaluate transformers[sentencepiece] boto3 accelerate seqeval mlflow optimum[openvino,nncf] -q"
   ]
  },
  {
   "cell_type": "code",
   "execution_count": null,
   "id": "3df9b49f-ba8b-4636-a9d8-314074938615",
   "metadata": {},
   "outputs": [],
   "source": [
    "### Load all pipeline parameters\n",
    "import os\n",
    "key_id = os.environ.get('S3_ACCESS_KEY_ID')\n",
    "secret_key = os.environ.get('S3_SECRET_ACCESS_KEY')\n",
    "model_name= os.environ.get(\"model_name\")\n",
    "bucket_name= os.environ.get(\"bucket\")\n",
    "version_model=os.environ.get(\"version\")\n",
    "run_name=os.environ.get(\"run_name\")"
   ]
  },
  {
   "cell_type": "code",
   "execution_count": null,
   "id": "845ba518-8e08-41ea-8cd6-2e44515b2e1b",
   "metadata": {},
   "outputs": [],
   "source": [
    "import mlflow\n",
    "\n",
    "## Set mlflow tracking URI\n",
    "mlflow.set_tracking_uri(os.environ.get(\"MLFLOW_TRACKING_URI\"))\n",
    "\n",
    "print(f\"Your model is going to be saved with name `{model_name}` & version `{version_model}`\")\n",
    "print(f\"\\n Under directory models/openvino/token-classification/{model_name}/{version_model}\")\n",
    "model_path_s3=f\"models/openvino/token-classification/{model_name}/{version_model}\""
   ]
  },
  {
   "cell_type": "code",
   "execution_count": null,
   "id": "29cc0360-2b95-46fc-8cbf-8335b57b4af1",
   "metadata": {},
   "outputs": [],
   "source": [
    "train_size=0.7\n",
    "valid_size= 0.1\n",
    "test_size = 0.2\n",
    "print(f\"Dataframe is going to be splitted into {train_size*100:.0f}%, {valid_size*100:.0f}% valid size and {test_size*100:.0f}% data to test\")"
   ]
  },
  {
   "cell_type": "code",
   "execution_count": null,
   "id": "516177a3-012a-4f49-acd8-3508e2291104",
   "metadata": {},
   "outputs": [],
   "source": [
    "import pandas as pd\n",
    "import json\n",
    "import ast\n",
    "from datasets import Dataset, Features, Sequence, ClassLabel, Value\n",
    "\n",
    "labeled_dataset = \"dataset.csv\"\n",
    "\n",
    "\n",
    "# Read json files label2id &  id2label\n",
    "# Opening JSON file\n",
    "file_label2id = open('tags.json')\n",
    "file_id2label = open('tags2id.json')\n",
    "\n",
    "tags = json.load(file_label2id)\n",
    "tags2id=json.load(file_id2label)\n",
    "\n",
    "\n",
    "print(f\"\\n{tags.get('tags')}\")\n",
    "print(f\"{tags2id}\")\n",
    "os.remove(\"tags.json\")\n",
    "os.remove(\"tags2id.json\")\n",
    "\n",
    "\n",
    "# Assuming the file is in the current working directory\n",
    "df = pd.read_csv(labeled_dataset)\n",
    "\n",
    "\n",
    "# Assuming 'ner_tags' and 'tokens' are stored as strings representing lists\n",
    "# Convert 'ner_tags' and 'tokens' from string representations of lists back to actual lists\n",
    "df['ner_tags'] = df['ner_tags'].apply(ast.literal_eval)\n",
    "df['tokens'] = df['tokens'].apply(ast.literal_eval)\n",
    "\n",
    "\n",
    "\n",
    "# Define your dataset's features, particularly the ner_tags as a sequence of ClassLabel\n",
    "features = Features({\n",
    "    '_id': Value('int64'),  # or whatever your ID's type is\n",
    "    'tokens': Sequence(Value('string')),\n",
    "    'ner_tags': Sequence(ClassLabel(names=tags.get(\"tags\")))\n",
    "})\n",
    "\n",
    "\n",
    "df.head()"
   ]
  },
  {
   "cell_type": "code",
   "execution_count": null,
   "id": "d0560fd6-e67a-40a9-bda7-2c4b9e9cf8a2",
   "metadata": {},
   "outputs": [],
   "source": [
    "# Function to convert ner_tags from strings to their corresponding IDs\n",
    "def tags_to_ids(tags):\n",
    "    # Ensure tag is a string, matching the format of keys in tags2id\n",
    "    return [tags2id[str(tag)] for tag in tags]\n",
    "\n",
    "df['ner_tags'] = df['ner_tags'].apply(tags_to_ids)"
   ]
  },
  {
   "cell_type": "code",
   "execution_count": null,
   "id": "a4f9afce-d279-4285-b5c0-ab20e0d891bd",
   "metadata": {},
   "outputs": [],
   "source": [
    "from datasets import DatasetDict\n",
    "df_dataset = Dataset.from_pandas(df,features=features)\n",
    "\n",
    "# Calculate the split sizes for validation and test sets as a proportion of the remainder\n",
    "remainder_size = 1.0 - train_size\n",
    "proportion_valid = valid_size / remainder_size\n",
    "proportion_test = test_size / remainder_size\n",
    "\n",
    "\n",
    "# Split the dataset into training and the remainder (test + validation)\n",
    "train_dataset, test_valid_dataset = df_dataset.train_test_split(test_size=remainder_size).values()\n",
    "\n",
    "# Now split the remainder into validation and test datasets\n",
    "valid_dataset, test_dataset = test_valid_dataset.train_test_split(test_size=proportion_test).values()\n",
    "\n",
    "\n",
    "# Creating the DatasetDict with the splits\n",
    "dataset = DatasetDict({\n",
    "    \"train\": train_dataset,\n",
    "    \"validation\": valid_dataset,\n",
    "    \"test\": test_dataset\n",
    "})"
   ]
  },
  {
   "cell_type": "code",
   "execution_count": null,
   "id": "39e8a0b0-3eeb-4d0f-8777-54b3a0e14ee7",
   "metadata": {},
   "outputs": [],
   "source": [
    "dataset"
   ]
  },
  {
   "cell_type": "code",
   "execution_count": null,
   "id": "6d2a724d-1455-43ef-bc27-d479a64d08bc",
   "metadata": {},
   "outputs": [],
   "source": [
    "words = dataset[\"train\"][1][\"tokens\"]\n",
    "labels = dataset[\"train\"][1][\"ner_tags\"]\n",
    "line1 = \"\"\n",
    "line2 = \"\"\n",
    "tags=tags.get(\"tags\")\n",
    "for word, label in zip(words, labels):\n",
    "    full_label = tags[label]\n",
    "    max_length = max(len(word), len(full_label))\n",
    "    line1 += word + \" \" * (max_length - len(word) + 1)\n",
    "    line2 += full_label + \" \" * (max_length - len(full_label) + 1)\n",
    "\n",
    "print(line1)\n",
    "print(line2)"
   ]
  },
  {
   "cell_type": "code",
   "execution_count": null,
   "id": "8131598d-ef5e-4180-87bf-d123c99f8984",
   "metadata": {},
   "outputs": [],
   "source": [
    "from transformers import AutoTokenizer\n",
    "\n",
    "model_checkpoint = \"distilbert-base-uncased\"\n",
    "tokenizer = AutoTokenizer.from_pretrained(model_checkpoint)"
   ]
  },
  {
   "cell_type": "code",
   "execution_count": null,
   "id": "4126708a-6614-461a-98e9-cf7b00a672a2",
   "metadata": {},
   "outputs": [],
   "source": [
    "inputs = tokenizer(dataset[\"train\"][0][\"tokens\"], is_split_into_words=True)"
   ]
  },
  {
   "cell_type": "code",
   "execution_count": null,
   "id": "f049c214-f855-4c79-9162-94e8568fdb9f",
   "metadata": {},
   "outputs": [],
   "source": [
    "def align_labels_with_tokens(labels, word_ids):\n",
    "    new_labels = []\n",
    "    current_word = None\n",
    "    for word_id in word_ids:\n",
    "        if word_id != current_word:\n",
    "            # Start of a new word!\n",
    "            current_word = word_id\n",
    "            label = -100 if word_id is None else labels[word_id]\n",
    "            new_labels.append(label)\n",
    "        elif word_id is None:\n",
    "            # Special token\n",
    "            new_labels.append(-100)\n",
    "        else:\n",
    "            # Same word as previous token\n",
    "            label = labels[word_id]\n",
    "            # If the label is B-XXX we change it to I-XXX\n",
    "            if label % 2 == 1:\n",
    "                label += 1\n",
    "            new_labels.append(label)\n",
    "\n",
    "    return new_labels"
   ]
  },
  {
   "cell_type": "code",
   "execution_count": null,
   "id": "a0eaab90-77e1-475c-9e0a-f1922c6f2435",
   "metadata": {},
   "outputs": [],
   "source": [
    "labels = dataset[\"train\"][0][\"ner_tags\"]\n",
    "word_ids = inputs.word_ids()\n",
    "print(labels)\n",
    "print(align_labels_with_tokens(labels, word_ids))"
   ]
  },
  {
   "cell_type": "code",
   "execution_count": null,
   "id": "58baf820-81c5-4f9b-ad10-e32fe377e1d6",
   "metadata": {},
   "outputs": [],
   "source": [
    "def tokenize_and_align_labels(examples):\n",
    "    tokenized_inputs = tokenizer(examples[\"tokens\"], truncation=True, is_split_into_words=True)\n",
    "\n",
    "    labels = []\n",
    "    for i, label in enumerate(examples[f\"ner_tags\"]):\n",
    "        word_ids = tokenized_inputs.word_ids(batch_index=i)  # Map tokens to their respective word.\n",
    "        previous_word_idx = None\n",
    "        label_ids = []\n",
    "        for word_idx in word_ids:  # Set the special tokens to -100.\n",
    "            if word_idx is None:\n",
    "                label_ids.append(-100)\n",
    "            elif word_idx != previous_word_idx:  # Only label the first token of a given word.\n",
    "                label_ids.append(label[word_idx])\n",
    "            else:\n",
    "                label_ids.append(-100)\n",
    "            previous_word_idx = word_idx\n",
    "        labels.append(label_ids)\n",
    "\n",
    "    tokenized_inputs[\"labels\"] = labels\n",
    "    return tokenized_inputs"
   ]
  },
  {
   "cell_type": "code",
   "execution_count": null,
   "id": "5691e2ce-1a87-46a0-ab7b-e1eccc3f0d33",
   "metadata": {},
   "outputs": [],
   "source": [
    "# apply the preprocessing function over the entire dataset\n",
    "tokenized_datasets = dataset.map(\n",
    "    tokenize_and_align_labels,\n",
    "    batched=True,\n",
    ")"
   ]
  },
  {
   "cell_type": "code",
   "execution_count": null,
   "id": "3d6be7d8-f8fb-461f-a83a-bca603181404",
   "metadata": {},
   "outputs": [],
   "source": [
    "from transformers import DataCollatorForTokenClassification\n",
    "\n",
    "data_collator = DataCollatorForTokenClassification(tokenizer=tokenizer)"
   ]
  },
  {
   "cell_type": "code",
   "execution_count": null,
   "id": "4b52134f-6a3d-4b91-ad5f-3fa6e65e9a9a",
   "metadata": {},
   "outputs": [],
   "source": [
    "## Metrics\n",
    "import evaluate\n",
    "\n",
    "metric = evaluate.load(\"seqeval\")"
   ]
  },
  {
   "cell_type": "code",
   "execution_count": null,
   "id": "993c1e07-d900-4c6e-9755-e771d884eba8",
   "metadata": {},
   "outputs": [],
   "source": [
    "import numpy as np\n",
    "example = dataset[\"train\"][0]\n",
    "labels = [tags[i] for i in example[f\"ner_tags\"]]\n",
    "\n",
    "\n",
    "def compute_metrics(p):\n",
    "    predictions, labels = p\n",
    "    predictions = np.argmax(predictions, axis=2)\n",
    "\n",
    "    true_predictions = [\n",
    "        [tags[p] for (p, l) in zip(prediction, label) if l != -100]\n",
    "        for prediction, label in zip(predictions, labels)\n",
    "    ]\n",
    "    true_labels = [\n",
    "        [tags[l] for (p, l) in zip(prediction, label) if l != -100]\n",
    "        for prediction, label in zip(predictions, labels)\n",
    "    ]\n",
    "\n",
    "    results = metric.compute(predictions=true_predictions, references=true_labels)\n",
    "    return {\n",
    "        \"precision\": results[\"overall_precision\"],\n",
    "        \"recall\": results[\"overall_recall\"],\n",
    "        \"f1\": results[\"overall_f1\"],\n",
    "        \"accuracy\": results[\"overall_accuracy\"],\n",
    "    }"
   ]
  },
  {
   "cell_type": "code",
   "execution_count": null,
   "id": "89456350-befe-40cb-aea6-622c17275404",
   "metadata": {},
   "outputs": [],
   "source": [
    "id2label = {i: label for i, label in enumerate(tags)}\n",
    "label2id = {v: k for k, v in id2label.items()}"
   ]
  },
  {
   "cell_type": "code",
   "execution_count": null,
   "id": "54f5bca6-5778-4d53-bf13-d5d067078a41",
   "metadata": {},
   "outputs": [],
   "source": [
    "mlflow.set_experiment(model_name)"
   ]
  },
  {
   "cell_type": "code",
   "execution_count": null,
   "id": "6990acbb-fa24-4656-a824-8eb574a3ac4e",
   "metadata": {},
   "outputs": [],
   "source": [
    "from transformers import AutoModelForTokenClassification\n",
    "\n",
    "model = AutoModelForTokenClassification.from_pretrained(\n",
    "    model_checkpoint,\n",
    "    num_labels=len(tags),\n",
    "    id2label=id2label,\n",
    "    label2id=label2id,\n",
    ")"
   ]
  },
  {
   "cell_type": "code",
   "execution_count": null,
   "id": "8fbca2ac-b42d-4796-93c9-18c726332f3e",
   "metadata": {},
   "outputs": [],
   "source": [
    "os.environ[\"MFLOW_EXPERIMENT_NAME\"]=model_name\n",
    "os.environ[\"MLFLOW_FLATTEN_PARAMS\"]=\"1\""
   ]
  },
  {
   "cell_type": "code",
   "execution_count": null,
   "id": "57394601-9cf8-4aba-a87d-02d544248a4d",
   "metadata": {},
   "outputs": [],
   "source": [
    "from transformers import TrainingArguments,Trainer\n",
    "\n",
    "args = TrainingArguments(\n",
    "    hub_model_id=model_name,\n",
    "    output_dir=run_name,\n",
    "    learning_rate=2e-5,\n",
    "    per_device_train_batch_size=16,\n",
    "    per_device_eval_batch_size=16,\n",
    "    num_train_epochs=8,\n",
    "    weight_decay=0.01,\n",
    "    evaluation_strategy=\"epoch\",\n",
    "    logging_strategy=\"epoch\",\n",
    ")"
   ]
  },
  {
   "cell_type": "code",
   "execution_count": null,
   "id": "bf99efc5-adf2-4621-82db-ca5f81a0ecc6",
   "metadata": {},
   "outputs": [],
   "source": [
    "trainer = Trainer(\n",
    "    model=model,\n",
    "    args=args,\n",
    "    train_dataset=tokenized_datasets[\"train\"],\n",
    "    eval_dataset=tokenized_datasets[\"test\"],\n",
    "    tokenizer=tokenizer,\n",
    "    data_collator=data_collator,\n",
    "    compute_metrics=compute_metrics,\n",
    ")\n",
    "trainer.train()"
   ]
  },
  {
   "cell_type": "code",
   "execution_count": null,
   "id": "427cdd1f-2ffa-4ab7-a157-227193794cf5",
   "metadata": {},
   "outputs": [],
   "source": [
    "mlflow.end_run()"
   ]
  },
  {
   "cell_type": "code",
   "execution_count": null,
   "id": "f1b9321b-4cd5-41bd-9040-87b7a871dded",
   "metadata": {},
   "outputs": [],
   "source": [
    "## Save pytorch \n",
    "trainer.save_model(model_name)"
   ]
  },
  {
   "cell_type": "code",
   "execution_count": null,
   "id": "6fa40b0b-7f8d-453f-a4e8-31fac45a2711",
   "metadata": {},
   "outputs": [],
   "source": [
    "from optimum.intel import OVModelForTokenClassification\n",
    "\n",
    "ov_model= OVModelForTokenClassification.from_pretrained(model_name,export=True)\n",
    "ov_model.save_pretrained(f\"{model_name}_openvino\")"
   ]
  },
  {
   "cell_type": "code",
   "execution_count": null,
   "id": "e8ea2bcf-6db7-4f5c-949c-83da2c08b200",
   "metadata": {},
   "outputs": [],
   "source": [
    "import boto3\n",
    "from datetime import datetime\n",
    "\n",
    "\n",
    "session = boto3.session.Session()\n",
    "s3_client = session.client('s3',\n",
    "                        region_name='nyc3',\n",
    "                        endpoint_url='https://nyc3.digitaloceanspaces.com',\n",
    "                        aws_access_key_id=key_id,\n",
    "                        aws_secret_access_key=secret_key)\n",
    "\n",
    "def uploadModel(path):\n",
    "     for root,dirs,files in os.walk(path):\n",
    "            for file in files:\n",
    "                print(f\"Uploading file: {file}\")\n",
    "                s3_client.upload_file(os.path.join(root,file),bucket_name,f\"models/openvino/token-classification/{model_name}/{version_model}/{file}\")"
   ]
  },
  {
   "cell_type": "code",
   "execution_count": null,
   "id": "c6d60fa9-d760-4dd2-b838-4118ada382b1",
   "metadata": {},
   "outputs": [],
   "source": [
    "#Upload ov binary to S3 & mlflow run\n",
    "uploadModel(f\"{model_name}_openvino\")"
   ]
  }
 ],
 "metadata": {
  "kernelspec": {
   "display_name": "Python 3.9",
   "language": "python",
   "name": "python3"
  },
  "language_info": {
   "codemirror_mode": {
    "name": "ipython",
    "version": 3
   },
   "file_extension": ".py",
   "mimetype": "text/x-python",
   "name": "python",
   "nbconvert_exporter": "python",
   "pygments_lexer": "ipython3",
   "version": "3.9.18"
  }
 },
 "nbformat": 4,
 "nbformat_minor": 5
}
