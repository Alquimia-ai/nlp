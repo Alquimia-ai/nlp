{
 "cells": [
  {
   "cell_type": "markdown",
   "id": "61ee089d-d8c9-4142-833e-013b068256be",
   "metadata": {},
   "source": [
    "### Load dataset from common language to train language detector"
   ]
  },
  {
   "cell_type": "code",
   "execution_count": 1,
   "id": "33f91dda-220d-4edc-98f6-b4b4d24ae0f5",
   "metadata": {
    "tags": []
   },
   "outputs": [
    {
     "name": "stdout",
     "output_type": "stream",
     "text": [
      "\n",
      "\u001b[1m[\u001b[0m\u001b[34;49mnotice\u001b[0m\u001b[1;39;49m]\u001b[0m\u001b[39;49m A new release of pip available: \u001b[0m\u001b[31;49m22.2.2\u001b[0m\u001b[39;49m -> \u001b[0m\u001b[32;49m24.0\u001b[0m\n",
      "\u001b[1m[\u001b[0m\u001b[34;49mnotice\u001b[0m\u001b[1;39;49m]\u001b[0m\u001b[39;49m To update, run: \u001b[0m\u001b[32;49mpip install --upgrade pip\u001b[0m\n"
     ]
    }
   ],
   "source": [
    "!pip install transformers datasets soundfile -q"
   ]
  },
  {
   "cell_type": "code",
   "execution_count": 2,
   "id": "daf005f3-08f2-43f7-b815-57e388e8d2ad",
   "metadata": {
    "tags": []
   },
   "outputs": [
    {
     "name": "stderr",
     "output_type": "stream",
     "text": [
      "/opt/app-root/lib64/python3.9/site-packages/datasets/load.py:1486: FutureWarning: The repository for common_language contains custom code which must be executed to correctly load the dataset. You can inspect the repository content at https://hf.co/datasets/common_language\n",
      "You can avoid this message in future by passing the argument `trust_remote_code=True`.\n",
      "Passing `trust_remote_code=True` will be mandatory to load this dataset from the next major release of `datasets`.\n",
      "  warnings.warn(\n"
     ]
    }
   ],
   "source": [
    "from datasets import load_dataset,concatenate_datasets\n",
    "\n",
    "\n",
    "dataset = load_dataset(\"common_language\")"
   ]
  },
  {
   "cell_type": "code",
   "execution_count": 3,
   "id": "12ef833b-e306-4285-8875-475f12b94e78",
   "metadata": {
    "tags": []
   },
   "outputs": [],
   "source": [
    "train= dataset[\"train\"]\n",
    "valid = dataset[\"validation\"]\n",
    "test = dataset[\"test\"]\n",
    "dataset= concatenate_datasets([train,valid,test])"
   ]
  },
  {
   "cell_type": "code",
   "execution_count": 4,
   "id": "bfeb5445-8378-4f87-b1fa-1c0fa5330c0d",
   "metadata": {
    "tags": []
   },
   "outputs": [
    {
     "data": {
      "text/plain": [
       "['client_id', 'path', 'audio', 'sentence', 'age', 'gender', 'language']"
      ]
     },
     "execution_count": 4,
     "metadata": {},
     "output_type": "execute_result"
    }
   ],
   "source": [
    "dataset.column_names"
   ]
  },
  {
   "cell_type": "code",
   "execution_count": 5,
   "id": "d28e760c-da15-4a07-aa34-78166cc7c45c",
   "metadata": {
    "tags": []
   },
   "outputs": [],
   "source": [
    "columns_to_use = [\"sentence\",\"language\"]"
   ]
  },
  {
   "cell_type": "code",
   "execution_count": 6,
   "id": "75dda6b7-2cd5-4b08-98dc-5f7fa1e26392",
   "metadata": {
    "tags": []
   },
   "outputs": [
    {
     "data": {
      "text/plain": [
       "Dataset({\n",
       "    features: ['sentence', 'language', 'sentiment'],\n",
       "    num_rows: 34045\n",
       "})"
      ]
     },
     "execution_count": 6,
     "metadata": {},
     "output_type": "execute_result"
    }
   ],
   "source": [
    "### Here we have a shorter version of the dataset\n",
    "dataset= dataset.select_columns(columns_to_use)\n",
    "dataset.add_column(\"sentiment\",[\"foo\"]*len(dataset))"
   ]
  },
  {
   "cell_type": "code",
   "execution_count": 7,
   "id": "5d51c19d-95d3-4430-87d1-e2690bd033b3",
   "metadata": {
    "tags": []
   },
   "outputs": [],
   "source": [
    "### Choose which countries do you wish to add \n",
    "desired_languages = [\"Spanish\", \"Portuguese\", \"Italian\", \"English\", \"French\"]"
   ]
  },
  {
   "cell_type": "code",
   "execution_count": 8,
   "id": "9b854111-3500-4feb-98f1-08221f2cd453",
   "metadata": {
    "tags": []
   },
   "outputs": [],
   "source": [
    "languages = dataset.features[\"language\"].names\n",
    "id2Lang={}\n",
    "lang2Id={}\n",
    "desired_languages_idx=[]\n",
    "for idx,lang in enumerate(languages):\n",
    "    if lang in desired_languages:\n",
    "        id2Lang[idx] =lang\n",
    "        lang2Id[lang]= idx\n",
    "        if idx not in desired_languages_idx:\n",
    "            desired_languages_idx.append(idx)"
   ]
  },
  {
   "cell_type": "code",
   "execution_count": 9,
   "id": "d1f1bcbc-3625-4634-a834-5be2ab3a266c",
   "metadata": {
    "tags": []
   },
   "outputs": [
    {
     "name": "stdout",
     "output_type": "stream",
     "text": [
      "{11: 'English', 14: 'French', 22: 'Italian', 32: 'Portuguese', 38: 'Spanish'}\n",
      "{'English': 11, 'French': 14, 'Italian': 22, 'Portuguese': 32, 'Spanish': 38}\n",
      "[11, 14, 22, 32, 38]\n"
     ]
    }
   ],
   "source": [
    "### Here you have the id2lang and the lang2id mapping\n",
    "print(id2Lang)\n",
    "print(lang2Id)\n",
    "print(desired_languages_idx)"
   ]
  },
  {
   "cell_type": "code",
   "execution_count": 10,
   "id": "31edd379-a8a3-47b5-99f0-86ae112dfa58",
   "metadata": {
    "tags": []
   },
   "outputs": [],
   "source": [
    "dataset = dataset.filter(lambda row: row[\"language\"] in desired_languages_idx)\n",
    "\n",
    "def process_idx_language(example):\n",
    "    example[\"sentiment\"] = id2Lang[example[\"language\"]]\n",
    "    return example\n",
    "\n",
    "dataset = dataset.map(process_idx_language,remove_columns=[\"language\"])\n"
   ]
  },
  {
   "cell_type": "code",
   "execution_count": 11,
   "id": "63d0cbf0-0993-4fd4-91d2-c6b98fa47fda",
   "metadata": {
    "tags": []
   },
   "outputs": [
    {
     "data": {
      "text/plain": [
       "{'sentence': ['It is a charity school whose fees are calculated on a means test.',\n",
       "  'John looked out the window of the show-house, happy he had mortgage approval, but worried about the repayments.',\n",
       "  'At least forty-one protesters were killed in the ensuing engagement.',\n",
       "  'It was so small and undeveloped.',\n",
       "  'Do you mean it?',\n",
       "  'The boy was also saddened; his friend was in pursuit of his destiny.',\n",
       "  'Presently he made a faint sound in his throat.',\n",
       "  'What you eat today walks and talks tomorrow.',\n",
       "  'Where did you find that apple?',\n",
       "  'The agreed text was in three parts.'],\n",
       " 'sentiment': ['English',\n",
       "  'English',\n",
       "  'English',\n",
       "  'English',\n",
       "  'English',\n",
       "  'English',\n",
       "  'English',\n",
       "  'English',\n",
       "  'English',\n",
       "  'English']}"
      ]
     },
     "execution_count": 11,
     "metadata": {},
     "output_type": "execute_result"
    }
   ],
   "source": [
    "dataset[:10]"
   ]
  },
  {
   "cell_type": "code",
   "execution_count": 12,
   "id": "386fe0d2-eef1-4db4-ae14-a6af29fda2c3",
   "metadata": {
    "tags": []
   },
   "outputs": [],
   "source": [
    "dataset = dataset.rename_columns({\"sentence\":\"text\"})"
   ]
  },
  {
   "cell_type": "code",
   "execution_count": 13,
   "id": "f37513a9-62b9-426d-92ba-fa7a176cec20",
   "metadata": {
    "tags": []
   },
   "outputs": [
    {
     "name": "stdout",
     "output_type": "stream",
     "text": [
      "Dataset have columns {'text': Value(dtype='string', id=None), 'sentiment': Value(dtype='string', id=None)} first 10 rows:\n",
      "\n",
      "{'text': ['It is a charity school whose fees are calculated on a means test.', 'John looked out the window of the show-house, happy he had mortgage approval, but worried about the repayments.', 'At least forty-one protesters were killed in the ensuing engagement.', 'It was so small and undeveloped.', 'Do you mean it?', 'The boy was also saddened; his friend was in pursuit of his destiny.', 'Presently he made a faint sound in his throat.', 'What you eat today walks and talks tomorrow.', 'Where did you find that apple?', 'The agreed text was in three parts.'], 'sentiment': ['English', 'English', 'English', 'English', 'English', 'English', 'English', 'English', 'English', 'English']}\n"
     ]
    }
   ],
   "source": [
    "print(f\"Dataset have columns {dataset.features} first 10 rows:\\n\")\n",
    "print(dataset[:10])"
   ]
  },
  {
   "cell_type": "code",
   "execution_count": 14,
   "id": "52a75299-7174-48e2-8ef1-9c44621a93c2",
   "metadata": {
    "tags": []
   },
   "outputs": [],
   "source": [
    "id2label={}\n",
    "label2id={}\n",
    "for key in range(len(lang2Id.keys())):\n",
    "    label2id[desired_languages[key]]=key\n",
    "    id2label[key]=desired_languages[key]"
   ]
  },
  {
   "cell_type": "code",
   "execution_count": 15,
   "id": "5831f9db-bbed-4283-9f14-314ad5fad86a",
   "metadata": {
    "tags": []
   },
   "outputs": [
    {
     "name": "stdout",
     "output_type": "stream",
     "text": [
      "{'Spanish': 0, 'Portuguese': 1, 'Italian': 2, 'English': 3, 'French': 4}\n",
      "{0: 'Spanish', 1: 'Portuguese', 2: 'Italian', 3: 'English', 4: 'French'}\n"
     ]
    }
   ],
   "source": [
    "print(label2id)\n",
    "print(id2label)"
   ]
  },
  {
   "cell_type": "code",
   "execution_count": 16,
   "id": "fd8f8e65-4dae-412e-b300-c5a263753a69",
   "metadata": {
    "tags": []
   },
   "outputs": [
    {
     "data": {
      "application/vnd.jupyter.widget-view+json": {
       "model_id": "de795d4c95644464b7ac2bb0f00d82dc",
       "version_major": 2,
       "version_minor": 0
      },
      "text/plain": [
       "Creating CSV from Arrow format:   0%|          | 0/4 [00:00<?, ?ba/s]"
      ]
     },
     "metadata": {},
     "output_type": "display_data"
    },
    {
     "name": "stdout",
     "output_type": "stream",
     "text": [
      "\n",
      "Dataframe creation completed\n"
     ]
    }
   ],
   "source": [
    "import json\n",
    "dataset.to_csv(path_or_buf='./dataset.csv',index=False)\n",
    "print(f\"\\nDataframe creation completed\")\n",
    "with open('label2id.json', 'w') as fp:\n",
    "    json.dump(label2id, fp)\n",
    "with open('id2label.json', 'w') as fp:\n",
    "    json.dump(id2label, fp)"
   ]
  },
  {
   "cell_type": "code",
   "execution_count": null,
   "id": "77c9cba8-e7fb-495f-b58f-a354d07ffb67",
   "metadata": {},
   "outputs": [],
   "source": []
  }
 ],
 "metadata": {
  "kernelspec": {
   "display_name": "Python 3.9",
   "language": "python",
   "name": "python3"
  },
  "language_info": {
   "codemirror_mode": {
    "name": "ipython",
    "version": 3
   },
   "file_extension": ".py",
   "mimetype": "text/x-python",
   "name": "python",
   "nbconvert_exporter": "python",
   "pygments_lexer": "ipython3",
   "version": "3.9.18"
  }
 },
 "nbformat": 4,
 "nbformat_minor": 5
}
