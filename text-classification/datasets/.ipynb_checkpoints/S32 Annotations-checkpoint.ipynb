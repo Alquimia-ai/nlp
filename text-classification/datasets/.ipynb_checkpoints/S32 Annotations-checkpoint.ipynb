{
 "cells": [
  {
   "cell_type": "code",
   "execution_count": 1,
   "id": "2c13b70d-bd2f-4481-b3ea-807a04b85332",
   "metadata": {
    "tags": []
   },
   "outputs": [
    {
     "data": {
      "application/vnd.jupyter.widget-view+json": {
       "model_id": "a7890d05af3c44098185220ed8b970bd",
       "version_major": 2,
       "version_minor": 0
      },
      "text/plain": [
       "Loading annotations:   0%|          | 0/1000 [00:00<?, ?it/s]"
      ]
     },
     "metadata": {},
     "output_type": "display_data"
    },
    {
     "data": {
      "application/vnd.jupyter.widget-view+json": {
       "model_id": "8485ab055d8c4cab95eb2bdda2936765",
       "version_major": 2,
       "version_minor": 0
      },
      "text/plain": [
       "Loading annotations:   0%|          | 0/264 [00:00<?, ?it/s]"
      ]
     },
     "metadata": {},
     "output_type": "display_data"
    },
    {
     "name": "stdout",
     "output_type": "stream",
     "text": [
      "dataset.json file created successfully\n"
     ]
    }
   ],
   "source": [
    "import os\n",
    "import boto3\n",
    "import json\n",
    "import gzip\n",
    "from tqdm.notebook import tqdm\n",
    "# Retrieve environment variables\n",
    "key_id = os.environ.get('S3_ACCESS_KEY_ID')\n",
    "secret_key = os.environ.get('S3_SECRET_ACCESS_KEY')\n",
    "bucket_name = \"rowdy\"\n",
    "\n",
    "if key_id is None or secret_key is None or bucket_name is None:\n",
    "    raise TypeError(\"An env variables is not set\")\n",
    "\n",
    "    \n",
    "\n",
    "# Initialize S3 client\n",
    "s3 = boto3.client('s3',\n",
    "                  region_name='nyc3',\n",
    "                  endpoint_url='https://nyc3.digitaloceanspaces.com',\n",
    "                  aws_access_key_id=key_id,\n",
    "                  aws_secret_access_key=secret_key)\n",
    "\n",
    "# Paginator for handling large number of objects\n",
    "paginator=s3.get_paginator('list_objects_v2')\n",
    "pages=paginator.paginate(Bucket=bucket_name,Prefix=f\"datasets/labeled/token-classification/products\")\n",
    "\n",
    "# Function to extract and transform JSON data\n",
    "def transform_json_data(json_data):\n",
    "    transformed_data = {\n",
    "        \"id\": json_data[\"id\"],\n",
    "        \"data\": json_data[\"task\"][\"data\"],\n",
    "        \"annotations\": [\n",
    "            {\n",
    "                \"result\": json_data[\"result\"]\n",
    "            }\n",
    "        ]\n",
    "    }\n",
    "    return transformed_data\n",
    "\n",
    "# Array to store transformed JSON objects\n",
    "json_array = []\n",
    "\n",
    "i = 0\n",
    "# Process each JSON file in the bucket\n",
    "for page in pages:\n",
    "    for obj in tqdm(page['Contents'], desc='Loading annotations'):\n",
    "        data = s3.get_object(Bucket=bucket_name, Key=obj.get('Key'))\n",
    "        content = (data['Body'].read()).decode(\"utf-8\")\n",
    "        if(i > 0 and isinstance(content, str)):\n",
    "            annotation = json.loads(content)\n",
    "            transformed_data = transform_json_data(annotation)\n",
    "            json_array.append(transformed_data)\n",
    "        i += 1\n",
    "        \n",
    "# Save the JSON array to a file\n",
    "with open('dataset.json', 'w') as outfile:\n",
    "    json.dump(json_array, outfile, indent=2)\n",
    "\n",
    "print(\"dataset.json file created successfully\")"
   ]
  },
  {
   "cell_type": "code",
   "execution_count": null,
   "id": "59768d26-c397-463b-8f35-42f1bebec262",
   "metadata": {},
   "outputs": [],
   "source": []
  }
 ],
 "metadata": {
  "kernelspec": {
   "display_name": "Python 3.9",
   "language": "python",
   "name": "python3"
  },
  "language_info": {
   "codemirror_mode": {
    "name": "ipython",
    "version": 3
   },
   "file_extension": ".py",
   "mimetype": "text/x-python",
   "name": "python",
   "nbconvert_exporter": "python",
   "pygments_lexer": "ipython3",
   "version": "3.9.18"
  }
 },
 "nbformat": 4,
 "nbformat_minor": 5
}
