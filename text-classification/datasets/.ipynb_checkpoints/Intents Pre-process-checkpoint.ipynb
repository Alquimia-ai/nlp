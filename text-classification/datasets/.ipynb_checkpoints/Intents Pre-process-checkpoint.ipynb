{
 "cells": [
  {
   "cell_type": "markdown",
   "id": "4d36f80e-9291-4bc0-ba1b-873a8d651fdd",
   "metadata": {},
   "source": [
    "# <center>**data cleaning** 🧹\n",
    "\n",
    "This notebook serves as a pipeline to clean/pre-process training data (***data normalization with REGEX***)... \n",
    "\n",
    "---"
   ]
  },
  {
   "cell_type": "code",
   "execution_count": 1,
   "id": "29bd9d06-fe35-4b52-a0bf-dc83bf3af298",
   "metadata": {
    "tags": []
   },
   "outputs": [],
   "source": [
    "import pandas as pd\n",
    "import re"
   ]
  },
  {
   "cell_type": "code",
   "execution_count": 22,
   "id": "483e16f9-1a4c-48b8-afbe-a8b2b5b0ac52",
   "metadata": {
    "tags": []
   },
   "outputs": [],
   "source": [
    "# read CSV file\n",
    "data = pd.read_csv(\"intents-data.csv\")"
   ]
  },
  {
   "cell_type": "markdown",
   "id": "aea77d27-f174-403e-a2b9-48e48faf3459",
   "metadata": {},
   "source": [
    "### single-question dataset"
   ]
  },
  {
   "cell_type": "code",
   "execution_count": 23,
   "id": "84586ce4-c637-4f13-8986-68043d9df2be",
   "metadata": {
    "tags": []
   },
   "outputs": [
    {
     "name": "stdout",
     "output_type": "stream",
     "text": [
      "(637, 2)\n"
     ]
    },
    {
     "data": {
      "text/html": [
       "<div>\n",
       "<style scoped>\n",
       "    .dataframe tbody tr th:only-of-type {\n",
       "        vertical-align: middle;\n",
       "    }\n",
       "\n",
       "    .dataframe tbody tr th {\n",
       "        vertical-align: top;\n",
       "    }\n",
       "\n",
       "    .dataframe thead th {\n",
       "        text-align: right;\n",
       "    }\n",
       "</style>\n",
       "<table border=\"1\" class=\"dataframe\">\n",
       "  <thead>\n",
       "    <tr style=\"text-align: right;\">\n",
       "      <th></th>\n",
       "      <th>text</th>\n",
       "      <th>sentiment</th>\n",
       "    </tr>\n",
       "  </thead>\n",
       "  <tbody>\n",
       "    <tr>\n",
       "      <th>5966</th>\n",
       "      <td>The Rowdy watch for men with a stainless steel...</td>\n",
       "      <td>postSale</td>\n",
       "    </tr>\n",
       "    <tr>\n",
       "      <th>5904</th>\n",
       "      <td>I'm searching for a pair of unisex snowboard g...</td>\n",
       "      <td>inventory</td>\n",
       "    </tr>\n",
       "    <tr>\n",
       "      <th>6287</th>\n",
       "      <td>Who is the Pope?</td>\n",
       "      <td>irrelevant</td>\n",
       "    </tr>\n",
       "    <tr>\n",
       "      <th>5989</th>\n",
       "      <td>I'm looking for a bag to transport the snowboard.</td>\n",
       "      <td>inventory</td>\n",
       "    </tr>\n",
       "    <tr>\n",
       "      <th>6069</th>\n",
       "      <td>Long ethnic floral print dress</td>\n",
       "      <td>inventory</td>\n",
       "    </tr>\n",
       "  </tbody>\n",
       "</table>\n",
       "</div>"
      ],
      "text/plain": [
       "                                                   text   sentiment\n",
       "5966  The Rowdy watch for men with a stainless steel...    postSale\n",
       "5904  I'm searching for a pair of unisex snowboard g...   inventory\n",
       "6287                                   Who is the Pope?  irrelevant\n",
       "5989  I'm looking for a bag to transport the snowboard.   inventory\n",
       "6069                     Long ethnic floral print dress   inventory"
      ]
     },
     "metadata": {},
     "output_type": "display_data"
    }
   ],
   "source": [
    "sq_data = data[5833:].copy()\n",
    "\n",
    "input_, label = \"text\", \"sentiment\"\n",
    "cols = [input_, label]\n",
    "sq_data = sq_data[cols]\n",
    "\n",
    "# take a look\n",
    "print(sq_data.shape)\n",
    "display(sq_data.sample(5))"
   ]
  },
  {
   "cell_type": "code",
   "execution_count": 24,
   "id": "b1ec3043-0496-4291-81ca-b37500635c50",
   "metadata": {
    "tags": []
   },
   "outputs": [
    {
     "data": {
      "text/html": [
       "<div>\n",
       "<style scoped>\n",
       "    .dataframe tbody tr th:only-of-type {\n",
       "        vertical-align: middle;\n",
       "    }\n",
       "\n",
       "    .dataframe tbody tr th {\n",
       "        vertical-align: top;\n",
       "    }\n",
       "\n",
       "    .dataframe thead th {\n",
       "        text-align: right;\n",
       "    }\n",
       "</style>\n",
       "<table border=\"1\" class=\"dataframe\">\n",
       "  <thead>\n",
       "    <tr style=\"text-align: right;\">\n",
       "      <th></th>\n",
       "      <th>text</th>\n",
       "      <th>sentiment</th>\n",
       "    </tr>\n",
       "  </thead>\n",
       "  <tbody>\n",
       "    <tr>\n",
       "      <th>6144</th>\n",
       "      <td>Question 1: Can customers track their orders i...</td>\n",
       "      <td>conversational</td>\n",
       "    </tr>\n",
       "    <tr>\n",
       "      <th>6374</th>\n",
       "      <td>Question 1: I bought two pairs of shoes in siz...</td>\n",
       "      <td>postSale</td>\n",
       "    </tr>\n",
       "    <tr>\n",
       "      <th>6292</th>\n",
       "      <td>Question 1: Is there a waiting list for the vi...</td>\n",
       "      <td>inventory</td>\n",
       "    </tr>\n",
       "    <tr>\n",
       "      <th>6437</th>\n",
       "      <td>Question 1: I ordered a sweater in size S, and...</td>\n",
       "      <td>postSale</td>\n",
       "    </tr>\n",
       "    <tr>\n",
       "      <th>6028</th>\n",
       "      <td>Question 1: I have purchased a set of ski clot...</td>\n",
       "      <td>postSale</td>\n",
       "    </tr>\n",
       "  </tbody>\n",
       "</table>\n",
       "</div>"
      ],
      "text/plain": [
       "                                                   text       sentiment\n",
       "6144  Question 1: Can customers track their orders i...  conversational\n",
       "6374  Question 1: I bought two pairs of shoes in siz...        postSale\n",
       "6292  Question 1: Is there a waiting list for the vi...       inventory\n",
       "6437  Question 1: I ordered a sweater in size S, and...        postSale\n",
       "6028  Question 1: I have purchased a set of ski clot...        postSale"
      ]
     },
     "metadata": {},
     "output_type": "display_data"
    }
   ],
   "source": [
    "# strip blank spaces (if any) and add \"Question 1: ...\"\n",
    "sq_data.text = sq_data.text.map(lambda x: \"Question 1: \"+x.strip())\n",
    "display(sq_data.sample(5))"
   ]
  },
  {
   "cell_type": "markdown",
   "id": "042046b2-9bdf-4725-90fe-7d078623f252",
   "metadata": {},
   "source": [
    "### multi-question dataset"
   ]
  },
  {
   "cell_type": "code",
   "execution_count": 25,
   "id": "10b6ee22-c01d-450e-aab7-f86e402d68f4",
   "metadata": {
    "tags": []
   },
   "outputs": [
    {
     "name": "stdout",
     "output_type": "stream",
     "text": [
      "(5833, 2)\n"
     ]
    },
    {
     "data": {
      "text/html": [
       "<div>\n",
       "<style scoped>\n",
       "    .dataframe tbody tr th:only-of-type {\n",
       "        vertical-align: middle;\n",
       "    }\n",
       "\n",
       "    .dataframe tbody tr th {\n",
       "        vertical-align: top;\n",
       "    }\n",
       "\n",
       "    .dataframe thead th {\n",
       "        text-align: right;\n",
       "    }\n",
       "</style>\n",
       "<table border=\"1\" class=\"dataframe\">\n",
       "  <thead>\n",
       "    <tr style=\"text-align: right;\">\n",
       "      <th></th>\n",
       "      <th>text</th>\n",
       "      <th>sentiment</th>\n",
       "    </tr>\n",
       "  </thead>\n",
       "  <tbody>\n",
       "    <tr>\n",
       "      <th>2757</th>\n",
       "      <td>Client: I'm just so frustrated because I've be...</td>\n",
       "      <td>inventory</td>\n",
       "    </tr>\n",
       "    <tr>\n",
       "      <th>1045</th>\n",
       "      <td>Client: Hello, do you have the Burton Snowboar...</td>\n",
       "      <td>storefront</td>\n",
       "    </tr>\n",
       "    <tr>\n",
       "      <th>50</th>\n",
       "      <td>Client: Got any snow boots in size 9?  \\nAssis...</td>\n",
       "      <td>inventory</td>\n",
       "    </tr>\n",
       "    <tr>\n",
       "      <th>3800</th>\n",
       "      <td>Client: I bought a jacket from your store, and...</td>\n",
       "      <td>conversational</td>\n",
       "    </tr>\n",
       "    <tr>\n",
       "      <th>2961</th>\n",
       "      <td>Client: I must say your website is an absolute...</td>\n",
       "      <td>postSale</td>\n",
       "    </tr>\n",
       "  </tbody>\n",
       "</table>\n",
       "</div>"
      ],
      "text/plain": [
       "                                                   text       sentiment\n",
       "2757  Client: I'm just so frustrated because I've be...       inventory\n",
       "1045  Client: Hello, do you have the Burton Snowboar...      storefront\n",
       "50    Client: Got any snow boots in size 9?  \\nAssis...       inventory\n",
       "3800  Client: I bought a jacket from your store, and...  conversational\n",
       "2961  Client: I must say your website is an absolute...        postSale"
      ]
     },
     "metadata": {},
     "output_type": "display_data"
    }
   ],
   "source": [
    "# read CSV file\n",
    "mq_data = data[:5833].copy()\n",
    "\n",
    "input_, label = \"text\", \"sentiment\"\n",
    "cols = [input_, label]\n",
    "mq_data = mq_data[cols]\n",
    "\n",
    "# take a look\n",
    "print(mq_data.shape)\n",
    "display(mq_data.sample(5))"
   ]
  },
  {
   "cell_type": "markdown",
   "id": "e8a7e998-801b-4025-8db7-f8411a77b28f",
   "metadata": {},
   "source": [
    "First, we separate del multi-question dataset into **question format dataset** and **GPT dataset**..."
   ]
  },
  {
   "cell_type": "code",
   "execution_count": 26,
   "id": "611f0485-7811-4181-b590-178d306e858c",
   "metadata": {
    "tags": []
   },
   "outputs": [
    {
     "name": "stdout",
     "output_type": "stream",
     "text": [
      "(173, 2)\n",
      "(5645, 2)\n",
      "15\n"
     ]
    }
   ],
   "source": [
    "# strip blank spaces (if any)\n",
    "mq_data.text = mq_data.text.map(lambda x: x.strip())\n",
    "\n",
    "# separate mq-data into gpt-data and qf-data\n",
    "qf_data = mq_data[mq_data.text.map(lambda x: x[:8]==\"Question\")].copy() # Question 1:... Question 2:...\n",
    "gpt_data = mq_data[mq_data.text.map(lambda x: x[:6]==\"Client\")].copy() # Client: ... \\nAssistant:... \\nClient:...\n",
    "\n",
    "print(qf_data.shape)\n",
    "print(gpt_data.shape)\n",
    "print(len(mq_data)-len(gpt_data)-len(qf_data))"
   ]
  },
  {
   "cell_type": "markdown",
   "id": "2b64dc04-260c-4bd9-ad2f-6763986fb580",
   "metadata": {},
   "source": [
    "Second, we identify the **instances that did not match** the criteria of either dataset..."
   ]
  },
  {
   "cell_type": "code",
   "execution_count": 27,
   "id": "4f1fa730-ddcf-474f-9a27-270c240ec199",
   "metadata": {
    "tags": []
   },
   "outputs": [
    {
     "data": {
      "text/html": [
       "<div>\n",
       "<style scoped>\n",
       "    .dataframe tbody tr th:only-of-type {\n",
       "        vertical-align: middle;\n",
       "    }\n",
       "\n",
       "    .dataframe tbody tr th {\n",
       "        vertical-align: top;\n",
       "    }\n",
       "\n",
       "    .dataframe thead th {\n",
       "        text-align: right;\n",
       "    }\n",
       "</style>\n",
       "<table border=\"1\" class=\"dataframe\">\n",
       "  <thead>\n",
       "    <tr style=\"text-align: right;\">\n",
       "      <th></th>\n",
       "      <th>text</th>\n",
       "      <th>sentiment</th>\n",
       "    </tr>\n",
       "  </thead>\n",
       "  <tbody>\n",
       "    <tr>\n",
       "      <th>58</th>\n",
       "      <td>Hello, welcome to Rowdy! How can I assist you ...</td>\n",
       "      <td>conversational</td>\n",
       "    </tr>\n",
       "    <tr>\n",
       "      <th>419</th>\n",
       "      <td>Hey, I just wanted to say that I really like t...</td>\n",
       "      <td>storefront</td>\n",
       "    </tr>\n",
       "    <tr>\n",
       "      <th>526</th>\n",
       "      <td>Hello, welcome to Rowdy! How can I assist you ...</td>\n",
       "      <td>conversational</td>\n",
       "    </tr>\n",
       "    <tr>\n",
       "      <th>849</th>\n",
       "      <td>Hello, I was browsing online for some winter s...</td>\n",
       "      <td>conversational</td>\n",
       "    </tr>\n",
       "    <tr>\n",
       "      <th>931</th>\n",
       "      <td>Hey there, can you tell me more about Rowdy an...</td>\n",
       "      <td>conversational</td>\n",
       "    </tr>\n",
       "    <tr>\n",
       "      <th>990</th>\n",
       "      <td>Hello.\\nAssistant: Welcome to Rowdy! How can I...</td>\n",
       "      <td>conversational</td>\n",
       "    </tr>\n",
       "    <tr>\n",
       "      <th>1220</th>\n",
       "      <td>Hey, I'm looking for some cozy winter sweaters...</td>\n",
       "      <td>inventory</td>\n",
       "    </tr>\n",
       "    <tr>\n",
       "      <th>2298</th>\n",
       "      <td>Hello, how are you today?\\nI'm here to help yo...</td>\n",
       "      <td>conversational</td>\n",
       "    </tr>\n",
       "    <tr>\n",
       "      <th>2728</th>\n",
       "      <td>Hey there, Rowdy! I love shopping for winter g...</td>\n",
       "      <td>conversational</td>\n",
       "    </tr>\n",
       "    <tr>\n",
       "      <th>3550</th>\n",
       "      <td>Hello, welcome to Rowdy! How can I assist you ...</td>\n",
       "      <td>conversational</td>\n",
       "    </tr>\n",
       "    <tr>\n",
       "      <th>3734</th>\n",
       "      <td>Hello! How can I assist you today?</td>\n",
       "      <td>irrelevant</td>\n",
       "    </tr>\n",
       "    <tr>\n",
       "      <th>3784</th>\n",
       "      <td>Hello there! I've been browsing online for win...</td>\n",
       "      <td>conversational</td>\n",
       "    </tr>\n",
       "    <tr>\n",
       "      <th>4081</th>\n",
       "      <td>Hello! How can I assist you today?\\nClient: Wh...</td>\n",
       "      <td>conversational</td>\n",
       "    </tr>\n",
       "    <tr>\n",
       "      <th>4755</th>\n",
       "      <td>Hey there! I'm loving the winter vibes these d...</td>\n",
       "      <td>conversational</td>\n",
       "    </tr>\n",
       "    <tr>\n",
       "      <th>5739</th>\n",
       "      <td>Hello there! I was just browsing through your ...</td>\n",
       "      <td>conversational</td>\n",
       "    </tr>\n",
       "  </tbody>\n",
       "</table>\n",
       "</div>"
      ],
      "text/plain": [
       "                                                   text       sentiment\n",
       "58    Hello, welcome to Rowdy! How can I assist you ...  conversational\n",
       "419   Hey, I just wanted to say that I really like t...      storefront\n",
       "526   Hello, welcome to Rowdy! How can I assist you ...  conversational\n",
       "849   Hello, I was browsing online for some winter s...  conversational\n",
       "931   Hey there, can you tell me more about Rowdy an...  conversational\n",
       "990   Hello.\\nAssistant: Welcome to Rowdy! How can I...  conversational\n",
       "1220  Hey, I'm looking for some cozy winter sweaters...       inventory\n",
       "2298  Hello, how are you today?\\nI'm here to help yo...  conversational\n",
       "2728  Hey there, Rowdy! I love shopping for winter g...  conversational\n",
       "3550  Hello, welcome to Rowdy! How can I assist you ...  conversational\n",
       "3734                 Hello! How can I assist you today?      irrelevant\n",
       "3784  Hello there! I've been browsing online for win...  conversational\n",
       "4081  Hello! How can I assist you today?\\nClient: Wh...  conversational\n",
       "4755  Hey there! I'm loving the winter vibes these d...  conversational\n",
       "5739  Hello there! I was just browsing through your ...  conversational"
      ]
     },
     "metadata": {},
     "output_type": "display_data"
    }
   ],
   "source": [
    "no_match = mq_data[~mq_data.index.isin(qf_data.index) & ~mq_data.index.isin(gpt_data.index)].copy()\n",
    "display(no_match)\n",
    "# NOTES:\n",
    "# case A: 419, 849, 931, 990, 1220, 2298, 2728, 3784, 4755 and 5739 have \"Client:\" missing (...\\nAssistant:... or ...)\n",
    "# case B: 58 and 4081 start with assistant text (...Client:...\\nAssistant:...), we just need to delete that part\n",
    "# case C: 526, 3734 and 3550 are all assistant, we drop them"
   ]
  },
  {
   "cell_type": "markdown",
   "id": "e67230f7-9e58-473e-9102-170d23ac53a5",
   "metadata": {},
   "source": [
    "Third, we **fix that instances** and put them with their corresponding dataset..."
   ]
  },
  {
   "cell_type": "code",
   "execution_count": 28,
   "id": "dcb0d5c4-d69d-4572-9828-ac12d271a8c9",
   "metadata": {
    "tags": []
   },
   "outputs": [],
   "source": [
    "def remove_text_before_keyword(text, keyword):\n",
    "    # Find the position of the keyword in the text\n",
    "    keyword_pos = text.find(keyword)\n",
    "    # If the keyword is not found, return the original text\n",
    "    if keyword_pos == -1:\n",
    "        return text\n",
    "    # Slice the text from the keyword position to the end\n",
    "    return text[keyword_pos:]"
   ]
  },
  {
   "cell_type": "code",
   "execution_count": 29,
   "id": "b25dac8f-4166-465b-b9d7-19c61b36945e",
   "metadata": {
    "tags": []
   },
   "outputs": [
    {
     "data": {
      "text/plain": [
       "True"
      ]
     },
     "execution_count": 29,
     "metadata": {},
     "output_type": "execute_result"
    }
   ],
   "source": [
    "# CASE A: add \"Client:\" at the beginning\n",
    "idx_A = [419, 849, 931, 990, 1220, 2298, 2728, 3784, 4755, 5739]\n",
    "case_A = no_match.loc[idx_A,:].copy() \n",
    "case_A.text = case_A.text.map(lambda x: \"Client: \"+x) \n",
    "\n",
    "# CASE B: delete text before \"Client\"\n",
    "idx_B = [58, 4081] # also you can find this cases with: no_match['text'].str.contains('Client')\n",
    "case_B = no_match.loc[idx_B,:].copy() \n",
    "case_B.text = case_B.text.map(lambda x: remove_text_before_keyword(x,\"Client\"))\n",
    "\n",
    "# CASE C: we do nothing \n",
    "# we lost 3 instances\n",
    "\n",
    "# concat fixed data to gpt data\n",
    "gpt_fixed_data = pd.concat([gpt_data, case_A, case_B])\n",
    "gpt_fixed_data.sort_index(inplace=True)\n",
    "len(gpt_fixed_data) == len(gpt_data) + len(case_A) + len(case_B)"
   ]
  },
  {
   "cell_type": "code",
   "execution_count": 30,
   "id": "781a3cb4-2edf-45b5-b583-f33a8fe66408",
   "metadata": {
    "tags": []
   },
   "outputs": [
    {
     "name": "stdout",
     "output_type": "stream",
     "text": [
      "(5657, 2)\n"
     ]
    },
    {
     "data": {
      "text/html": [
       "<div>\n",
       "<style scoped>\n",
       "    .dataframe tbody tr th:only-of-type {\n",
       "        vertical-align: middle;\n",
       "    }\n",
       "\n",
       "    .dataframe tbody tr th {\n",
       "        vertical-align: top;\n",
       "    }\n",
       "\n",
       "    .dataframe thead th {\n",
       "        text-align: right;\n",
       "    }\n",
       "</style>\n",
       "<table border=\"1\" class=\"dataframe\">\n",
       "  <thead>\n",
       "    <tr style=\"text-align: right;\">\n",
       "      <th></th>\n",
       "      <th>text</th>\n",
       "      <th>sentiment</th>\n",
       "    </tr>\n",
       "  </thead>\n",
       "  <tbody>\n",
       "    <tr>\n",
       "      <th>1997</th>\n",
       "      <td>Client: Hello, I'm looking for a warm winter c...</td>\n",
       "      <td>conversational</td>\n",
       "    </tr>\n",
       "    <tr>\n",
       "      <th>4297</th>\n",
       "      <td>Client: Hey, do you even have that ski jacket ...</td>\n",
       "      <td>storefront</td>\n",
       "    </tr>\n",
       "    <tr>\n",
       "      <th>2964</th>\n",
       "      <td>Client: Hello there! I hope you're having a fa...</td>\n",
       "      <td>postSale</td>\n",
       "    </tr>\n",
       "    <tr>\n",
       "      <th>4998</th>\n",
       "      <td>Client: Hey there! Excited for winter to come?...</td>\n",
       "      <td>conversational</td>\n",
       "    </tr>\n",
       "    <tr>\n",
       "      <th>4739</th>\n",
       "      <td>Client: Hello, do you have the black ski jacke...</td>\n",
       "      <td>inventory</td>\n",
       "    </tr>\n",
       "  </tbody>\n",
       "</table>\n",
       "</div>"
      ],
      "text/plain": [
       "                                                   text       sentiment\n",
       "1997  Client: Hello, I'm looking for a warm winter c...  conversational\n",
       "4297  Client: Hey, do you even have that ski jacket ...      storefront\n",
       "2964  Client: Hello there! I hope you're having a fa...        postSale\n",
       "4998  Client: Hey there! Excited for winter to come?...  conversational\n",
       "4739  Client: Hello, do you have the black ski jacke...       inventory"
      ]
     },
     "metadata": {},
     "output_type": "display_data"
    }
   ],
   "source": [
    "# take a look\n",
    "print(gpt_fixed_data.shape)\n",
    "display(gpt_fixed_data.sample(5))"
   ]
  },
  {
   "cell_type": "markdown",
   "id": "306da109-88fe-49c7-9ca7-c985ec4ac99d",
   "metadata": {},
   "source": [
    "Now, we **format the GPT-dataset**..."
   ]
  },
  {
   "cell_type": "code",
   "execution_count": 31,
   "id": "faeef550-8f5d-4a66-aeca-43fb538bdb7c",
   "metadata": {
    "tags": []
   },
   "outputs": [],
   "source": [
    "def extract_client(text):\n",
    "    # split the text into parts based on the 'Client:' prefix and eliminate the assistant parts\n",
    "    client_parts = [part.strip() for part in text.split('Client:') if part]\n",
    "    \n",
    "    # join the client parts \n",
    "    client_texts = []\n",
    "    for part in client_parts:\n",
    "        if 'Assistant:' in part:\n",
    "            client_texts.append(part.split('Assistant:')[0].strip())\n",
    "        else:\n",
    "            client_texts.append(part.strip())\n",
    "    return client_texts\n",
    "\n",
    "def format_text(texts):\n",
    "    # Normalize the client texts: Client: ...\\nClient: ... into the desired format: Question 1:...\\nQuestion 2:... \n",
    "    normalized_texts = [f\"Question {i+1}: {text}\" for i, text in enumerate(texts)]\n",
    "    return '\\n'.join(normalized_texts)"
   ]
  },
  {
   "cell_type": "code",
   "execution_count": 32,
   "id": "15c9f693-0bae-493e-91a3-5b98735152fc",
   "metadata": {
    "tags": []
   },
   "outputs": [
    {
     "name": "stdout",
     "output_type": "stream",
     "text": [
      "(5657, 2)\n"
     ]
    },
    {
     "data": {
      "text/html": [
       "<div>\n",
       "<style scoped>\n",
       "    .dataframe tbody tr th:only-of-type {\n",
       "        vertical-align: middle;\n",
       "    }\n",
       "\n",
       "    .dataframe tbody tr th {\n",
       "        vertical-align: top;\n",
       "    }\n",
       "\n",
       "    .dataframe thead th {\n",
       "        text-align: right;\n",
       "    }\n",
       "</style>\n",
       "<table border=\"1\" class=\"dataframe\">\n",
       "  <thead>\n",
       "    <tr style=\"text-align: right;\">\n",
       "      <th></th>\n",
       "      <th>text</th>\n",
       "      <th>sentiment</th>\n",
       "    </tr>\n",
       "  </thead>\n",
       "  <tbody>\n",
       "    <tr>\n",
       "      <th>1312</th>\n",
       "      <td>Question 1: Hi, do you have the Roxy snow pant...</td>\n",
       "      <td>irrelevant</td>\n",
       "    </tr>\n",
       "    <tr>\n",
       "      <th>803</th>\n",
       "      <td>Question 1: Hello! I hope you're doing well to...</td>\n",
       "      <td>conversational</td>\n",
       "    </tr>\n",
       "    <tr>\n",
       "      <th>1518</th>\n",
       "      <td>Question 1: Hey there! I'm looking for a warm ...</td>\n",
       "      <td>inventory</td>\n",
       "    </tr>\n",
       "    <tr>\n",
       "      <th>1448</th>\n",
       "      <td>Question 1: The jacket I bought is too small.</td>\n",
       "      <td>postSale</td>\n",
       "    </tr>\n",
       "    <tr>\n",
       "      <th>2550</th>\n",
       "      <td>Question 1: Hello, I was wondering what paymen...</td>\n",
       "      <td>irrelevant</td>\n",
       "    </tr>\n",
       "  </tbody>\n",
       "</table>\n",
       "</div>"
      ],
      "text/plain": [
       "                                                   text       sentiment\n",
       "1312  Question 1: Hi, do you have the Roxy snow pant...      irrelevant\n",
       "803   Question 1: Hello! I hope you're doing well to...  conversational\n",
       "1518  Question 1: Hey there! I'm looking for a warm ...       inventory\n",
       "1448      Question 1: The jacket I bought is too small.        postSale\n",
       "2550  Question 1: Hello, I was wondering what paymen...      irrelevant"
      ]
     },
     "metadata": {},
     "output_type": "display_data"
    }
   ],
   "source": [
    "gpt_formatted_data = gpt_fixed_data.copy()\n",
    "gpt_formatted_data.text = gpt_formatted_data.text.apply(extract_client)\n",
    "gpt_formatted_data.text = gpt_formatted_data.text.apply(format_text)\n",
    "\n",
    "print(gpt_formatted_data.shape)\n",
    "display(gpt_formatted_data.sample(5))"
   ]
  },
  {
   "cell_type": "markdown",
   "id": "e760b6d6-da81-423b-add6-cd84e74a2eca",
   "metadata": {},
   "source": [
    "Finally, we concat the GPT formatted data and the question format data, to obtain the **final multi-question dataset**..."
   ]
  },
  {
   "cell_type": "code",
   "execution_count": 33,
   "id": "c6e5180e-28c4-4152-aaf8-1b6a4ddcc258",
   "metadata": {
    "tags": []
   },
   "outputs": [
    {
     "data": {
      "text/plain": [
       "(5830, 2)"
      ]
     },
     "execution_count": 33,
     "metadata": {},
     "output_type": "execute_result"
    }
   ],
   "source": [
    "# concat gpt formatted data and question format data\n",
    "mq_data_final = pd.concat([gpt_formatted_data, qf_data])\n",
    "mq_data_final.sort_index(inplace=True)\n",
    "\n",
    "mq_data_final.shape"
   ]
  },
  {
   "cell_type": "markdown",
   "id": "129cf70a-81a0-4bbe-a25a-fe3844ea2f5b",
   "metadata": {},
   "source": [
    "### final intents dataset"
   ]
  },
  {
   "cell_type": "code",
   "execution_count": 34,
   "id": "6905d4df-4496-47be-8fe9-9d27256ffbbd",
   "metadata": {
    "tags": []
   },
   "outputs": [
    {
     "name": "stdout",
     "output_type": "stream",
     "text": [
      "(6467, 2)\n"
     ]
    },
    {
     "data": {
      "text/html": [
       "<div>\n",
       "<style scoped>\n",
       "    .dataframe tbody tr th:only-of-type {\n",
       "        vertical-align: middle;\n",
       "    }\n",
       "\n",
       "    .dataframe tbody tr th {\n",
       "        vertical-align: top;\n",
       "    }\n",
       "\n",
       "    .dataframe thead th {\n",
       "        text-align: right;\n",
       "    }\n",
       "</style>\n",
       "<table border=\"1\" class=\"dataframe\">\n",
       "  <thead>\n",
       "    <tr style=\"text-align: right;\">\n",
       "      <th></th>\n",
       "      <th>text</th>\n",
       "      <th>sentiment</th>\n",
       "    </tr>\n",
       "  </thead>\n",
       "  <tbody>\n",
       "    <tr>\n",
       "      <th>5497</th>\n",
       "      <td>Question 1: Hey, I bought this winter jacket f...</td>\n",
       "      <td>postSale</td>\n",
       "    </tr>\n",
       "    <tr>\n",
       "      <th>1515</th>\n",
       "      <td>Question 1: Ugh, I've been scrolling through y...</td>\n",
       "      <td>storefront</td>\n",
       "    </tr>\n",
       "    <tr>\n",
       "      <th>4104</th>\n",
       "      <td>Question 1: ksjhfkjsha</td>\n",
       "      <td>irrelevant</td>\n",
       "    </tr>\n",
       "    <tr>\n",
       "      <th>2763</th>\n",
       "      <td>Question 1: I've been shopping online for year...</td>\n",
       "      <td>storefront</td>\n",
       "    </tr>\n",
       "    <tr>\n",
       "      <th>5470</th>\n",
       "      <td>Question 1: Hey.</td>\n",
       "      <td>conversational</td>\n",
       "    </tr>\n",
       "  </tbody>\n",
       "</table>\n",
       "</div>"
      ],
      "text/plain": [
       "                                                   text       sentiment\n",
       "5497  Question 1: Hey, I bought this winter jacket f...        postSale\n",
       "1515  Question 1: Ugh, I've been scrolling through y...      storefront\n",
       "4104                             Question 1: ksjhfkjsha      irrelevant\n",
       "2763  Question 1: I've been shopping online for year...      storefront\n",
       "5470                                   Question 1: Hey.  conversational"
      ]
     },
     "metadata": {},
     "output_type": "display_data"
    }
   ],
   "source": [
    "# concat pre-processed multi-question data and single-question data\n",
    "train_set = pd.concat([sq_data, mq_data_final])\n",
    "train_set.sort_index(inplace=True)\n",
    "\n",
    "print(train_set.shape)\n",
    "display(train_set.sample(5))"
   ]
  },
  {
   "cell_type": "code",
   "execution_count": 35,
   "id": "584957b6-81ea-4844-9dd8-762adc6dec89",
   "metadata": {
    "tags": []
   },
   "outputs": [
    {
     "data": {
      "text/plain": [
       "True"
      ]
     },
     "execution_count": 35,
     "metadata": {},
     "output_type": "execute_result"
    }
   ],
   "source": [
    "mq_len = len(qf_data)+len(gpt_data)+len(case_A)+len(case_B)\n",
    "len(train_set) == len(sq_data)+mq_len"
   ]
  },
  {
   "cell_type": "code",
   "execution_count": 36,
   "id": "b4a0aa8e-37a5-400a-93fd-bd42fcfb41b1",
   "metadata": {
    "tags": []
   },
   "outputs": [
    {
     "data": {
      "text/plain": [
       "True"
      ]
     },
     "execution_count": 36,
     "metadata": {},
     "output_type": "execute_result"
    }
   ],
   "source": [
    "lost = len(mq_data)+len(sq_data)-len(train_set)\n",
    "len(no_match)-len(case_A)-len(case_B) == lost"
   ]
  },
  {
   "cell_type": "code",
   "execution_count": 38,
   "id": "717eff36-3758-4e59-ab3b-42beecb4f7b1",
   "metadata": {
    "tags": []
   },
   "outputs": [],
   "source": [
    "train_set.to_csv(\"dataset.csv\", index=False)"
   ]
  },
  {
   "cell_type": "markdown",
   "id": "2ae988f8-34da-42ee-8db3-f49c12b47557",
   "metadata": {},
   "source": [
    "---"
   ]
  }
 ],
 "metadata": {
  "kernelspec": {
   "display_name": "Python 3.9",
   "language": "python",
   "name": "python3"
  },
  "language_info": {
   "codemirror_mode": {
    "name": "ipython",
    "version": 3
   },
   "file_extension": ".py",
   "mimetype": "text/x-python",
   "name": "python",
   "nbconvert_exporter": "python",
   "pygments_lexer": "ipython3",
   "version": "3.9.18"
  }
 },
 "nbformat": 4,
 "nbformat_minor": 5
}
