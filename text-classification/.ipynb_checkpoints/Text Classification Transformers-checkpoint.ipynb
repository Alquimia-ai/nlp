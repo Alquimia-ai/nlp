{
 "cells": [
  {
   "cell_type": "markdown",
   "id": "746d98ff-75fc-4177-a596-46ddb8ecc558",
   "metadata": {},
   "source": [
    "# Fine tune distilbert to perform Text classification \n",
    "\n",
    "This notebook is intended to train `text-classification` models based on `distilbert base uncased` model. To do so we are using [Transformers 🤗🤗](https://huggingface.co/docs/transformers/index).\n",
    "\n",
    "### Considerations\n",
    "- The dataset must have column \"text\" where all the input questions are setted\n",
    "- An `S3 Instance` is required to correctly store the model"
   ]
  },
  {
   "cell_type": "markdown",
   "id": "b8e83f33-ca47-4c79-9e89-c97842753f1d",
   "metadata": {
    "tags": []
   },
   "source": [
    "#### Install required libs   📥📥"
   ]
  },
  {
   "cell_type": "code",
   "execution_count": null,
   "id": "92c12f0a-4b1a-4402-8b4a-75f873a2e14b",
   "metadata": {
    "tags": []
   },
   "outputs": [],
   "source": [
    "!pip install transformers datasets evaluate accelerate  mlflow tf-keras optimum[openvino,nncf]"
   ]
  },
  {
   "cell_type": "markdown",
   "id": "1f85299f-54f3-47ea-aa5f-0478ccf2c98a",
   "metadata": {
    "tags": []
   },
   "source": [
    "## Dataset manipulation & env preparation"
   ]
  },
  {
   "cell_type": "code",
   "execution_count": null,
   "id": "b115af02-4ac8-4013-ab0e-0fbe1ad2d9c6",
   "metadata": {
    "tags": []
   },
   "outputs": [],
   "source": [
    "#Define your input column and your output column\n",
    "\n",
    "input_column_name=\"text\"\n",
    "output_column_name=\"sentiment\""
   ]
  },
  {
   "cell_type": "code",
   "execution_count": null,
   "id": "8c7ff2a9-899b-45f7-8c29-dcca5549a5b5",
   "metadata": {
    "tags": []
   },
   "outputs": [],
   "source": [
    "import pandas as pd\n",
    "import os\n",
    "labeled_dataset = \"datasets/dataset.csv\"\n",
    "\n",
    "# Assuming the file is in the current working directory\n",
    "df = pd.read_csv(labeled_dataset)\n",
    "\n",
    "# Display the first few rows of the dataframe\n",
    "print(df.shape)\n",
    "df.head()"
   ]
  },
  {
   "cell_type": "markdown",
   "id": "883f21ef-f87c-4f02-8442-889b7802144e",
   "metadata": {
    "tags": []
   },
   "source": [
    "## Give a name to your model and version  🧙‍♂️🧙‍♂️\n",
    "\n",
    "This process is crucial mainly because a `text-classification` model can be intended for a huge amount of approaches"
   ]
  },
  {
   "cell_type": "code",
   "execution_count": null,
   "id": "9a959a72-fd06-4873-b0ce-62f27c3816cd",
   "metadata": {
    "tags": []
   },
   "outputs": [],
   "source": [
    "import ipywidgets as widgets\n",
    "from IPython.display import display\n",
    "\n",
    "# Creating a box layout for better widget organization\n",
    "box_layout = widgets.Layout(display='flex',\n",
    "                            flex_flow='row',\n",
    "                            justify_content='space-between',\n",
    "                            width='50%')\n",
    "\n",
    "# Text input widget\n",
    "model_name_text = widgets.Text(\n",
    "    description='Model Name:',\n",
    "    style={'description_width': 'initial'},\n",
    "    layout=widgets.Layout(flex='2 1 auto', width='auto')\n",
    ")\n",
    "\n",
    "version_model_text = widgets.Text(\n",
    "    description='Version:',\n",
    "    style={'description_width': 'initial'},\n",
    "    layout=widgets.Layout(flex='2 1 auto', width='auto')\n",
    ")\n",
    "\n",
    "# Button widget\n",
    "button_model = widgets.Button(description=\"Save\",\n",
    "                        button_style='primary',  # Apply a Bootstrap theme\n",
    "                        layout=widgets.Layout(flex='1 1 auto', width='auto'))\n",
    "\n",
    "button_version = widgets.Button(description=\"Save\",\n",
    "                        button_style='primary',  # Apply a Bootstrap theme\n",
    "                        layout=widgets.Layout(flex='1 1 auto', width='auto'))\n",
    "\n",
    "# Function to handle button click\n",
    "def on_button_clicked(b):\n",
    "    print(\"Saved text: \", text.value)\n",
    "\n",
    "# Linking the button click event to the function\n",
    "button_model.on_click(on_button_clicked)\n",
    "button_version.on_click(on_button_clicked)\n",
    "\n",
    "# Using a VBox for vertical stacking of widgets\n",
    "widget_box_model = widgets.VBox([model_name_text, button_model], layout=box_layout)\n",
    "widget_version = widgets.VBox([version_model_text, button_version], layout=box_layout)\n",
    "\n",
    "# Displaying the widgets\n",
    "display(widget_box_model)\n",
    "display(widget_version)\n"
   ]
  },
  {
   "cell_type": "code",
   "execution_count": null,
   "id": "811c6865-ec2a-44cd-884c-9edeb9a94e26",
   "metadata": {
    "tags": []
   },
   "outputs": [],
   "source": [
    "import ipywidgets as widgets\n",
    "from IPython.display import display\n",
    "\n",
    "# Create a Dropdown widget\n",
    "model_server_selector = widgets.Dropdown(\n",
    "    options=['OpenVINO', 'Seldon'],\n",
    "    value='OpenVINO',  # Default value\n",
    "    description='Model Server:',\n",
    "    style={'description_width': 'initial'},\n",
    ")\n",
    "\n",
    "# Function to display the selected value\n",
    "def save_selection(change):\n",
    "    selected_value = change['new']\n",
    "    print(f\"Selected Model Server: {selected_value}\")\n",
    "\n",
    "# Attach the function to the widget's value change event\n",
    "model_server_selector.observe(save_selection, names='value')\n",
    "\n",
    "# Display the widget\n",
    "display(model_server_selector)\n"
   ]
  },
  {
   "cell_type": "code",
   "execution_count": null,
   "id": "36d1030d-b6be-4f52-84b0-5fa47d7fa403",
   "metadata": {
    "tags": []
   },
   "outputs": [],
   "source": [
    "model_name=model_name_text.value\n",
    "version_model=version_model_text.value\n",
    "model_server = model_server_selector.value"
   ]
  },
  {
   "cell_type": "markdown",
   "id": "65e157bd-2b49-4250-9838-3e8d4c349c85",
   "metadata": {
    "tags": []
   },
   "source": [
    "### Model manipulation "
   ]
  },
  {
   "cell_type": "code",
   "execution_count": null,
   "id": "a7715447-cd95-419f-a985-bb490457f205",
   "metadata": {
    "tags": []
   },
   "outputs": [],
   "source": [
    "# Read json files label2id &  id2label\n",
    "import json\n",
    "import os\n",
    "# Opening JSON file\n",
    "file_label2id = open('datasets/label2id.json')\n",
    "file_id2label = open('datasets/id2label.json')\n",
    "\n",
    "label2id = json.load(file_label2id)\n",
    "id2label=json.load(file_id2label)\n",
    "print(f\"The label2id json loaded correctly: {label2id}\")\n",
    "print(f\"The id2label json loaded correctly: {id2label}\")"
   ]
  },
  {
   "cell_type": "code",
   "execution_count": null,
   "id": "bfab0f2b-d9c5-4474-b1cc-5cb543217eff",
   "metadata": {
    "tags": []
   },
   "outputs": [],
   "source": [
    "# Add the new 'label' column to the dataframe by mapping values from the 'category' column\n",
    "df['label'] = df[output_column_name].replace(label2id)\n",
    "\n",
    "df.head(3)"
   ]
  },
  {
   "cell_type": "code",
   "execution_count": null,
   "id": "9f1bae51-5bcf-449d-b424-dd989dcf6c28",
   "metadata": {
    "tags": []
   },
   "outputs": [],
   "source": [
    "test_size = 0.2 ## Define the testing size for metrics"
   ]
  },
  {
   "cell_type": "code",
   "execution_count": null,
   "id": "d44bcdc3-c6a4-4067-98bc-79f8df3a3012",
   "metadata": {
    "tags": []
   },
   "outputs": [],
   "source": [
    "from sklearn.model_selection import train_test_split\n",
    "\n",
    "df_train, df_test = train_test_split(df, test_size=test_size)"
   ]
  },
  {
   "cell_type": "code",
   "execution_count": null,
   "id": "2812aeee-aa35-4ffc-ba6e-1466296c7fe0",
   "metadata": {
    "tags": []
   },
   "outputs": [],
   "source": [
    "from datasets import Dataset\n",
    "\n",
    "train_dataset = Dataset.from_pandas(df_train)\n",
    "test_dataset = Dataset.from_pandas(df_test)"
   ]
  },
  {
   "cell_type": "code",
   "execution_count": null,
   "id": "e6b8f309-1946-48c2-a16c-0965ab400919",
   "metadata": {
    "tags": []
   },
   "outputs": [],
   "source": [
    "from transformers import AutoTokenizer\n",
    "base_model_name = 'distilbert-base-uncased'\n",
    "tokenizer = AutoTokenizer.from_pretrained(base_model_name)"
   ]
  },
  {
   "cell_type": "code",
   "execution_count": null,
   "id": "d8c52911-84cf-4c1f-9370-7d9a591e4f66",
   "metadata": {
    "tags": []
   },
   "outputs": [],
   "source": [
    "def preprocess_function(examples):\n",
    "    return tokenizer(examples[input_column_name], truncation=True)"
   ]
  },
  {
   "cell_type": "code",
   "execution_count": null,
   "id": "0704fc0d-5f1d-48d1-afd9-fafbd2740e4f",
   "metadata": {
    "tags": []
   },
   "outputs": [],
   "source": [
    "tokenized_train = train_dataset.map(preprocess_function, batched=True)\n",
    "tokenized_test = test_dataset.map(preprocess_function, batched=True)"
   ]
  },
  {
   "cell_type": "code",
   "execution_count": null,
   "id": "6f1409db-e337-4414-a23d-c03ecd4d30b7",
   "metadata": {
    "tags": []
   },
   "outputs": [],
   "source": [
    "from transformers import AutoModelForSequenceClassification\n",
    "\n",
    "model = AutoModelForSequenceClassification.from_pretrained(base_model_name, num_labels=len(label2id),id2label=id2label, label2id=label2id)"
   ]
  },
  {
   "cell_type": "code",
   "execution_count": null,
   "id": "bcc1853b-bba9-4d4b-bb04-ed50abe1808f",
   "metadata": {
    "tags": []
   },
   "outputs": [],
   "source": [
    "from transformers import TrainingArguments, Trainer\n",
    "import evaluate\n",
    "import numpy as np\n",
    "from transformers import DataCollatorWithPadding\n",
    "\n",
    "data_collator = DataCollatorWithPadding(tokenizer=tokenizer)"
   ]
  },
  {
   "cell_type": "code",
   "execution_count": null,
   "id": "353bdc9b-f4ad-45d2-980f-ea3c425ee679",
   "metadata": {
    "tags": []
   },
   "outputs": [],
   "source": [
    "metric = evaluate.load(\"accuracy\")\n",
    "\n",
    "def compute_metrics(eval_pred):\n",
    "  logits, labels = eval_pred\n",
    "  predictions = np.argmax(logits, axis=-1)\n",
    "  return metric.compute(predictions=predictions, references=labels)"
   ]
  },
  {
   "cell_type": "code",
   "execution_count": null,
   "id": "321ce57f-17ca-46db-bebe-47d07374f50b",
   "metadata": {
    "tags": []
   },
   "outputs": [],
   "source": [
    "#Mlflow\n",
    "import mlflow\n",
    "\n",
    "os.environ[\"MFLOW_EXPERIMENT_NAME\"]=model_name"
   ]
  },
  {
   "cell_type": "markdown",
   "id": "77329709-b195-4b30-8d11-333b0ddb35d4",
   "metadata": {
    "tags": []
   },
   "source": [
    "## Training"
   ]
  },
  {
   "cell_type": "markdown",
   "id": "7c3efff3-ac5d-46ce-b5b0-49bf5d420025",
   "metadata": {},
   "source": [
    "### Run name in Mlflow\n",
    "Your must set a run name in mlflow in order to identify this run."
   ]
  },
  {
   "cell_type": "code",
   "execution_count": null,
   "id": "b9d7b63d-765c-4b15-b0f0-6667f4da68fb",
   "metadata": {
    "tags": []
   },
   "outputs": [],
   "source": [
    "# Creating a box layout for better widget organization\n",
    "box_layout = widgets.Layout(display='flex',\n",
    "                            flex_flow='row',\n",
    "                            justify_content='space-between',\n",
    "                            width='50%')\n",
    "\n",
    "# Text input widget\n",
    "run_name_text = widgets.Text(\n",
    "    description='Run Name:',\n",
    "    style={'description_width': 'initial'},\n",
    "    layout=widgets.Layout(flex='2 1 auto', width='auto')\n",
    ")\n",
    "\n",
    "# Button widget\n",
    "button = widgets.Button(description=\"Save\",\n",
    "                        button_style='primary',  # Apply a Bootstrap theme\n",
    "                        layout=widgets.Layout(flex='1 1 auto', width='auto'))\n",
    "\n",
    "# Function to handle button click\n",
    "def on_button_clicked(b):\n",
    "    print(\"Saved text: \", text.value)\n",
    "\n",
    "# Linking the button click event to the function\n",
    "button.on_click(on_button_clicked)\n",
    "\n",
    "# Using a VBox for vertical stacking of widgets\n",
    "widget_box = widgets.VBox([run_name_text, button], layout=box_layout)\n",
    "\n",
    "# Displaying the widgets\n",
    "display(widget_box)"
   ]
  },
  {
   "cell_type": "code",
   "execution_count": null,
   "id": "b8a636a2-509d-4237-8df2-b936665fcdb4",
   "metadata": {
    "tags": []
   },
   "outputs": [],
   "source": [
    "## hyperparameters \n",
    "lr=2e-5\n",
    "train_batch_size= 10\n",
    "eval_batch_size=10\n",
    "epochs=1\n",
    "decay=0.01\n",
    "eval_strategy=\"epoch\"\n",
    "log_strategy=\"epoch\""
   ]
  },
  {
   "cell_type": "code",
   "execution_count": null,
   "id": "352b826f-e3fa-4d6d-9cb1-a1f205585698",
   "metadata": {
    "tags": []
   },
   "outputs": [],
   "source": [
    "training_args = TrainingArguments(\n",
    "    hub_model_id=model_name,\n",
    "    output_dir=run_name_text.value,\n",
    "    learning_rate=lr,\n",
    "    per_device_train_batch_size=train_batch_size,\n",
    "    per_device_eval_batch_size=eval_batch_size,\n",
    "    num_train_epochs=epochs,\n",
    "    weight_decay=decay,\n",
    "    evaluation_strategy=eval_strategy,\n",
    "    logging_strategy=log_strategy,\n",
    ")\n",
    "\n",
    "trainer = Trainer(\n",
    "    model=model,\n",
    "    args=training_args,\n",
    "    train_dataset=tokenized_train,\n",
    "    tokenizer=tokenizer,\n",
    "    data_collator=data_collator,\n",
    "    compute_metrics=compute_metrics,\n",
    "    eval_dataset=tokenized_test\n",
    ")"
   ]
  },
  {
   "cell_type": "code",
   "execution_count": null,
   "id": "c417a67c-6bcc-4be0-aef6-c4b50aac503d",
   "metadata": {
    "tags": []
   },
   "outputs": [],
   "source": [
    "import mlflow\n",
    "\n",
    "mlflow.set_tracking_uri(os.environ.get(\"MLFLOW_TRACKING_URI\"))\n",
    "mlflow.set_experiment(model_name)"
   ]
  },
  {
   "cell_type": "code",
   "execution_count": null,
   "id": "9cd8554c-e0de-4f83-9802-c5c0f35e41fd",
   "metadata": {
    "tags": []
   },
   "outputs": [],
   "source": [
    "### Fine tune model\n",
    "\n",
    "trainer.train()"
   ]
  },
  {
   "cell_type": "markdown",
   "id": "1fef042c-4743-4404-922d-480b041c8da8",
   "metadata": {},
   "source": [
    "### Batch size per epoch\n",
    "\n",
    "So if you have a batch size of 20 then \n",
    "\n",
    "total_dataset/batch_size = n\n",
    "\n",
    "n represents the total amount of batches per epoch\n",
    "\n",
    "### How many times does my model going to be trained?\n",
    "\n",
    "n*epochs"
   ]
  },
  {
   "cell_type": "code",
   "execution_count": null,
   "id": "c5f1dc20-5fcd-4f8d-9cc7-e39184bda1df",
   "metadata": {
    "tags": []
   },
   "outputs": [],
   "source": [
    "## Save pytorch \n",
    "trainer.save_model(model_name)"
   ]
  },
  {
   "cell_type": "code",
   "execution_count": null,
   "id": "0153b8b0-d9aa-47a7-9cc3-cd0a49bcf655",
   "metadata": {
    "tags": []
   },
   "outputs": [],
   "source": [
    "experiment = mlflow.get_experiment_by_name(model_name)\n",
    "filter_string = f\"tags.mlflow.runName = '{run_name_text.value}'\"\n",
    "runs = mlflow.search_runs(\n",
    "    experiment_ids=[experiment.experiment_id],\n",
    "    filter_string=filter_string\n",
    ")\n",
    "\n",
    "# Extract the run_id from the DataFrame\n",
    "if not runs.empty:\n",
    "    previous_run_id = runs.iloc[0]['run_id']\n",
    "    print(f\"Run ID: {previous_run_id}\")\n",
    "else:\n",
    "    print(\"No run found with the specified name.\")"
   ]
  },
  {
   "cell_type": "code",
   "execution_count": null,
   "id": "d34eacb0-078b-42cb-a60b-299244f43657",
   "metadata": {
    "tags": []
   },
   "outputs": [],
   "source": [
    "import mlflow.data\n",
    "from mlflow.data.pandas_dataset import PandasDataset\n",
    "from optimum.intel import OVModelForSequenceClassification"
   ]
  },
  {
   "cell_type": "code",
   "execution_count": null,
   "id": "3e7cfee9-2f8e-48ec-956e-d7caa5491189",
   "metadata": {
    "tags": []
   },
   "outputs": [],
   "source": [
    "def uploadModel(model_server:str,run_id:str):\n",
    "    train_dataset: PandasDataset = mlflow.data.from_pandas(df_train, source=\"Label Studio\")\n",
    "    test_dataset: PandasDataset = mlflow.data.from_pandas(df_test, source=\"Label Studio\")\n",
    "    with mlflow.start_run(run_id=previous_run_id) as run:\n",
    "        if(model_server.lower() == \"seldon\"):\n",
    "            model = AutoModelForSequenceClassification.from_pretrained(f\"./{model_name}\",num_labels=len(label2id),id2label=id2label, label2id=label2id)\n",
    "            tokenizer = AutoTokenizer.from_pretrained(f\"./{model_name}\")\n",
    "            components = {\n",
    "                   \"model\": model,\n",
    "                   \"tokenizer\": tokenizer,\n",
    "                }\n",
    "            mlflow.transformers.log_model(\n",
    "                      transformers_model=components,\n",
    "                      artifact_path=model_name,\n",
    "                      task=\"text-classification\",\n",
    "                      registered_model_name=model_name\n",
    "                )\n",
    "        if (model_server.lower()==\"openvino\"):\n",
    "            ov_model= OVModelForSequenceClassification.from_pretrained(model_name,export=True)\n",
    "            ov_model.save_pretrained(f\"{model_name}_openvino\")\n",
    "            tmp_dir = Path(f\"{model_name}_openvino\")\n",
    "            mlflow.log_artifacts(tmp_dir, artifact_path=model_name)\n",
    "        mlflow.log_input(train_dataset, context=\"training\")\n",
    "        mlflow.log_input(test_dataset,context=\"test\")\n",
    "        mlflow.end_run()"
   ]
  },
  {
   "cell_type": "code",
   "execution_count": null,
   "id": "31a82b4c-72fa-4c54-bc4c-69893a82007a",
   "metadata": {
    "tags": []
   },
   "outputs": [],
   "source": [
    "### Add a description, some tags & used dataset to the run \n",
    "description = \"Model for copa to identify intents\"\n",
    "\n",
    "model_tags = {\n",
    "    \"type\": \"text-classification\",\n",
    "    \"framework\": \"transformers\"\n",
    "}\n",
    "\n",
    "version_tags = {\n",
    "    \"type\":\"text-classification\",\n",
    "    \"framework\":\"transformers\"\n",
    "}\n",
    "\n",
    "client = mlflow.client.MlflowClient()\n",
    "client.update_registered_model(model_name,description=description)\n",
    "\n",
    "for key, value in model_tags.items():\n",
    "    client.set_registered_model_tag(model_name, key, value)"
   ]
  },
  {
   "cell_type": "markdown",
   "id": "66df1d23-3d8c-44b9-aa58-59d2e181e224",
   "metadata": {
    "tags": []
   },
   "source": [
    "## Upload all remaining files to s3 and delete them"
   ]
  },
  {
   "cell_type": "code",
   "execution_count": null,
   "id": "943c5e2c-cd92-4df0-8e82-a1587f5ba835",
   "metadata": {
    "tags": []
   },
   "outputs": [],
   "source": [
    "## Delete directories in Jupyter Notebook\n",
    "import shutil\n",
    "\n",
    "# Remove the local model directory\n",
    "shutil.rmtree(model_name)\n",
    "os.remove(labeled_dataset)\n",
    "shutil.rmtree(f\"{model_name}_openvino\")\n",
    "os.remove(\"datasets/label2id.json\")\n",
    "os.remove(\"datasets/id2label.json\")"
   ]
  },
  {
   "cell_type": "markdown",
   "id": "11f2a2b2-6e8e-47ce-bbe0-83d82a88548e",
   "metadata": {},
   "source": [
    "---"
   ]
  }
 ],
 "metadata": {
  "kernelspec": {
   "display_name": "Python 3.9",
   "language": "python",
   "name": "python3"
  },
  "language_info": {
   "codemirror_mode": {
    "name": "ipython",
    "version": 3
   },
   "file_extension": ".py",
   "mimetype": "text/x-python",
   "name": "python",
   "nbconvert_exporter": "python",
   "pygments_lexer": "ipython3",
   "version": "3.9.18"
  }
 },
 "nbformat": 4,
 "nbformat_minor": 5
}
