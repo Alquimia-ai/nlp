{
 "cells": [
  {
   "attachments": {
    "351cec3c-aebb-4b8f-9a35-1011aa689695.png": {
     "image/png": "[encoded data removed]"
    }
   },
   "cell_type": "markdown",
   "id": "ed9d52a3-9617-426a-ab32-3fdfe148976e",
   "metadata": {},
   "source": [
    "**LoRA** makes a small change in the fine-tuning process. Instead of computing gradients for all the entries in W (which is huge), and updating all the parameters, it’s algorithm works as follows:\n",
    "- Freeze the original parameters W at the start of fine-tuning.\n",
    "- Decomposes W into two smaller matrices A and B, and update these two small matrices during fine-tuning. The decomposed matrices are significantly smaller in size than the original weight matrix W, and can easily fit into the memory. The decomposition is done in such a way that we can regenerate W from A and B. Basically A and B are LD, so the resulting LI matrix (That it is W) can be composed from A and B\n",
    "- Once fine-tuning is completed, the smaller matrices A and B get adapted for the specific task.\n",
    "- The important thing to note here is that the pretrained weights are not changed during this process as they were frozen by LoRA. The question arises now that how do we use the adapted matrices A and B to do the inference on a new input. Previously with normal finetuning/pretraining, if input to the model was x, the output of layer used to be W.x. But after fine-tuning the model with LoRA, the updated inference equation is:\n",
    "\n",
    "![image.png](attachment:351cec3c-aebb-4b8f-9a35-1011aa689695.png)\n",
    "\n",
    "where 𝑥 is the input, 𝑊 represents model parameters, 𝐵 and 𝐴 represent low-rank adapters trained during LoRA fine-tunin"
   ]
  },
  {
   "cell_type": "markdown",
   "id": "f1661030-b75f-43b7-9b5e-6e086340381d",
   "metadata": {},
   "source": [
    "The amount of memory saved depends on the rank r, a hyperparameter. For instance, if ΔW has 10,000 rows and 20,000 columns, it holds 200,000,000 parameters. Choosing A and B with r=8, A would have 10,000 rows and 8 columns, and B would have 8 rows and 20,000 columns, resulting in 10,000×8 + 8×20,000 = 240,000 parameters, which is approximately 830 times fewer than 200,000,000."
   ]
  },
  {
   "cell_type": "code",
   "execution_count": null,
   "id": "9050ad03-8ea6-43d7-a479-879344204498",
   "metadata": {
    "tags": []
   },
   "outputs": [],
   "source": [
    "!pip install peft boto3 bitsandbytes -q"
   ]
  },
  {
   "cell_type": "code",
   "execution_count": null,
   "id": "c1f84417-aa82-4890-8b8b-89e7bbbaa6bc",
   "metadata": {},
   "outputs": [],
   "source": [
    "import torch\n",
    "\n",
    "if torch.device.is_cuda_available():\n",
    "    print(\"Using CUDA cores\")\n",
    "else\n",
    "    print(\"Using CPU cores\")\n",
    "    \n",
    "print(f\"PyTorch version: {torch.__version__}\")"
   ]
  },
  {
   "cell_type": "markdown",
   "id": "20e50f67-b8ba-4d66-a219-27ce05d36b4d",
   "metadata": {},
   "source": [
    "### The rank in LoRa Fine tuning\n",
    "A higher rank means a greater number of trainable parameters in our model, making fine-tuning more memory intensive. However, higher ranks retain more information from the original weight matrix, as the decomposed matrices themselves are large and capture most of the essence of W (i.e., the model becomes more expressive). We can say that, as the rank increases, LORA essentially converges toward normal fine-tuning.\n",
    "### Alpha in LoRa\n",
    "A higher “alpha” would place more emphasis on the low-rank structure or regularization, while a lower “alpha” would reduce its influence, making the model rely more on the original parameters. Adjusting “alpha” helps in striking a balance between fitting the data and preventing overfitting by regularizing the model."
   ]
  },
  {
   "cell_type": "markdown",
   "id": "7ec85936-8e3f-4f47-b817-2bc6fcb03dbb",
   "metadata": {},
   "source": [
    "As a rule of thumb, it’s usually common to choose an alpha that is twice as large as the rank when fine-tuning LLMs (note that this is different when working with diffusion models)."
   ]
  },
  {
   "cell_type": "code",
   "execution_count": null,
   "id": "e298f1c5-6c93-4fb5-808b-8bbe1d40a32f",
   "metadata": {
    "tags": []
   },
   "outputs": [],
   "source": [
    "from peft import LoraConfig\n",
    "import os\n",
    "\n",
    "### A sweet pot for LoRa is r=8\n",
    "lora_config = LoraConfig(\n",
    "    r=8,\n",
    "    target_modules=[\"q_proj\", \"o_proj\", \"k_proj\", \"v_proj\", \"gate_proj\", \"up_proj\", \"down_proj\"],\n",
    "    task_type=\"CAUSAL_LM\",\n",
    "    lora_alpha=16\n",
    ")"
   ]
  },
  {
   "cell_type": "code",
   "execution_count": null,
   "id": "817086f9-9c14-4adc-8bed-a0c458335821",
   "metadata": {
    "tags": []
   },
   "outputs": [],
   "source": [
    "import getpass\n",
    " \n",
    "try:\n",
    "    p = getpass.getpass()\n",
    "except Exception as error:\n",
    "    print('ERROR', error)\n",
    "else:\n",
    "    print('Hf token set succesfully')\n",
    "    os.environ[\"HF_TOKEN\"]= p"
   ]
  },
  {
   "cell_type": "code",
   "execution_count": null,
   "id": "2743d929-bf6c-4335-b2e9-e8391428f6e3",
   "metadata": {
    "tags": []
   },
   "outputs": [],
   "source": [
    "import os\n",
    "\n",
    "s3_endpoint = os.environ[\"AWS_S3_ENDPOINT\"]\n",
    "s3_secret = os.environ[\"AWS_SECRET_ACCESS_KEY\"]\n",
    "s3_access_key = os.environ[\"AWS_ACCESS_KEY_ID\"]"
   ]
  },
  {
   "cell_type": "code",
   "execution_count": null,
   "id": "ce6afdad-b1b4-4bde-b447-78e9c8aa8618",
   "metadata": {
    "tags": []
   },
   "outputs": [],
   "source": [
    "import boto3\n",
    "from tqdm import tqdm\n",
    "import json\n",
    "## Load dataset\n",
    "if s3_access_key is None: raise TypeError(f\"'S3_ACCESS_KEY_ID' env variable is not set\")\n",
    "if s3_secret is None: raise TypeError(f\"'S3_SECRET_ACCESS_KEY' env variable is not set\")\n",
    "\n",
    "# Enter the bucket and model name\n",
    "bucket_name = input(\"Enter bucket name:\")\n",
    "model_name = input(\"Enter model name:\")\n",
    "\n",
    "if bucket_name == \"\": raise TypeError(f\"'bucket_name' input variable is empty\")\n",
    "if model_name == \"\": raise TypeError(f\"'model_name' input variable is empty\")\n",
    "\n",
    "full_path = f\"{bucket_name}/datasets/labeled/gemma/{model_name}\"\n",
    "\n",
    "print(\"\\nConnecting to S3 in path: \"+ full_path)\n",
    "\n",
    "# Initialize session and client with boto3\n",
    "session = boto3.session.Session()\n",
    "s3_client = session.client('s3',\n",
    "                           region_name='nyc3',\n",
    "                           endpoint_url=s3_endpoint,\n",
    "                           aws_access_key_id=s3_access_key,\n",
    "                           aws_secret_access_key=s3_secret\n",
    "                          )\n",
    "# Initialize paginator\n",
    "paginator=s3_client.get_paginator('list_objects_v2')\n",
    "pages=paginator.paginate(Bucket=bucket_name,Prefix=f\"datasets/labeled/gemma/{model_name}\")\n",
    "i=0\n",
    "dataset=[]\n",
    "for page in pages:\n",
    "    page_objects = page.get('Contents', [])\n",
    "    for obj in tqdm(page_objects,desc=\"Loading dataset\"):\n",
    "        data = s3_client.get_object(Bucket=bucket_name, Key=obj.get('Key'))\n",
    "        content =(data['Body'].read()).decode(\"utf-8\")\n",
    "        if(i>0 and type(content) is str):\n",
    "            annotation = json.loads(content)\n",
    "            results=annotation.get(\"result\")\n",
    "            if(len(results) <= 0):\n",
    "                continue\n",
    "            data = annotation.get(\"task\").get(\"data\")\n",
    "            instruction= data.get(\"input\")\n",
    "            context = data.get(\"input2\")\n",
    "            response = results[0].get(\"value\").get(\"text\")[0]\n",
    "            dataset.append(\n",
    "                {\n",
    "                    \"instruction\":instruction,\n",
    "                    \"context\":context,\n",
    "                    \"response\":response\n",
    "                }\n",
    "            )\n",
    "        i+=1"
   ]
  },
  {
   "cell_type": "code",
   "execution_count": null,
   "id": "8b3b9a98-a3e4-41c9-b71f-e63724caa422",
   "metadata": {
    "tags": []
   },
   "outputs": [],
   "source": [
    "import pandas as pd\n",
    "pd.__version__"
   ]
  },
  {
   "cell_type": "code",
   "execution_count": null,
   "id": "c6497a3c-f9bf-4f21-b682-239a42b2d1d7",
   "metadata": {
    "tags": []
   },
   "outputs": [],
   "source": [
    "## Parse to dataframe from pandas and show first 3\n",
    "df = pd.DataFrame(dataset)\n",
    "df.head(3)"
   ]
  },
  {
   "cell_type": "markdown",
   "id": "852e383c-3e92-4e45-bd73-23ebc6340dce",
   "metadata": {},
   "source": [
    "### Check how is performing the base model without PEFT "
   ]
  },
  {
   "cell_type": "code",
   "execution_count": null,
   "id": "526ebb82-e964-4295-b442-fef4c511fa84",
   "metadata": {
    "tags": []
   },
   "outputs": [],
   "source": [
    "import torch\n",
    "from transformers import AutoTokenizer, AutoModelForCausalLM, BitsAndBytesConfig\n",
    "\n",
    "model_id = \"google/gemma-2b\"\n",
    "bnb_config = BitsAndBytesConfig(\n",
    "    load_in_4bit=True,\n",
    "    bnb_4bit_quant_type=\"nf4\",\n",
    "    bnb_4bit_compute_dtype=torch.bfloat16\n",
    ")\n",
    "\n",
    "tokenizer = AutoTokenizer.from_pretrained(model_id, token=os.environ['HF_TOKEN'])\n",
    "model = AutoModelForCausalLM.from_pretrained(model_id, quantization_config=bnb_config, device_map={\"\":0}, token=os.environ['HF_TOKEN'])"
   ]
  },
  {
   "cell_type": "code",
   "execution_count": null,
   "id": "20a6d8d4-6ec8-47a5-8baa-5b80f9be7085",
   "metadata": {
    "tags": []
   },
   "outputs": [],
   "source": [
    "sample = df.iloc[0]\n",
    "instruction = sample[\"instruction\"]\n",
    "context = sample[\"context\"]\n",
    "print(\"Context:\\n\")\n",
    "print(f\"{context}\\n\")\n",
    "\n",
    "print(\"Instructions:\\n\")\n",
    "print(f\"{instruction}\\n\")"
   ]
  },
  {
   "cell_type": "code",
   "execution_count": null,
   "id": "166a8172-e106-4ee9-b229-90f387b74582",
   "metadata": {
    "tags": []
   },
   "outputs": [],
   "source": [
    "text = f\"Instructions:{instruction}\\nContext:{context}\\nResponse:\"\n",
    "device = \"cuda:0\"\n",
    "inputs = tokenizer(text, return_tensors=\"pt\").to(device)\n",
    "\n",
    "outputs = model.generate(**inputs,max_length=1000)\n",
    "response = tokenizer.decode(outputs[0], skip_special_tokens=True)"
   ]
  },
  {
   "cell_type": "code",
   "execution_count": null,
   "id": "6e128251-b461-4f02-917a-64d5d831e719",
   "metadata": {
    "tags": []
   },
   "outputs": [],
   "source": [
    "print(f\"EXPECTED ANSWER:\\n\")\n",
    "print(f\"{sample['response']}\\n\")\n",
    "\n",
    "print(f\"ANSWER:\")\n",
    "print(response)"
   ]
  },
  {
   "cell_type": "code",
   "execution_count": null,
   "id": "9d46c201-93a8-4c35-a643-97583e4433a6",
   "metadata": {},
   "outputs": [],
   "source": [
    "import transformers\n",
    "from trl import SFTTrainer\n",
    "\n",
    "def formatting_func(example):\n",
    "    ## Format text according dataset\n",
    "    text = f\"Instructions:{example[\"instruction\"]}\\nContext:{example[\"context\"]}\\nResponse:{example[\"response\"]}<eos>\"\n",
    "    return [text]\n",
    "\n",
    "trainer = SFTTrainer(\n",
    "    model=model,\n",
    "    train_dataset=df,\n",
    "    args=transformers.TrainingArguments(\n",
    "        per_device_train_batch_size=1,\n",
    "        gradient_accumulation_steps=4,\n",
    "        warmup_steps=2,\n",
    "        max_steps=10,\n",
    "        learning_rate=2e-4,\n",
    "        fp16=True,\n",
    "        logging_steps=1,\n",
    "        output_dir=\"outputs\",\n",
    "        optim=\"paged_adamw_8bit\"\n",
    "    ),\n",
    "    peft_config=lora_config,\n",
    "    formatting_func=formatting_func,\n",
    ")\n",
    "trainer.train()"
   ]
  }
 ],
 "metadata": {
  "kernelspec": {
   "display_name": "Python 3.9",
   "language": "python",
   "name": "python3"
  },
  "language_info": {
   "codemirror_mode": {
    "name": "ipython",
    "version": 3
   },
   "file_extension": ".py",
   "mimetype": "text/x-python",
   "name": "python",
   "nbconvert_exporter": "python",
   "pygments_lexer": "ipython3",
   "version": "3.9.18"
  }
 },
 "nbformat": 4,
 "nbformat_minor": 5
}
