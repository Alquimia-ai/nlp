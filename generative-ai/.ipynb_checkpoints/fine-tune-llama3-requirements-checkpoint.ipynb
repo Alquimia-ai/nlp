{
 "cells": [
  {
   "attachments": {
    "351cec3c-aebb-4b8f-9a35-1011aa689695.png": {
     "image/png": "[encoded data removed]"
    }
   },
   "cell_type": "markdown",
   "id": "ed9d52a3-9617-426a-ab32-3fdfe148976e",
   "metadata": {},
   "source": [
    "**LoRA** makes a small change in the fine-tuning process. Instead of computing gradients for all the entries in W (which is huge), and updating all the parameters, it’s algorithm works as follows:\n",
    "- Freeze the original parameters W at the start of fine-tuning.\n",
    "- Decomposes W into two smaller matrices A and B, and update these two small matrices during fine-tuning. The decomposed matrices are significantly smaller in size than the original weight matrix W, and can easily fit into the memory. The decomposition is done in such a way that we can regenerate W from A and B. Basically A and B are LD, so the resulting LI matrix (That it is W) can be composed from A and B\n",
    "- Once fine-tuning is completed, the smaller matrices A and B get adapted for the specific task.\n",
    "- The important thing to note here is that the pretrained weights are not changed during this process as they were frozen by LoRA. The question arises now that how do we use the adapted matrices A and B to do the inference on a new input. Previously with normal finetuning/pretraining, if input to the model was x, the output of layer used to be W.x. But after fine-tuning the model with LoRA, the updated inference equation is:\n",
    "\n",
    "![image.png](attachment:351cec3c-aebb-4b8f-9a35-1011aa689695.png)\n",
    "\n",
    "where 𝑥 is the input, 𝑊 represents model parameters, 𝐵 and 𝐴 represent low-rank adapters trained during LoRA fine-tunin"
   ]
  },
  {
   "cell_type": "markdown",
   "id": "f1661030-b75f-43b7-9b5e-6e086340381d",
   "metadata": {},
   "source": [
    "The amount of memory saved depends on the rank r, a hyperparameter. For instance, if ΔW has 10,000 rows and 20,000 columns, it holds 200,000,000 parameters. Choosing A and B with r=8, A would have 10,000 rows and 8 columns, and B would have 8 rows and 20,000 columns, resulting in 10,000×8 + 8×20,000 = 240,000 parameters, which is approximately 830 times fewer than 200,000,000."
   ]
  },
  {
   "cell_type": "code",
   "execution_count": null,
   "id": "6a5e5c9d-2457-476b-9dba-ad39e43aae66",
   "metadata": {
    "tags": []
   },
   "outputs": [],
   "source": [
    "!pip install torch==2.3.0 torchvision==0.18.0 torchaudio==2.3.0 --index-url https://download.pytorch.org/whl/cu121"
   ]
  },
  {
   "cell_type": "code",
   "execution_count": null,
   "id": "8a3bfb95-591b-4ed6-a231-423371bfcbf2",
   "metadata": {
    "tags": []
   },
   "outputs": [],
   "source": [
    "!pip install \"unsloth[colab-new] @ git+https://github.com/unslothai/unsloth.git\""
   ]
  },
  {
   "cell_type": "code",
   "execution_count": null,
   "id": "d45a839a-9e9a-4de1-939d-0f95461114f9",
   "metadata": {
    "tags": []
   },
   "outputs": [],
   "source": [
    "!pip install --no-deps \"xformers<0.0.27\" \"trl<0.9.0\" peft accelerate bitsandbytes"
   ]
  },
  {
   "cell_type": "code",
   "execution_count": null,
   "id": "4d8f161f-72b2-4e92-98b8-a731c6c548b2",
   "metadata": {
    "tags": []
   },
   "outputs": [],
   "source": [
    "import torch\n",
    "from trl import SFTTrainer\n",
    "from datasets import load_dataset\n",
    "from transformers import TrainingArguments, TextStreamer\n",
    "from unsloth.chat_templates import get_chat_template\n",
    "from unsloth import FastLanguageModel, is_bfloat16_supported\n",
    "import pandas as pd\n",
    "import sklearn\n",
    "import triton"
   ]
  },
  {
   "cell_type": "markdown",
   "id": "5d19875d-8391-4ec9-99ae-fcf6f0d1473d",
   "metadata": {},
   "source": [
    "### Get env Ready\n",
    "Lets set the bucket name and model name where you have all your datasets"
   ]
  },
  {
   "cell_type": "code",
   "execution_count": null,
   "id": "46b7a0f4-a1a8-41c9-8d73-8b8feaca2e01",
   "metadata": {
    "tags": []
   },
   "outputs": [],
   "source": [
    "# Enter the bucket and model name\n",
    "bucket_name = input(\"Enter bucket name:\")\n",
    "model_name = input(\"Enter model name:\")"
   ]
  },
  {
   "cell_type": "code",
   "execution_count": null,
   "id": "33feb1f8-51e1-46cc-b752-dfe44e465969",
   "metadata": {
    "tags": []
   },
   "outputs": [],
   "source": [
    "class bcolors:\n",
    "    HEADER = '\\033[95m'\n",
    "    OKBLUE = '\\033[94m'\n",
    "    OKCYAN = '\\033[96m'\n",
    "    OKGREEN = '\\033[92m'\n",
    "    WARNING = '\\033[93m'\n",
    "    FAIL = '\\033[91m'\n",
    "    ENDC = '\\033[0m'\n",
    "    BOLD = '\\033[1m'\n",
    "    UNDERLINE = '\\033[4m'\n",
    "\n",
    "print(f\"{bcolors.HEADER} ---ENV REPORT-- {bcolors.ENDC}\")\n",
    "if torch.cuda.is_available():\n",
    "    print(f\"{bcolors.OKGREEN} CUDA {bcolors.ENDC} cores \")\n",
    "    print(f\"{bcolors.BOLD} GPUs: {torch.cuda.device_count()} {bcolors.ENDC}\\n\")\n",
    "else:\n",
    "    print(f\"{bcolors.OKBLUE} Using CPU cores {bcolors.ENDC}\")\n",
    "\n",
    "print(f\"{bcolors.OKCYAN}LIBRARIES{bcolors.ENDC}\")\n",
    "print(f\"PyTorch version: {torch.__version__}\")\n",
    "print(f\"Triton version: {triton.__version__}\")\n",
    "print(f\"Pandas version: {pd.__version__}\")\n",
    "print(f\"scikit-learn version: {sklearn.__version__}\")"
   ]
  },
  {
   "cell_type": "markdown",
   "id": "20e50f67-b8ba-4d66-a219-27ce05d36b4d",
   "metadata": {},
   "source": [
    "### The rank in LoRa Fine tuning\n",
    "A higher rank means a greater number of trainable parameters in our model, making fine-tuning more memory intensive. However, higher ranks retain more information from the original weight matrix, as the decomposed matrices themselves are large and capture most of the essence of W (i.e., the model becomes more expressive). We can say that, as the rank increases, LORA essentially converges toward normal fine-tuning.\n",
    "### Alpha in LoRa\n",
    "A higher “alpha” would place more emphasis on the low-rank structure or regularization, while a lower “alpha” would reduce its influence, making the model rely more on the original parameters. Adjusting “alpha” helps in striking a balance between fitting the data and preventing overfitting by regularizing the model."
   ]
  },
  {
   "cell_type": "markdown",
   "id": "7ec85936-8e3f-4f47-b817-2bc6fcb03dbb",
   "metadata": {},
   "source": [
    "As a rule of thumb, it’s usually common to choose an alpha that is twice as large as the rank when fine-tuning LLMs (note that this is different when working with diffusion models)."
   ]
  },
  {
   "cell_type": "code",
   "execution_count": null,
   "id": "8ce0bd2b-c04e-4e91-a009-c8f21db4bb47",
   "metadata": {
    "tags": []
   },
   "outputs": [],
   "source": [
    "## LoRa\n",
    "rank= 8\n",
    "alpha= 16\n",
    "dropout=0\n",
    "\n",
    "## Model\n",
    "model_id = \"unsloth/Meta-Llama-3.1-8B-Instruct-bnb-4bit\" ## Chose your preferred model\n",
    "\n",
    "max_seq_length = 2048\n",
    "model, tokenizer = FastLanguageModel.from_pretrained(\n",
    "    model_name=model_id,\n",
    "    max_seq_length=max_seq_length,\n",
    "    load_in_4bit=True,\n",
    "    dtype=None,\n",
    ")"
   ]
  },
  {
   "cell_type": "code",
   "execution_count": null,
   "id": "f45afa8d-280c-4f97-8350-7e7164f39a9c",
   "metadata": {
    "tags": []
   },
   "outputs": [],
   "source": [
    "# Print the configuration with colors\n",
    "print(f\"{bcolors.HEADER}## LoRa{bcolors.ENDC}\")\n",
    "print(f\"{bcolors.OKGREEN}rank{bcolors.ENDC} = {bcolors.OKBLUE}{rank}{bcolors.ENDC}\")\n",
    "print(f\"{bcolors.OKGREEN}alpha{bcolors.ENDC} = {bcolors.OKBLUE}{alpha}{bcolors.ENDC}\\n\")\n",
    "\n",
    "print(f\"{bcolors.HEADER}## Model{bcolors.ENDC}\")\n",
    "print(f\"{bcolors.OKGREEN}model_id{bcolors.ENDC} = {bcolors.OKBLUE}{model_id}{bcolors.ENDC}\")"
   ]
  },
  {
   "cell_type": "markdown",
   "id": "d1c4b0bf-0f2c-457d-b56f-c2db2863b42f",
   "metadata": {},
   "source": [
    "### Test the model without training"
   ]
  },
  {
   "cell_type": "code",
   "execution_count": null,
   "id": "67cdee4e-a25c-407a-ad5d-553d245e006f",
   "metadata": {
    "tags": []
   },
   "outputs": [],
   "source": [
    "model = FastLanguageModel.get_peft_model(\n",
    "    model,\n",
    "    r=rank,\n",
    "    lora_alpha=alpha,\n",
    "    lora_dropout=dropout,\n",
    "    target_modules=[\"q_proj\", \"k_proj\", \"v_proj\", \"up_proj\", \"down_proj\", \"o_proj\", \"gate_proj\"], \n",
    "    use_rslora=True,\n",
    "    use_gradient_checkpointing=\"unsloth\"\n",
    ")\n",
    "\n",
    "FastLanguageModel.for_inference(model)\n",
    "\n",
    "messages = [\n",
    "    {\"role\": \"human\", \"content\": \"Which is the best wine for fishes??\"},\n",
    "]\n",
    "\n",
    "inputs = tokenizer.apply_chat_template(\n",
    "    messages,\n",
    "    tokenize=True,\n",
    "    add_generation_prompt=True,\n",
    "    return_tensors=\"pt\",\n",
    ").to(\"cuda\")\n",
    "\n",
    "from transformers import TextStreamer\n",
    "text_streamer = TextStreamer(tokenizer)\n",
    "_ = model.generate(inputs, streamer = text_streamer, max_new_tokens = 128)"
   ]
  },
  {
   "cell_type": "markdown",
   "id": "35b581dd-1a3d-4f85-a5a2-728b104e3236",
   "metadata": {},
   "source": [
    "### Templating for tokenization\n",
    "When training the model we **must** set a template or use a custom one. In case we want to use a custom one feel free to do so, otherwise we can use one already established. For this iteration as we are using ```meta-llama/Meta-Llama-3.1-8B-Instruct``` we are using the instruct method"
   ]
  },
  {
   "cell_type": "code",
   "execution_count": null,
   "id": "417d7bb2-1f1f-4853-94fa-53446c59c8c8",
   "metadata": {
    "tags": []
   },
   "outputs": [],
   "source": [
    "import os\n",
    "s3_endpoint = os.environ[\"AWS_S3_ENDPOINT\"]\n",
    "s3_secret = os.environ[\"AWS_SECRET_ACCESS_KEY\"]\n",
    "s3_access_key = os.environ[\"AWS_ACCESS_KEY_ID\"]"
   ]
  },
  {
   "cell_type": "code",
   "execution_count": null,
   "id": "89ef224b-1378-4080-98e3-907b313f58c9",
   "metadata": {
    "tags": []
   },
   "outputs": [],
   "source": [
    "import ipywidgets as widgets\n",
    "from IPython.display import display\n",
    "\n",
    "# Create a dropdown widget\n",
    "data_type_widget = widgets.Dropdown(\n",
    "    options=['instructlab', 'labelstudio'],\n",
    "    value=None,\n",
    "    description='Dataset Format:',\n",
    "    style={'description_width': 'initial'}\n",
    ")\n",
    "\n",
    "# Display the dropdown\n",
    "display(data_type_widget)\n",
    "\n",
    "# Function to handle the selection\n",
    "def on_change(change):\n",
    "    global data_type\n",
    "    data_type = change['new']\n",
    "    print(f\"Selected format: {data_type}\")\n",
    "\n",
    "# Attach the function to the widget\n",
    "data_type_widget.observe(on_change, names='value')\n",
    "\n",
    "# Initial value of data_type\n",
    "data_type = None"
   ]
  },
  {
   "cell_type": "code",
   "execution_count": null,
   "id": "ca464a5c-b918-4bef-8a81-88f856f1bf35",
   "metadata": {
    "tags": []
   },
   "outputs": [],
   "source": [
    "if data_type == None:\n",
    "    raise Exception(\"No format for dataset has been setted\") \n",
    "print(f\"Using dataset with format: {data_type}\")"
   ]
  },
  {
   "cell_type": "code",
   "execution_count": null,
   "id": "997c24dc-aaa9-4186-ab5e-33fc0fceaa92",
   "metadata": {
    "tags": []
   },
   "outputs": [],
   "source": [
    "if s3_access_key is None: raise TypeError(f\"'S3_ACCESS_KEY_ID' env variable is not set\")\n",
    "if s3_secret is None: raise TypeError(f\"'S3_SECRET_ACCESS_KEY' env variable is not set\")"
   ]
  },
  {
   "cell_type": "code",
   "execution_count": null,
   "id": "3fc421e7-f126-44b2-8b3a-f602af00ce1a",
   "metadata": {
    "tags": []
   },
   "outputs": [],
   "source": [
    "if bucket_name == \"\": raise TypeError(f\"'bucket_name' input variable is empty\")\n",
    "if model_name == \"\": raise TypeError(f\"'model_name' input variable is empty\")"
   ]
  },
  {
   "cell_type": "code",
   "execution_count": null,
   "id": "1d564ef7-6a86-4c13-9f52-b2d867b3d301",
   "metadata": {
    "tags": []
   },
   "outputs": [],
   "source": [
    "tokenizer = get_chat_template(\n",
    "    tokenizer,\n",
    "    mapping={\"role\": \"from\", \"content\": \"value\", \"user\": \"human\", \"assistant\": \"gpt\"},\n",
    "    chat_template=\"chatml\",\n",
    ")"
   ]
  },
  {
   "cell_type": "code",
   "execution_count": null,
   "id": "b6dfcd23-a3ee-4417-9877-9e8ca7443459",
   "metadata": {
    "tags": []
   },
   "outputs": [],
   "source": [
    "### Load datasets\n",
    "import boto3\n",
    "from tqdm import tqdm\n",
    "import json\n",
    "\n",
    "\n",
    "session = boto3.session.Session()\n",
    "s3_client = session.client('s3',\n",
    "                           region_name='nyc3',\n",
    "                           endpoint_url=s3_endpoint,\n",
    "                           aws_access_key_id=s3_access_key,\n",
    "                           aws_secret_access_key=s3_secret\n",
    "                          )\n",
    "\n",
    "def load_instruct_lab():\n",
    "    ## Load under dataset variable\n",
    "    paginator=s3_client.get_paginator('list_objects_v2')\n",
    "    pages=paginator.paginate(Bucket=bucket_name,Prefix=f\"datasets/labeled/instructlab/{model_name}\")\n",
    "    i=0\n",
    "    dataset=[]\n",
    "    for page in pages:\n",
    "        page_objects = page.get('Contents', [])\n",
    "        for obj in tqdm(page_objects,desc=\"Loading instructlab jsonl\"):\n",
    "            data = s3_client.get_object(Bucket=bucket_name, Key=obj.get('Key'))\n",
    "            content =(data['Body'].read()).decode(\"utf-8\")\n",
    "            if(i>0 and type(content) is str):\n",
    "                jsonl = json.loads(content)\n",
    "                for row in jsonl:\n",
    "                    user_content= row[\"instruction\"]\n",
    "                    assistant_content=row[\"output\"]\n",
    "                    dataset.append({\n",
    "                        \"messages\":[\n",
    "                            {\n",
    "                                \"value\":user_content,\n",
    "                                \"from\":\"human\"\n",
    "                            },\n",
    "                            {\n",
    "                                \"value\":assistant_content,\n",
    "                                \"from\":\"gpt\"\n",
    "                            }\n",
    "                        ],\n",
    "                        \"prompt_id\":i,\n",
    "                        \"knowledge_base\":row[\"taxonomy_path\"]\n",
    "                    })\n",
    "            i+=1\n",
    "    return dataset"
   ]
  },
  {
   "cell_type": "code",
   "execution_count": null,
   "id": "b8717057-f292-438a-a8a8-bccca97007b6",
   "metadata": {
    "tags": []
   },
   "outputs": [],
   "source": [
    "from sklearn.model_selection import train_test_split\n",
    "from datasets import Dataset\n",
    "\n",
    "if data_type == \"instructlab\":\n",
    "    full_path = f\"{bucket_name}/datasets/labeled/instructlab/{model_name}\"\n",
    "    dataset = load_instruct_lab()\n",
    "    df = pd.DataFrame(dataset)\n",
    "    ### Load test & train datasets\n",
    "    dataframe = Dataset.from_pandas(df).train_test_split(test_size=0.2)\n",
    "    train_dataset= dataframe[\"train\"]\n",
    "    test_dataset=dataframe[\"test\"]\n",
    "else:\n",
    "    full_path = f\"{bucket_name}/datasets/labeled/llm/{model_name}\"\n",
    "    paginator=s3_client.get_paginator('list_objects_v2')\n",
    "    pages=paginator.paginate(Bucket=bucket_name,Prefix=f\"datasets/labeled/gemma/{model_name}\")\n",
    "    i=0\n",
    "    dataset=[]\n",
    "    for page in pages:\n",
    "        page_objects = page.get('Contents', [])\n",
    "        for obj in tqdm(page_objects,desc=\"Loading dataset\"):\n",
    "            data = s3_client.get_object(Bucket=bucket_name, Key=obj.get('Key'))\n",
    "            content =(data['Body'].read()).decode(\"utf-8\")\n",
    "            if(i>0 and type(content) is str):\n",
    "                annotation = json.loads(content)\n",
    "                results=annotation.get(\"result\")\n",
    "                if(len(results) <= 0):\n",
    "                    continue\n",
    "                data = annotation.get(\"task\").get(\"data\")\n",
    "                instruction= data.get(\"input\")\n",
    "                context = data.get(\"input2\")\n",
    "                response = results[0].get(\"value\").get(\"text\")[0]\n",
    "                dataset.append(\n",
    "                    {\n",
    "                        \"instruction\":instruction,\n",
    "                        \"context\":context,\n",
    "                        \"response\":response\n",
    "                    }\n",
    "                )\n",
    "            i+=1\n",
    "    raise Exception(\" Yet not implemented methodology apart from instructlab\")"
   ]
  },
  {
   "cell_type": "code",
   "execution_count": null,
   "id": "0231b871-fabd-4ee9-9334-bea89ba04433",
   "metadata": {
    "tags": []
   },
   "outputs": [],
   "source": [
    "first_sample = df.iloc[0]\n",
    "print(f\"Question: {first_sample['messages'][0]['value']}\\n\")\n",
    "print(f\"Answer: {first_sample['messages'][1]['value']}\\n\")\n",
    "print(f\"Knowledge base: {first_sample['knowledge_base']}\\n\")"
   ]
  },
  {
   "cell_type": "code",
   "execution_count": null,
   "id": "3a9c27e9-7200-49b4-86ff-cca2c3b0f753",
   "metadata": {
    "tags": []
   },
   "outputs": [],
   "source": [
    "from transformers import AutoTokenizer, TrainingArguments,BitsAndBytesConfig,AutoModelForCausalLM\n",
    "\n",
    "def apply_template(examples):\n",
    "    messages = examples[\"messages\"]\n",
    "    text = [tokenizer.apply_chat_template(message, tokenize=False, add_generation_prompt=False) for message in messages]\n",
    "    return {\"text\": text}\n",
    "    \n",
    "train_dataset = train_dataset.map(apply_template,batched=True)\n",
    "test_dataset = test_dataset.map(apply_template,batched=True)"
   ]
  },
  {
   "cell_type": "markdown",
   "id": "dda98109-36c6-4e77-a636-c415af7ea90e",
   "metadata": {},
   "source": [
    "- Batch size refers to the number of training samples processed before the model's internal parameters (weights) are updated.\n",
    "- Gradient accumulation is a technique where gradients are accumulated over several batches before updating the model weights.\n",
    "- This effectively increases the batch size without needing extra memory. For example, if you have a batch size of 2 and accumulate gradients over 4 steps, it is equivalent to having a batch size of 8 in terms of gradient calculation"
   ]
  },
  {
   "cell_type": "markdown",
   "id": "64d2f198-db5e-4a12-b6cc-e4213817c515",
   "metadata": {
    "tags": []
   },
   "source": [
    "During training, instead of updating the model weights after each batch, the gradients are accumulated over the specified number of batches (accumulation steps). After these steps, the accumulated gradients are used to update the model weights."
   ]
  },
  {
   "cell_type": "markdown",
   "id": "2a3c0378-da67-4fd9-b662-2aee2245c0aa",
   "metadata": {},
   "source": [
    "The goal of weight decay is to prevent the model from overfitting by discouraging the weights from growing too large, which can help improve generalization on unseen data."
   ]
  },
  {
   "cell_type": "markdown",
   "id": "0228cbfa-4554-459b-b48c-0954c5842144",
   "metadata": {},
   "source": [
    "Warmup steps refer to an initial phase in the training process of a neural network, where the learning rate starts at a lower value and gradually increases to a predetermined maximum value over a set number of iterations or steps. "
   ]
  },
  {
   "cell_type": "markdown",
   "id": "ed8aedfe-fb6c-41a9-938d-771a860b517c",
   "metadata": {},
   "source": [
    "Weight decay It involves adding a penalty to the loss function based on the magnitude of the model's weights. "
   ]
  },
  {
   "cell_type": "code",
   "execution_count": null,
   "id": "2f317f00-4d55-4194-81d1-de4d559289ef",
   "metadata": {
    "tags": []
   },
   "outputs": [],
   "source": [
    "import transformers\n",
    "from trl import SFTTrainer\n",
    "\n",
    "################\n",
    "# Training\n",
    "################\n",
    "training_args = transformers.TrainingArguments(\n",
    "    learning_rate=3e-4,\n",
    "    lr_scheduler_type=\"linear\",\n",
    "    per_device_train_batch_size=8,\n",
    "    per_device_eval_batch_size=8,\n",
    "    gradient_accumulation_steps=2,\n",
    "    num_train_epochs=2,\n",
    "    fp16=not is_bfloat16_supported(),\n",
    "    bf16=is_bfloat16_supported(),\n",
    "    logging_steps=10,\n",
    "    optim=\"adamw_8bit\",\n",
    "    weight_decay=0.01,\n",
    "    warmup_steps=10,\n",
    "    output_dir=\"outputs\",\n",
    "    seed=0,\n",
    "    evaluation_strategy=\"steps\",  # Can be \"steps\" or \"epoch\"\n",
    "    eval_steps=10,  # Perform evaluation every n steps\n",
    "    load_best_model_at_end=True,\n",
    "    metric_for_best_model=\"eval_loss\"\n",
    ")"
   ]
  },
  {
   "cell_type": "code",
   "execution_count": null,
   "id": "807299af-44b3-4471-93d7-ad4e4f96e6c1",
   "metadata": {
    "tags": []
   },
   "outputs": [],
   "source": [
    "trainer = SFTTrainer(\n",
    "    model=model,\n",
    "    tokenizer=tokenizer,\n",
    "    train_dataset=train_dataset,\n",
    "    eval_dataset=test_dataset,\n",
    "    dataset_text_field=\"text\",\n",
    "    max_seq_length=max_seq_length,\n",
    "    dataset_num_proc=2,\n",
    "    packing=False,\n",
    "    args=training_args,\n",
    ")"
   ]
  },
  {
   "cell_type": "code",
   "execution_count": null,
   "id": "df7dc18e-ab11-4414-ae28-8d7533ca3da0",
   "metadata": {
    "tags": []
   },
   "outputs": [],
   "source": [
    "### Check CUDA memory\n",
    "gpu_stats = torch.cuda.get_device_properties(0)\n",
    "start_gpu_memory = round(torch.cuda.max_memory_reserved() / 1024 / 1024 / 1024, 3)\n",
    "max_memory = round(gpu_stats.total_memory / 1024 / 1024 / 1024, 3)\n",
    "print(f\"GPU = {gpu_stats.name}. Max memory = {max_memory} GB.\")\n",
    "print(f\"{start_gpu_memory} GB of memory reserved.\")"
   ]
  },
  {
   "cell_type": "code",
   "execution_count": null,
   "id": "c1908849-2dc3-498f-8e35-bbc930a19bf8",
   "metadata": {},
   "outputs": [],
   "source": [
    "trainer.train()"
   ]
  },
  {
   "cell_type": "code",
   "execution_count": null,
   "id": "498500c8-7705-4754-833d-28754c85df10",
   "metadata": {
    "tags": []
   },
   "outputs": [],
   "source": [
    "### Check CUDA memory\n",
    "gpu_stats = torch.cuda.get_device_properties(0)\n",
    "start_gpu_memory = round(torch.cuda.max_memory_reserved() / 1024 / 1024 / 1024, 3)\n",
    "max_memory = round(gpu_stats.total_memory / 1024 / 1024 / 1024, 3)\n",
    "print(f\"GPU = {gpu_stats.name}. Max memory = {max_memory} GB.\")\n",
    "print(f\"{start_gpu_memory} GB of memory reserved.\")"
   ]
  },
  {
   "cell_type": "code",
   "execution_count": null,
   "id": "5947d589-b1a3-4819-9e38-b0b5eba47f72",
   "metadata": {},
   "outputs": [],
   "source": [
    "model.save_pretrained_merged(\"model\", tokenizer, save_method=\"merged_16bit\")"
   ]
  },
  {
   "cell_type": "code",
   "execution_count": null,
   "id": "22547c06-2357-4110-b2d5-d678071a1861",
   "metadata": {
    "tags": []
   },
   "outputs": [],
   "source": [
    "### Flush CUDA memory\n",
    "import gc\n",
    "torch.cuda.empty_cache()\n",
    "gc.collect()"
   ]
  },
  {
   "cell_type": "code",
   "execution_count": null,
   "id": "c2ec4f58-7199-437b-b60d-a24004481223",
   "metadata": {
    "tags": []
   },
   "outputs": [],
   "source": [
    "### Check CUDA memory\n",
    "gpu_stats = torch.cuda.get_device_properties(0)\n",
    "start_gpu_memory = round(torch.cuda.max_memory_reserved() / 1024 / 1024 / 1024, 3)\n",
    "max_memory = round(gpu_stats.total_memory / 1024 / 1024 / 1024, 3)\n",
    "print(f\"GPU = {gpu_stats.name}. Max memory = {max_memory} GB.\")\n",
    "print(f\"{start_gpu_memory} GB of memory reserved.\")"
   ]
  },
  {
   "cell_type": "code",
   "execution_count": null,
   "id": "352dec09-7f6a-48c7-9a7f-6aaf777d2d05",
   "metadata": {},
   "outputs": [],
   "source": [
    "FastLanguageModel.for_inference(model)\n",
    "\n",
    "messages = [\n",
    "    {\"from\": \"human\", \"value\": \"Which is the best wine to eat with fish??\"},\n",
    "]\n",
    "\n",
    "inputs = tokenizer.apply_chat_template(\n",
    "    messages,\n",
    "    tokenize=True,\n",
    "    add_generation_prompt=True,\n",
    "    return_tensors=\"pt\",\n",
    ").to(\"cuda\")"
   ]
  },
  {
   "cell_type": "code",
   "execution_count": null,
   "id": "b26404ac-826b-46d1-9aaf-83c189c467e4",
   "metadata": {
    "tags": []
   },
   "outputs": [],
   "source": [
    "from transformers import TextStreamer\n",
    "text_streamer = TextStreamer(tokenizer)\n",
    "_ = model.generate(inputs, streamer = text_streamer, max_new_tokens = 300)"
   ]
  },
  {
   "cell_type": "code",
   "execution_count": null,
   "id": "8257c7f8-45e9-4fe0-9f80-1af11a80e1d0",
   "metadata": {
    "tags": []
   },
   "outputs": [],
   "source": [
    "FastLanguageModel.for_inference(model)\n",
    "\n",
    "messages = [\n",
    "    {\"from\": \"human\", \"value\": \"¿Cuál es el tipo de vino apropiado para acompañar el marisco?\"},\n",
    "]\n",
    "\n",
    "inputs = tokenizer.apply_chat_template(\n",
    "    messages,\n",
    "    tokenize=True,\n",
    "    add_generation_prompt=True,\n",
    "    return_tensors=\"pt\",\n",
    ").to(\"cuda\")"
   ]
  },
  {
   "cell_type": "code",
   "execution_count": null,
   "id": "6d65761b-c7ab-45f1-9847-a3c3c3c39913",
   "metadata": {
    "tags": []
   },
   "outputs": [],
   "source": [
    "from transformers import TextStreamer\n",
    "text_streamer = TextStreamer(tokenizer)\n",
    "_ = model.generate(inputs, streamer = text_streamer, max_new_tokens = 300)"
   ]
  },
  {
   "cell_type": "code",
   "execution_count": null,
   "id": "85c4e420-317c-4f7a-9eaf-8257f3ff823d",
   "metadata": {},
   "outputs": [],
   "source": []
  }
 ],
 "metadata": {
  "kernelspec": {
   "display_name": "Python 3.9",
   "language": "python",
   "name": "python3"
  },
  "language_info": {
   "codemirror_mode": {
    "name": "ipython",
    "version": 3
   },
   "file_extension": ".py",
   "mimetype": "text/x-python",
   "name": "python",
   "nbconvert_exporter": "python",
   "pygments_lexer": "ipython3",
   "version": "3.9.18"
  }
 },
 "nbformat": 4,
 "nbformat_minor": 5
}
